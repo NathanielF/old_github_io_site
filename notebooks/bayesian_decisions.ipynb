{
 "cells": [
  {
   "cell_type": "markdown",
   "metadata": {
    "toc": true
   },
   "source": [
    "<h1>Table of Contents<span class=\"tocSkip\"></span></h1>\n",
    "<div class=\"toc\"><ul class=\"toc-item\"><li><span><a href=\"#Bayesian-Decisions\" data-toc-modified-id=\"Bayesian-Decisions-1\"><span class=\"toc-item-num\">1&nbsp;&nbsp;</span>Bayesian Decisions</a></span><ul class=\"toc-item\"><li><span><a href=\"#The-Neyman-Pearson-Lemma-and-Optimality-arguments.\" data-toc-modified-id=\"The-Neyman-Pearson-Lemma-and-Optimality-arguments.-1.1\"><span class=\"toc-item-num\">1.1&nbsp;&nbsp;</span>The Neyman Pearson Lemma and Optimality arguments.</a></span><ul class=\"toc-item\"><li><span><a href=\"#Loss-functions,-Dominance-Arguments-and-Ratio-Tests\" data-toc-modified-id=\"Loss-functions,-Dominance-Arguments-and-Ratio-Tests-1.1.1\"><span class=\"toc-item-num\">1.1.1&nbsp;&nbsp;</span>Loss functions, Dominance Arguments and Ratio Tests</a></span></li><li><span><a href=\"#The-Lemma:-True-Positive-and-False-Postive-Rates\" data-toc-modified-id=\"The-Lemma:-True-Positive-and-False-Postive-Rates-1.1.2\"><span class=\"toc-item-num\">1.1.2&nbsp;&nbsp;</span>The Lemma: True Positive and False Postive Rates</a></span></li></ul></li></ul></li><li><span><a href=\"#Example:-Supply-Chain\" data-toc-modified-id=\"Example:-Supply-Chain-2\"><span class=\"toc-item-num\">2&nbsp;&nbsp;</span>Example: Supply Chain</a></span></li></ul></div>"
   ]
  },
  {
   "cell_type": "code",
   "execution_count": 1,
   "metadata": {
    "ExecuteTime": {
     "end_time": "2021-04-26T21:14:26.896314Z",
     "start_time": "2021-04-26T21:14:26.889348Z"
    },
    "collapsed": true
   },
   "outputs": [],
   "source": [
    "import pymc3\n",
    "import pandas as pd\n",
    "import numpy as np\n",
    "\n",
    "%matplotlib inline\n",
    "\n",
    "import pymc3 as pm\n",
    "import theano.tensor as tt\n",
    "import pandas as pd\n",
    "import numpy as np\n",
    "from scipy import stats\n",
    "import arviz as az\n",
    "import matplotlib.pyplot as plt"
   ]
  },
  {
   "cell_type": "markdown",
   "metadata": {},
   "source": [
    "# Bayesian Decisions\n",
    "\n",
    "Without being overwhelmed we face an infinite horizon of future decisions. Most are made under uncertainty. A sequence of such decisions can compound or reduce that certainty, but we focus on the exaggerated drama of the momentous choice. Even when change is gradual and cumulative, history tells of a tale of pivot points, epic junctures and transformative events. Two paths diverge in a woods and we choose one. An array of possibilities suddenly open before us or collapse into a *cul de sac*. We weigh the options differently according to our needs and desires. Seeking to maximise our expected gains Leonard J. Savage showed that the optimal weights on each choice are proportional to their probabilities. In particular, he showed that if we reason with probabilities our outcomes will the dominate all other methods for mitigating uncertainty. \n",
    "\n",
    "## The Neyman Pearson Lemma and Optimality arguments.\n",
    "\n",
    "Not all problems can be expressed with a generative probability model. More pertinently, even if the problem is expressable, it is a fine art to aptly approximate the real process in the lexicon of familiar probability distributions. But there are benefits to the effort. A probability model allows direct comparisons of theories about the data. If we postulate some explanatory theory which is parameterised with the vector $\\mathbf{T_{\\beta}}$, where $\\beta$ is governed by an explicit probability model then we are able to state the ratio of likelihoods for any observed data comparing theories $\\mathbf{T_{\\beta}}, \\mathbf{T_{\\beta^{1}}}$.\n",
    "\n",
    "$$ \\frac{p( D | \\mathbf{T}_{\\beta^{1}})}{p(D | \\mathbf{T}_{\\beta})} $$\n",
    "\n",
    "This style of comparison underwrites most decision rules as we set bounds on acceptable divergences. In particular, we see how the special case of the Neyman Pearson lemma (which underwrites most simple hypothesis testing) is an instance of a just such a liklihood ratio comparison. We follow the presentation of Moritz Hardt and Benjamin Recht in their *Patterns, Prediction and Actions*.\n",
    "\n",
    "### Loss functions, Dominance Arguments and Ratio Tests\n",
    "Imagine we frame the cost or loss of incorrectly choosing amongst our theories under uncertainty.Then the question becomes one of expected loss. Define $l(T, T_1)$ as the loss incurred when choosing $T$ when $T_1$ is true. Then the expected loss in light of the data is calculated as:\n",
    "\n",
    "\n",
    "$$ (1):  E(l(T_{\\beta} , T) | D) = \n",
    "l(T_{\\beta} , T_{\\beta})p(T_{\\beta} | D) + l(T_{\\beta} , T_{\\beta^{1}})p(T_{\\beta^{1}} | D) $$\n",
    "\n",
    "\n",
    "$$ (2):  E(l(T_{\\beta^{1}} , T) | D) = \n",
    "l(T_{\\beta^{1}} , T_{\\beta})p(T_{\\beta} | D) + l(T_{\\beta^{1}} , T_{\\beta^{1}})p(T_{\\beta^{1}} | D) $$\n",
    "\n",
    "We want to choose the theory with least expected loss. Assume (1) $\\geq$ (2), then\n",
    "\n",
    "$$ l(T_{\\beta} , T_{\\beta})p(T_{\\beta} | D) + l(T_{\\beta} , T_{\\beta^{1}})p(T_{\\beta^{1}} | D) \\geq l(T_{\\beta^{1}} , T_{\\beta})p(T_{\\beta} | D) + l(T_{\\beta^{1}} , T_{\\beta^{1}})p(T_{\\beta^{1}} | D) $$\n",
    "\n",
    "manipulating:\n",
    "\n",
    "$$ l(T_{\\beta} , T_{\\beta^{1}})p(T_{\\beta^{1}} | D) \\geq l(T_{\\beta^{1}} , T_{\\beta})p(T_{\\beta} | D) -  l(T_{\\beta} , T_{\\beta})p(T_{\\beta} | D) + l(T_{\\beta^{1}} , T_{\\beta^{1}})p(T_{\\beta^{1}} | D) $$\n",
    "\n",
    "grouping:\n",
    "\n",
    "$$ l(T_{\\beta} , T_{\\beta^{1}})p(T_{\\beta^{1}} | D) \\geq p(T_{\\beta} | D)(l(T_{\\beta^{1}} , T_{\\beta}) -  l(T_{\\beta} , T_{\\beta})) + l(T_{\\beta^{1}} , T_{\\beta^{1}})p(T_{\\beta^{1}} | D) $$\n",
    "\n",
    "rearraging:\n",
    "\n",
    "$$ (l(T_{\\beta} , T_{\\beta^{1}}) - l(T_{\\beta^{1}} , T_{\\beta^{1}}))p(T_{\\beta^{1}} | D)  \\geq p(T_{\\beta} | D)(l(T_{\\beta^{1}} , T_{\\beta}) -  l(T_{\\beta} , T_{\\beta})) $$\n",
    "\n",
    "$$ p(T_{\\beta^{1}} | D)  \\geq p(T_{\\beta} | D)\\frac{(l(T_{\\beta^{1}} , T_{\\beta}) -  l(T_{\\beta} , T_{\\beta}))}{(l(T_{\\beta} , T_{\\beta^{1}}) - l(T_{\\beta^{1}} , T_{\\beta^{1}}))} $$\n",
    "\n",
    "$$ \\frac{p(T_{\\beta^{1}} | D)}{p(T_{\\beta} | D)}  \\geq \\frac{(l(T_{\\beta^{1}} , T_{\\beta}) -  l(T_{\\beta} , T_{\\beta}))}{(l(T_{\\beta} , T_{\\beta^{1}}) - l(T_{\\beta^{1}} , T_{\\beta^{1}}))} $$\n",
    "\n",
    "which by Bayes Rule:\n",
    "\n",
    "$$ \\frac{\\frac{p(D | T_{\\beta^{1}})p(T_{\\beta^{1}})}{p(D)}}{\\frac{p(D | T_{\\beta})p(T_{\\beta})}{p(D)}} \\geq \\frac{(l(T_{\\beta^{1}} , T_{\\beta}) -  l(T_{\\beta} , T_{\\beta}))}{(l(T_{\\beta} , T_{\\beta^{1}}) - l(T_{\\beta^{1}} , T_{\\beta^{1}}))} $$\n",
    "\n",
    "which cancels to become:\n",
    "\n",
    "$$ \\frac{p(D | T_{\\beta^{1}})p(T_{\\beta^{1}})}{p(D | T_{\\beta})p(T_{\\beta})} \\geq \\frac{(l(T_{\\beta^{1}} , T_{\\beta}) -  l(T_{\\beta} , T_{\\beta}))}{(l(T_{\\beta} , T_{\\beta^{1}}) - l(T_{\\beta^{1}} , T_{\\beta^{1}}))} \\Rightarrow \\frac{p(D | T_{\\beta^{1}})}{p(D | T_{\\beta})} \\geq \\frac{p(T_{\\beta^{1}})(l(T_{\\beta^{1}} , T_{\\beta}) -  l(T_{\\beta} , T_{\\beta}))}{p(T_{\\beta})(l(T_{\\beta} , T_{\\beta^{1}}) - l(T_{\\beta^{1}} , T_{\\beta^{1}}))} $$\n",
    "\n",
    "\n",
    "which shows how each expected loss calculation between two theories reduces to a likelihood ratio test, where we have a specific threshold for accepted preference. The preferred theory dominates the other just when the ratio of their likelihood exceeds that threshold. Therefore our estimate of the correct theory $\\hat{\\mathbf{T}}$ is characterised by this comparison. \n",
    "\n",
    "\n",
    "$$ \\hat{\\mathbf{T}} = \\mathbb{1} \\Bigg\\{  \\frac{p( D | \\mathbf{T}_{\\beta^{1}})}{p(D | \\mathbf{T}_{\\beta})} \\geq \\eta \\Bigg\\} $$\n",
    "\n",
    "\n",
    "Hardt and Recht show a number of the very familiar procedures reduce to likelihood ratio tests with more or less constraints on threshold priors or loss functions. For instance, the maximum a posteriori decision rule emerges naturally as a likelihood ratio test when we set the $l(T, T) = l(\\neg T, \\neg T) = 0$ and $l(T, \\neg T) = l(\\neg T, T) = 1$ This results in the following decision rule: \n",
    "\n",
    "$$ \\hat{\\mathbf{T}} = \\mathbb{1} \\Bigg\\{  \\frac{p( D | \\mathbf{T}_{\\beta^{1}})}{p(D | \\mathbf{T}_{\\beta})} \\geq \\frac{p(\\mathbf{T_{\\beta^{1}}})}{p(\\mathbf{T_{\\beta}})} \\Bigg\\} $$\n",
    "\n",
    "\n",
    "### The Lemma: True Positive and False Postive Rates\n",
    "\n",
    "In the binary classification case we can compare two hypotheses directly while aiming to maximise some measure of accuracy with a high probability. This requires that we express our decision rule as some selective mapping over our theories in light of the data. \n",
    "\n",
    "$$ \\hat{\\mathbf{T}}: \\{ \\mathbf{T_{\\beta}}, \\mathbf{T_{\\beta^{1}}} \\} \\times D  \\mapsto \\{ 0, 1 \\} $$ \n",
    "\n",
    "With this set up the Neyman Pearson lemma states that any attempt to optimise our rule so that we maximise the True positive rate (TPR) while we minimise our False positive rate (FPR) subject to a constraint is equivalent to a likelihood ratio test.\n",
    "\n",
    "$$ \\text{ maximise TPR: } p(\\hat{\\mathbf{T}} \\text{ is True} | \\mathbf{T_\\beta}) $$ \n",
    "$$ \\text{ subject to FPR: } p(\\hat{\\mathbf{T}} \\text{ is True} | \\mathbf{T_\\beta^{1}}) \\leq \\alpha $$ \n",
    "\n",
    "This follows because the optimisation task does not require information about the prior probabilities. So we can choose a loss function such that the decision rule is equivalent to a simple likelihood ratio test. \n",
    "\n",
    "Lemma 1. **Neyman-Pearson Lemma** *The optimal probabilistic decision rule that maximizes TPR with an upper bound on FPR is a deterministic likelihood ratio test.*\n",
    "\n",
    "This discussion serves to show the wide applicability of Bayesian decision theory and its implicit role in many of the typical frequentist decision rules. The role and flexibility of the priors in those decision rules suggests that it's better to be aware of the specification of the prior rather than assume their use is innocent. \n",
    "\n",
    "More positively the Bayesian approach to decision making benefits from our ability to sample directly from the posterior and evaluate probable loss across an entire range of the probability distribution. The gains of this perspective are often significant."
   ]
  },
  {
   "cell_type": "markdown",
   "metadata": {},
   "source": [
    "# Example: Supply Chain\n",
    "\n",
    "This example is due to Thomas Wiecki's blog post on using Bayesian models to explore the decision distributions. "
   ]
  },
  {
   "cell_type": "code",
   "execution_count": 5,
   "metadata": {
    "ExecuteTime": {
     "end_time": "2021-04-26T21:15:23.453055Z",
     "start_time": "2021-04-26T21:15:23.445392Z"
    },
    "collapsed": true
   },
   "outputs": [],
   "source": [
    "SUPPLIER_YIELD = np.array([.9, .5, .8]) # unknown\n",
    "SUPPLIER_YIELD_SD = np.array([.1, .2, .2]) # unknown\n",
    "PRICES = [220.0, 100.0, 120.0] # known\n",
    "MAX_ORDER_SIZE = [100, 80, 100] # known\n",
    "N_OBS = [30, 20, 2]"
   ]
  },
  {
   "cell_type": "code",
   "execution_count": 50,
   "metadata": {
    "ExecuteTime": {
     "end_time": "2021-04-26T21:50:02.683758Z",
     "start_time": "2021-04-26T21:50:02.156315Z"
    },
    "collapsed": false
   },
   "outputs": [
    {
     "data": {
      "text/plain": [
       "array([[<AxesSubplot:title={'center':'0'}>,\n",
       "        <AxesSubplot:title={'center':'1'}>],\n",
       "       [<AxesSubplot:title={'center':'2'}>, <AxesSubplot:>]], dtype=object)"
      ]
     },
     "execution_count": 50,
     "metadata": {},
     "output_type": "execute_result"
    },
    {
     "data": {
      "image/png": "[encoded data removed]",
      "text/plain": [
       "<Figure size 720x720 with 4 Axes>"
      ]
     },
     "metadata": {
      "needs_background": "light"
     },
     "output_type": "display_data"
    }
   ],
   "source": [
    "np.random.seed(100)\n",
    "### Build an example data as draws from the Beta distribution\n",
    "data = []\n",
    "for supplier_yield, supplier_yield_sd, n_obs in zip(SUPPLIER_YIELD, SUPPLIER_YIELD_SD, N_OBS):\n",
    "    data.append(pm.Beta.dist(mu=supplier_yield, sd=supplier_yield_sd, shape=n_obs).random())\n",
    "    \n",
    "data_df = pd.DataFrame(data).T\n",
    "data_tidy = data_df.unstack().to_frame('yield')\n",
    "data_tidy.index = data_tidy.index.set_names(['supplier', 'obs'])\n",
    "data_df.hist(figsize=(10, 10))"
   ]
  },
  {
   "cell_type": "markdown",
   "metadata": {},
   "source": [
    "An example loss function as impact on profit. "
   ]
  },
  {
   "cell_type": "code",
   "execution_count": 14,
   "metadata": {
    "ExecuteTime": {
     "end_time": "2021-04-26T21:20:05.127399Z",
     "start_time": "2021-04-26T21:20:05.117395Z"
    },
    "collapsed": true
   },
   "outputs": [],
   "source": [
    "SALES_PRICE = 500 \n",
    "HOLDING_COST = 100\n",
    "\n",
    "@np.vectorize\n",
    "def loss(in_stock, demand, buy_price, sales_price=SALES_PRICE, holding_cost=HOLDING_COST):\n",
    "    # How much do we earn per launch\n",
    "    margin = sales_price - buy_price\n",
    "    # Do we have more in stock than demanded?\n",
    "    if in_stock > demand:\n",
    "        total_profit = demand * margin\n",
    "        # everything left over after demand was met goes into holding\n",
    "        total_holding_cost = (in_stock - demand) * holding_cost\n",
    "        reward = total_profit - total_holding_cost\n",
    "    else:\n",
    "        # Can only sell what we have in stock, no storage required\n",
    "        reward = in_stock * margin\n",
    "    \n",
    "    # Usually we minimize, so invert\n",
    "    return -reward"
   ]
  },
  {
   "cell_type": "code",
   "execution_count": 16,
   "metadata": {
    "ExecuteTime": {
     "end_time": "2021-04-26T21:20:43.920785Z",
     "start_time": "2021-04-26T21:20:43.715266Z"
    },
    "collapsed": false
   },
   "outputs": [
    {
     "data": {
      "image/png": "[encoded data removed]",
      "text/plain": [
       "<Figure size 432x288 with 1 Axes>"
      ]
     },
     "metadata": {
      "needs_background": "light"
     },
     "output_type": "display_data"
    }
   ],
   "source": [
    "in_stock = np.arange(0, 100)\n",
    "plt.scatter(in_stock, -loss(in_stock, 50, 50)); plt.axvline(50, c='k', ls='--', label='assumed demand');\n",
    "plt.xlabel('in stock'); plt.ylabel('profit (neg loss)'); plt.legend();"
   ]
  },
  {
   "cell_type": "code",
   "execution_count": 19,
   "metadata": {
    "ExecuteTime": {
     "end_time": "2021-04-26T21:21:52.162438Z",
     "start_time": "2021-04-26T21:21:51.951486Z"
    },
    "collapsed": false
   },
   "outputs": [
    {
     "data": {
      "text/plain": [
       "array([[<AxesSubplot:title={'center':'0'}>]], dtype=object)"
      ]
     },
     "execution_count": 19,
     "metadata": {},
     "output_type": "execute_result"
    },
    {
     "data": {
      "image/png": "[encoded data removed]",
      "text/plain": [
       "<Figure size 432x288 with 1 Axes>"
      ]
     },
     "metadata": {
      "needs_background": "light"
     },
     "output_type": "display_data"
    }
   ],
   "source": [
    "demand_samples = stats.poisson(60, 40).rvs(1000)\n",
    "pd.DataFrame(demand_samples).hist()"
   ]
  },
  {
   "cell_type": "markdown",
   "metadata": {},
   "source": [
    "Specify the beta binomial model and sample from the posterior distribuution. One draw from each supplier. "
   ]
  },
  {
   "cell_type": "code",
   "execution_count": 20,
   "metadata": {
    "ExecuteTime": {
     "end_time": "2021-04-26T21:23:52.366224Z",
     "start_time": "2021-04-26T21:23:02.343614Z"
    },
    "collapsed": false
   },
   "outputs": [
    {
     "name": "stderr",
     "output_type": "stream",
     "text": [
      "Auto-assigning NUTS sampler...\n",
      "Initializing NUTS using jitter+adapt_diag...\n",
      "Multiprocess sampling (2 chains in 2 jobs)\n",
      "NUTS: [β, α]\n",
      "Sampling 2 chains, 0 divergences: 100%|██████████| 2000/2000 [00:02<00:00, 840.26draws/s] \n",
      "The number of effective samples is smaller than 25% for some parameters.\n",
      "100%|██████████| 1000/1000 [00:02<00:00, 335.60it/s]\n"
     ]
    }
   ],
   "source": [
    "with pm.Model() as model:\n",
    "    # Priors on alpha and beta parameters for each supplier\n",
    "    α = pm.HalfNormal('α', sd=10., shape=3) + 1\n",
    "    β = pm.HalfNormal('β', sd=10., shape=3) + 1\n",
    "    \n",
    "    # Different likelihood for every supplier because we have different\n",
    "    # number of data points\n",
    "    for i, d in enumerate(data):\n",
    "        pm.Beta(f'supplier_yield_obs_{i}', \n",
    "            alpha=α[i], beta=β[i],\n",
    "            observed=d)\n",
    "    \n",
    "    trace = pm.sample()\n",
    "with model:\n",
    "    post_pred = pm.sample_posterior_predictive(trace, 1000)"
   ]
  },
  {
   "cell_type": "markdown",
   "metadata": {},
   "source": [
    "Plot the draws from the posteriors"
   ]
  },
  {
   "cell_type": "code",
   "execution_count": 49,
   "metadata": {
    "ExecuteTime": {
     "end_time": "2021-04-26T21:49:35.143855Z",
     "start_time": "2021-04-26T21:49:34.397178Z"
    },
    "collapsed": false
   },
   "outputs": [
    {
     "data": {
      "text/plain": [
       "array([[<AxesSubplot:title={'center':'supplier_yield_obs_0'}>,\n",
       "        <AxesSubplot:title={'center':'supplier_yield_obs_1'}>],\n",
       "       [<AxesSubplot:title={'center':'supplier_yield_obs_2'}>,\n",
       "        <AxesSubplot:>]], dtype=object)"
      ]
     },
     "execution_count": 49,
     "metadata": {},
     "output_type": "execute_result"
    },
    {
     "data": {
      "image/png": "[encoded data removed]",
      "text/plain": [
       "<Figure size 720x720 with 4 Axes>"
      ]
     },
     "metadata": {
      "needs_background": "light"
     },
     "output_type": "display_data"
    }
   ],
   "source": [
    "supplier_yield_post_pred = pd.DataFrame({k: v[:, 1] for k, v in post_pred.items()})\n",
    "supplier_yield_post_pred.hist(figsize=(10, 10))"
   ]
  },
  {
   "cell_type": "markdown",
   "metadata": {},
   "source": [
    "Function to calculate the full yield and price per item"
   ]
  },
  {
   "cell_type": "code",
   "execution_count": 24,
   "metadata": {
    "ExecuteTime": {
     "end_time": "2021-04-26T21:26:03.549641Z",
     "start_time": "2021-04-26T21:26:03.539062Z"
    },
    "collapsed": false
   },
   "outputs": [
    {
     "data": {
      "text/plain": [
       "(168.0, 160.0)"
      ]
     },
     "execution_count": 24,
     "metadata": {},
     "output_type": "execute_result"
    }
   ],
   "source": [
    "def calc_yield_and_price(orders, \n",
    "                         supplier_yield=np.array([.9, .5, .8]),\n",
    "                         prices=PRICES\n",
    "                        ):\n",
    "    orders = np.asarray(orders)\n",
    "    \n",
    "    full_yield = np.sum(supplier_yield * orders)\n",
    "    price_per_item = np.sum(orders * prices) / np.sum(orders)\n",
    "    \n",
    "    return full_yield, price_per_item\n",
    "\n",
    "### Arbitrary example input \n",
    "calc_yield_and_price([100, 60, 60])"
   ]
  },
  {
   "cell_type": "markdown",
   "metadata": {},
   "source": [
    "Optimise the settings to achieve best yield and price per item to minimise the lost profit"
   ]
  },
  {
   "cell_type": "code",
   "execution_count": 25,
   "metadata": {
    "ExecuteTime": {
     "end_time": "2021-04-26T21:29:25.972474Z",
     "start_time": "2021-04-26T21:29:25.961690Z"
    },
    "collapsed": true
   },
   "outputs": [],
   "source": [
    "def objective(orders, supplier_yield=supplier_yield_post_pred,\n",
    "              demand_samples=demand_samples, max_order_size=MAX_ORDER_SIZE):\n",
    "    orders = np.asarray(orders)\n",
    "    losses = []\n",
    "    \n",
    "    # Negative orders are impossible, indicated by np.inf\n",
    "    if np.any(orders < 0):\n",
    "        return np.inf\n",
    "    # Ordering more than the supplier can ship is also impossible\n",
    "    if np.any(orders > MAX_ORDER_SIZE):\n",
    "        return np.inf\n",
    "    \n",
    "    # Iterate over post pred samples provided in supplier_yield\n",
    "    for i, supplier_yield_sample in supplier_yield.iterrows():\n",
    "        full_yield, price_per_item = calc_yield_and_price(\n",
    "            orders,\n",
    "            supplier_yield=supplier_yield_sample\n",
    "        )\n",
    "        \n",
    "        # evaluate loss over each sample with one sample from the demand distribution\n",
    "        loss_i = loss(full_yield, demand_samples[i], price_per_item)\n",
    "        \n",
    "        losses.append(loss_i)\n",
    "        \n",
    "    return np.asarray(losses)"
   ]
  },
  {
   "cell_type": "code",
   "execution_count": 26,
   "metadata": {
    "ExecuteTime": {
     "end_time": "2021-04-26T21:31:55.715799Z",
     "start_time": "2021-04-26T21:31:03.671463Z"
    },
    "collapsed": false
   },
   "outputs": [
    {
     "name": "stdout",
     "output_type": "stream",
     "text": [
      "Optimal order amount from every supplier = [ 0. 55. 97.]\n",
      "Total order amount from all suppliers = 151.0\n"
     ]
    }
   ],
   "source": [
    "from scipy import optimize\n",
    "\n",
    "# parameters for the optimization, we're just including the max order sizes as bounds\n",
    "bounds = [(0, max_order) for max_order in MAX_ORDER_SIZE]\n",
    "starting_value = [50., 50., 50.]\n",
    "\n",
    "# minimize the expected loss under all possible scenarios\n",
    "opt_stoch = optimize.minimize(lambda *args: np.mean(objective(*args)), \n",
    "                              starting_value, \n",
    "                              bounds=bounds)\n",
    "\n",
    "print('Optimal order amount from every supplier = {}'.format(np.ceil(opt_stoch.x)))\n",
    "\n",
    "print('Total order amount from all suppliers = {}'.format(np.ceil(np.sum(opt_stoch.x))))"
   ]
  },
  {
   "cell_type": "code",
   "execution_count": 29,
   "metadata": {
    "ExecuteTime": {
     "end_time": "2021-04-26T21:33:39.746775Z",
     "start_time": "2021-04-26T21:33:39.535242Z"
    },
    "collapsed": false
   },
   "outputs": [
    {
     "name": "stdout",
     "output_type": "stream",
     "text": [
      "Optimal order amount from every supplier = [42. 46. 42.]\n",
      "Total order amount from all suppliers = 128.0\n"
     ]
    }
   ],
   "source": [
    "supplier_yield_mean = pd.DataFrame([np.mean(d) for d in data]).T\n",
    "supplier_yield_mean\n",
    "\n",
    "opt_non_stoch = optimize.minimize(lambda *args: objective(*args, \n",
    "                                                          supplier_yield=supplier_yield_mean, \n",
    "                                                          demand_samples=[100]), \n",
    "                                  starting_value, \n",
    "                                  bounds=bounds)\n",
    "print('Optimal order amount from every supplier = {}'.format(np.ceil(opt_non_stoch.x)))\n",
    "print('Total order amount from all suppliers = {}'.format(np.ceil(np.sum(opt_non_stoch.x))))"
   ]
  },
  {
   "cell_type": "code",
   "execution_count": 30,
   "metadata": {
    "ExecuteTime": {
     "end_time": "2021-04-26T21:34:48.034453Z",
     "start_time": "2021-04-26T21:34:46.603909Z"
    },
    "collapsed": false
   },
   "outputs": [
    {
     "data": {
      "text/html": [
       "<div>\n",
       "<style scoped>\n",
       "    .dataframe tbody tr th:only-of-type {\n",
       "        vertical-align: middle;\n",
       "    }\n",
       "\n",
       "    .dataframe tbody tr th {\n",
       "        vertical-align: top;\n",
       "    }\n",
       "\n",
       "    .dataframe thead th {\n",
       "        text-align: right;\n",
       "    }\n",
       "</style>\n",
       "<table border=\"1\" class=\"dataframe\">\n",
       "  <thead>\n",
       "    <tr style=\"text-align: right;\">\n",
       "      <th></th>\n",
       "      <th>Supplier 0</th>\n",
       "      <th>Supplier 1</th>\n",
       "      <th>Supplier 2</th>\n",
       "    </tr>\n",
       "  </thead>\n",
       "  <tbody>\n",
       "    <tr>\n",
       "      <th>0</th>\n",
       "      <td>0.880298</td>\n",
       "      <td>0.752686</td>\n",
       "      <td>0.997934</td>\n",
       "    </tr>\n",
       "    <tr>\n",
       "      <th>1</th>\n",
       "      <td>0.698046</td>\n",
       "      <td>0.307304</td>\n",
       "      <td>0.971085</td>\n",
       "    </tr>\n",
       "    <tr>\n",
       "      <th>2</th>\n",
       "      <td>0.676807</td>\n",
       "      <td>0.534287</td>\n",
       "      <td>0.891209</td>\n",
       "    </tr>\n",
       "    <tr>\n",
       "      <th>3</th>\n",
       "      <td>0.943773</td>\n",
       "      <td>0.666368</td>\n",
       "      <td>0.975907</td>\n",
       "    </tr>\n",
       "    <tr>\n",
       "      <th>4</th>\n",
       "      <td>0.911538</td>\n",
       "      <td>0.457898</td>\n",
       "      <td>0.556483</td>\n",
       "    </tr>\n",
       "  </tbody>\n",
       "</table>\n",
       "</div>"
      ],
      "text/plain": [
       "   Supplier 0  Supplier 1  Supplier 2\n",
       "0    0.880298    0.752686    0.997934\n",
       "1    0.698046    0.307304    0.971085\n",
       "2    0.676807    0.534287    0.891209\n",
       "3    0.943773    0.666368    0.975907\n",
       "4    0.911538    0.457898    0.556483"
      ]
     },
     "execution_count": 30,
     "metadata": {},
     "output_type": "execute_result"
    }
   ],
   "source": [
    "np.random.seed(123)\n",
    "data_new = []\n",
    "for supplier_yield, supplier_yield_sd, n_obs in zip(SUPPLIER_YIELD, SUPPLIER_YIELD_SD, N_OBS):\n",
    "    data_new.append(pm.Beta.dist(mu=supplier_yield, sd=supplier_yield_sd, shape=1000).random())\n",
    "data_new = pd.DataFrame(data_new).T\n",
    "data_new.head().add_prefix(\"Supplier \")"
   ]
  },
  {
   "cell_type": "code",
   "execution_count": 48,
   "metadata": {
    "ExecuteTime": {
     "end_time": "2021-04-26T21:47:21.962550Z",
     "start_time": "2021-04-26T21:47:21.005319Z"
    },
    "collapsed": false
   },
   "outputs": [
    {
     "data": {
      "image/png": "[encoded data removed]",
      "text/plain": [
       "<Figure size 432x288 with 1 Axes>"
      ]
     },
     "metadata": {
      "needs_background": "light"
     },
     "output_type": "display_data"
    }
   ],
   "source": [
    "neg_loss_stoch = -objective(opt_stoch.x, supplier_yield=data_new) / demand_samples\n",
    "neg_loss_non_stoch = -objective(opt_non_stoch.x, supplier_yield=data_new) / demand_samples\n",
    "df = pd.concat([pd.DataFrame(neg_loss_stoch), pd.DataFrame(neg_loss_non_stoch)], axis=1)\n",
    "df.columns = ['stochastic_loss', 'non-stochastic_loss']\n",
    "df['stochastic_loss'].hist()\n",
    "df['non-stochastic_loss'].hist()\n",
    "plt.axvline(np.mean(neg_loss_stoch), label='expected stochastic')\n",
    "plt.axvline(np.mean(neg_loss_non_stoch), color='orange', label='expected non-stochastic')\n",
    "plt.show()"
   ]
  },
  {
   "cell_type": "markdown",
   "metadata": {},
   "source": [
    "## Custom Example"
   ]
  },
  {
   "cell_type": "code",
   "execution_count": 83,
   "metadata": {
    "collapsed": false
   },
   "outputs": [
    {
     "data": {
      "text/plain": [
       "array([1.45023933e-01, 2.33543708e-01, 4.15021981e-01, 3.04231158e-01,\n",
       "       8.64517006e-01, 3.99799908e-01, 1.63379960e-01, 1.31640005e-02,\n",
       "       9.39987267e-01, 9.08670898e-03, 2.58599937e-01, 5.60073824e-02,\n",
       "       9.21681940e-01, 8.55372548e-01, 3.69693417e-01, 6.00410069e-01,\n",
       "       6.54781621e-01, 8.60835485e-01, 1.60760583e-02, 1.17645210e-02,\n",
       "       4.34710061e-01, 5.26341807e-01, 8.33247138e-01, 3.40120361e-01,\n",
       "       4.69830802e-01, 6.79575636e-01, 1.02219114e-01, 8.52440224e-01,\n",
       "       5.50408237e-01, 7.33239262e-01, 9.96207491e-01, 5.33263707e-01,\n",
       "       1.54668500e-01, 1.29317295e-01, 3.74099316e-01, 2.60336164e-01,\n",
       "       8.10935202e-01, 7.89364750e-01, 7.99240355e-01, 9.08557605e-01,\n",
       "       4.30994616e-02, 1.52715706e-01, 6.98863053e-01, 3.43630056e-01,\n",
       "       5.81573497e-01, 5.43502072e-01, 1.27521532e-01, 3.98995473e-02,\n",
       "       7.20188289e-01, 4.04176240e-01, 3.86138144e-01, 2.18632195e-01,\n",
       "       2.57700946e-01, 3.84562007e-01, 5.09527498e-01, 9.94361304e-01,\n",
       "       8.28493760e-01, 5.92811657e-01, 1.85348197e-01, 3.39373993e-01,\n",
       "       6.64726048e-01, 6.77730530e-01, 8.67229128e-01, 7.48491342e-01,\n",
       "       5.90719561e-01, 7.07115779e-01, 8.88436408e-01, 8.40955083e-01,\n",
       "       7.66277541e-02, 2.78917784e-01, 2.36864223e-01, 9.63479990e-01,\n",
       "       1.47685740e-01, 9.98758958e-02, 8.21961443e-01, 8.87997927e-01,\n",
       "       3.98068447e-01, 1.21567919e-01, 3.00971102e-01, 4.28626442e-02,\n",
       "       9.90202119e-01, 6.64549725e-01, 2.11956889e-01, 9.25525989e-01,\n",
       "       1.29335104e-01, 3.81635025e-01, 4.99186182e-01, 9.86458040e-01,\n",
       "       2.14483309e-01, 8.34575673e-01, 1.10274989e-02, 1.46263825e-01,\n",
       "       6.85534322e-01, 1.13854222e-01, 3.96259088e-01, 4.52690599e-01,\n",
       "       1.97543398e-01, 5.55852791e-01, 4.38286568e-01, 6.42066044e-01,\n",
       "       6.46142197e-01, 2.54523006e-01, 6.33172818e-02, 5.54940440e-01,\n",
       "       2.99140146e-01, 5.51611465e-01, 6.98183056e-01, 2.92277825e-01,\n",
       "       8.83411583e-01, 4.71313562e-01, 8.09710875e-01, 6.50754921e-01,\n",
       "       4.36709159e-01, 9.31020270e-01, 4.58287301e-01, 4.90748661e-01,\n",
       "       8.72052903e-01, 1.59295739e-01, 7.78253244e-01, 1.85966793e-01,\n",
       "       1.51206685e-01, 3.99380266e-01, 5.25838740e-01, 2.07115818e-01,\n",
       "       6.01165761e-01, 1.82536079e-01, 2.94824417e-01, 5.02955471e-01,\n",
       "       6.03764466e-01, 5.36454143e-01, 3.14766298e-01, 5.72183905e-01,\n",
       "       5.11218611e-01, 3.48167595e-01, 5.06406569e-01, 7.42789104e-01,\n",
       "       5.48162430e-01, 3.18771061e-01, 8.66682530e-01, 9.42456165e-01,\n",
       "       9.76851594e-01, 4.81157831e-01, 6.36165302e-01, 3.15520577e-01,\n",
       "       6.92098253e-01, 9.59109258e-01, 4.76111738e-01, 2.12776907e-01,\n",
       "       7.82947441e-01, 5.82853771e-01, 5.13698514e-01, 2.65286991e-01,\n",
       "       6.85122984e-01, 7.85549568e-01, 7.49779474e-01, 1.13412393e-01,\n",
       "       6.15531080e-01, 6.53575487e-01, 7.95067183e-01, 2.36153139e-01,\n",
       "       2.50557512e-01, 3.91878657e-01, 8.21290790e-02, 7.57681635e-01,\n",
       "       7.59603540e-01, 8.76496029e-01, 8.28052348e-01, 1.36691347e-01,\n",
       "       5.35093996e-02, 3.42239103e-01, 3.83011485e-01, 9.65908146e-01,\n",
       "       4.65078031e-02, 2.81263432e-01, 2.84101798e-01, 6.90695118e-01,\n",
       "       9.65838728e-01, 2.07748386e-01, 8.41989271e-01, 7.78368111e-01,\n",
       "       4.76839061e-02, 6.23847646e-01, 9.59085330e-01, 4.35876685e-01,\n",
       "       1.31658192e-01, 7.18938037e-01, 3.97929505e-01, 3.60130620e-01,\n",
       "       2.36819935e-01, 2.23302822e-01, 8.93372450e-01, 3.72761746e-01,\n",
       "       9.75684051e-01, 5.90283446e-01, 5.28307073e-01, 2.39694667e-01,\n",
       "       1.74946227e-01, 4.55962735e-01, 3.40102525e-01, 6.82024413e-01,\n",
       "       6.81183777e-01, 6.11289832e-01, 9.22966988e-01, 2.33090887e-01,\n",
       "       1.74914688e-01, 8.06530112e-01, 5.43790330e-01, 4.65531918e-01,\n",
       "       1.58669226e-01, 1.46429548e-02, 5.56419516e-01, 4.85443020e-01,\n",
       "       2.68537213e-01, 1.94957261e-01, 4.40972025e-01, 3.38617638e-01,\n",
       "       6.14961271e-01, 7.69523331e-01, 2.93248726e-01, 8.24388282e-01,\n",
       "       3.20686916e-01, 5.75682181e-01, 8.91456267e-01, 2.73104801e-01,\n",
       "       4.91550580e-01, 4.27177619e-01, 8.18550288e-01, 7.31427878e-02,\n",
       "       5.10221694e-01, 1.68203136e-01, 9.37049701e-01, 6.93971986e-01,\n",
       "       2.30788329e-01, 5.20311297e-01, 1.91415963e-01, 2.45604365e-01,\n",
       "       1.19507684e-01, 5.16292255e-01, 3.24962982e-01, 3.81136514e-01,\n",
       "       8.87143315e-01, 9.64413787e-02, 6.08315385e-01, 1.46296002e-01,\n",
       "       7.54804400e-01, 2.91641234e-01, 8.21669858e-01, 9.65244310e-01,\n",
       "       2.63278937e-01, 7.28151199e-01, 8.75603695e-01, 1.36640813e-01,\n",
       "       8.13743768e-01, 1.62262808e-01, 6.31380932e-01, 3.32032749e-01,\n",
       "       8.28507765e-01, 9.58945102e-01, 5.55909293e-01, 6.02408350e-01,\n",
       "       4.65918046e-01, 9.55812088e-01, 1.43272364e-01, 2.34298744e-01,\n",
       "       7.24089825e-01, 6.11003274e-01, 6.05545107e-01, 1.22072400e-01,\n",
       "       9.25700472e-01, 5.72155205e-01, 1.13016755e-01, 3.32992334e-01,\n",
       "       1.16301660e-01, 3.84354782e-02, 2.90570746e-01, 1.24663661e-01,\n",
       "       5.88096878e-01, 5.05974317e-01, 8.09502010e-01, 5.62054565e-01,\n",
       "       8.10719973e-01, 3.08904642e-01, 6.02948182e-02, 3.38207801e-01,\n",
       "       2.68352887e-01, 4.93337231e-01, 9.54091899e-01, 3.47263871e-01,\n",
       "       6.76248015e-01, 2.40542683e-01, 1.36053007e-01, 3.89341757e-01,\n",
       "       1.03900760e-01, 3.31949252e-01, 4.48712482e-02, 4.16169033e-01,\n",
       "       8.35277277e-01, 9.04704528e-01, 7.41651363e-01, 5.54955944e-01,\n",
       "       9.81344038e-01, 8.85805698e-01, 6.01435303e-01, 7.16476317e-01,\n",
       "       7.48181923e-01, 9.35742935e-01, 2.70434120e-01, 1.78380251e-01,\n",
       "       9.58949223e-01, 2.24809477e-01, 4.59291654e-01, 7.66143558e-02,\n",
       "       8.44409214e-02, 1.21836949e-01, 9.01394358e-01, 1.05086511e-01,\n",
       "       1.69651850e-02, 6.08677300e-01, 5.71436289e-01, 9.99226267e-01,\n",
       "       1.00510847e-01, 1.14855524e-02, 3.59388035e-01, 1.67963843e-01,\n",
       "       9.05805602e-01, 6.16032691e-01, 5.21556900e-01, 1.30611703e-01,\n",
       "       4.71179529e-01, 6.62838052e-01, 5.00611229e-01, 4.94317269e-01,\n",
       "       8.06016095e-01, 8.24691917e-01, 8.74758539e-01, 4.35002079e-01,\n",
       "       5.90922121e-01, 7.67474391e-01, 4.14235460e-01, 3.66390233e-01,\n",
       "       1.12050716e-01, 9.37692064e-01, 5.05680904e-01, 3.76529154e-01,\n",
       "       4.19558743e-01, 3.81086584e-01, 5.20528647e-01, 8.16351688e-01,\n",
       "       9.41591929e-01, 8.83514688e-01, 5.12194100e-01, 8.83989831e-01,\n",
       "       3.02884383e-02, 5.73132454e-01, 3.64560298e-01, 1.97302997e-01,\n",
       "       6.26519167e-01, 3.22700934e-01, 3.15345983e-01, 7.06599199e-01,\n",
       "       4.30519157e-01, 8.15553623e-01, 1.99971274e-01, 2.22266084e-01,\n",
       "       3.34738023e-01, 1.00272036e-01, 9.96719800e-01, 4.28708003e-01,\n",
       "       9.45369740e-01, 2.28252747e-01, 2.25631029e-01, 9.98166601e-02,\n",
       "       8.38757150e-02, 8.18559025e-01, 1.27006829e-01, 7.05938408e-01,\n",
       "       1.05888719e-01, 5.78215918e-01, 1.93784933e-01, 9.55389976e-01,\n",
       "       2.15729418e-01, 2.45540054e-01, 6.77467103e-01, 5.67008626e-01,\n",
       "       8.89070659e-01, 3.04825228e-01, 4.23121950e-01, 2.91814122e-01,\n",
       "       2.18083106e-01, 3.64108645e-01, 7.17258427e-01, 3.10470035e-01,\n",
       "       3.11118971e-01, 1.17198976e-01, 6.20391503e-01, 8.75920568e-01,\n",
       "       3.84313380e-01, 7.62569564e-01, 1.54721028e-01, 5.01383869e-01,\n",
       "       1.62810348e-01, 7.74169409e-01, 6.49354788e-01, 2.30671983e-01,\n",
       "       2.40742492e-01, 3.67927862e-01, 9.78874660e-01, 1.95252754e-01,\n",
       "       4.69513065e-01, 6.03589251e-01, 2.32190607e-01, 6.01627756e-01,\n",
       "       3.69778433e-01, 5.92962858e-01, 6.20440944e-01, 4.89294904e-01,\n",
       "       3.77772477e-01, 7.14546939e-01, 9.94297447e-01, 5.12452579e-01,\n",
       "       6.91217152e-01, 4.48002344e-01, 4.70841851e-01, 7.22679515e-01,\n",
       "       3.47629444e-01, 1.60249417e-01, 5.95490937e-02, 4.81286961e-01,\n",
       "       6.13516862e-01, 4.29997295e-01, 4.48867255e-02, 1.91878423e-01,\n",
       "       9.67702876e-01, 7.40178693e-01, 9.85056694e-01, 5.99444282e-01,\n",
       "       9.90935453e-01, 9.90770408e-01, 1.52456324e-02, 7.91282884e-01,\n",
       "       9.60201179e-01, 7.57227199e-01, 8.09483802e-01, 5.85277458e-01,\n",
       "       6.26363747e-01, 6.21736417e-02, 7.88191488e-01, 9.31268195e-02,\n",
       "       3.48534283e-01, 2.19358978e-01, 2.48363478e-02, 2.43332813e-01,\n",
       "       2.43615035e-02, 8.98973557e-01, 8.26238369e-01, 8.34607752e-01,\n",
       "       4.93505993e-01, 1.09790750e-02, 4.56998984e-01, 7.01946508e-01,\n",
       "       4.86822796e-01, 5.87586960e-01, 1.67408957e-03, 8.46623540e-01,\n",
       "       9.29982774e-01, 8.80224427e-03, 3.91442389e-01, 8.07290090e-01,\n",
       "       9.12317063e-02, 6.36186924e-01, 3.83004332e-01, 2.74262496e-01,\n",
       "       6.11260791e-01, 9.39312529e-01, 5.96391838e-01, 8.56542555e-01,\n",
       "       8.72415022e-02, 4.36353644e-01, 9.19321988e-01, 3.81131689e-01,\n",
       "       4.88288989e-01, 7.11032239e-01, 1.93831891e-01, 8.12747493e-01,\n",
       "       8.45026406e-01, 6.31864986e-01, 2.98531326e-01, 6.78549141e-01,\n",
       "       1.68967445e-01, 6.88706653e-01, 3.63906926e-01, 9.62510783e-01,\n",
       "       1.07572718e-01, 6.64727771e-01, 6.18399572e-01, 4.20232597e-01,\n",
       "       1.81448838e-01, 9.04795820e-01, 6.52082351e-01, 6.12513609e-01,\n",
       "       2.89359178e-01, 8.99873607e-01, 7.20978450e-01, 7.66383162e-01,\n",
       "       7.82989502e-01, 8.76625159e-02, 6.32618656e-01, 2.48950702e-02,\n",
       "       9.85687263e-01, 7.08277612e-01, 2.97663098e-01, 5.41177813e-01,\n",
       "       3.03715438e-01, 7.19375251e-01, 2.67366156e-01, 1.05833592e-01,\n",
       "       4.35290700e-02, 6.50706043e-01, 8.37447177e-01, 1.85868506e-01,\n",
       "       2.85645646e-01, 2.95044220e-01, 7.40486846e-01, 7.25050274e-01,\n",
       "       9.45877715e-01, 2.74032071e-01, 1.74789713e-01, 8.52017553e-01,\n",
       "       4.53191229e-01, 6.16027577e-02, 8.79528468e-01, 5.34970037e-02,\n",
       "       4.55483965e-01, 3.24921776e-01, 9.17790956e-01, 1.27819154e-01,\n",
       "       2.85976280e-01, 3.37736045e-01, 3.16650099e-01, 5.69286082e-01,\n",
       "       4.77929441e-01, 6.29036599e-01, 3.92391294e-01, 1.82848507e-01,\n",
       "       8.83172614e-01, 9.40946741e-01, 9.85757545e-01, 8.23871173e-01,\n",
       "       3.00586722e-01, 3.15005437e-01, 5.82496669e-01, 1.88364730e-01,\n",
       "       3.89805901e-01, 6.67702889e-01, 4.93701228e-01, 7.50459183e-01,\n",
       "       4.11275906e-01, 1.03114021e-01, 5.99719570e-01, 2.18387445e-01,\n",
       "       1.04629176e-01, 2.92662517e-01, 7.24126360e-01, 8.87432881e-01,\n",
       "       3.96472338e-01, 6.09173508e-01, 4.31096833e-01, 5.52425235e-01,\n",
       "       5.92306950e-01, 6.29313489e-01, 7.68324756e-01, 4.10045707e-01,\n",
       "       4.94056071e-01, 5.18766733e-01, 5.31056792e-01, 1.00859288e-01,\n",
       "       3.27143534e-01, 7.24953948e-01, 4.84426664e-01, 1.86086949e-01,\n",
       "       2.20945597e-01, 6.74481228e-01, 3.85737499e-01, 4.30463178e-01,\n",
       "       4.21567587e-01, 7.17845394e-01, 6.08350298e-01, 1.37219547e-01,\n",
       "       3.94679946e-01, 6.28007779e-02, 6.50811259e-01, 4.87596382e-01,\n",
       "       4.18836633e-01, 1.48968351e-01, 8.52129974e-01, 8.62507905e-01,\n",
       "       8.22847568e-01, 6.58726466e-01, 8.48830478e-02, 9.24910256e-01,\n",
       "       3.12529210e-01, 7.68250903e-01, 4.42848452e-01, 8.63775552e-01,\n",
       "       1.73525358e-01, 8.76854252e-01, 6.33986544e-01, 7.37096920e-01,\n",
       "       9.02850932e-01, 1.66786071e-01, 2.68092805e-01, 1.69159251e-01,\n",
       "       8.36855983e-01, 9.30330060e-03, 3.75243339e-01, 6.83009810e-01,\n",
       "       4.95054899e-01, 1.85957262e-01, 7.91520301e-01, 6.09624741e-01,\n",
       "       8.06631501e-01, 4.40172235e-01, 7.40871543e-01, 5.13591096e-01,\n",
       "       8.82904030e-01, 1.77059041e-01, 3.46886212e-01, 3.88566895e-01,\n",
       "       1.37120205e-01, 7.28863835e-01, 3.59558065e-01, 3.55858764e-01,\n",
       "       8.30868060e-02, 3.81069226e-01, 7.80050305e-01, 1.36666791e-01,\n",
       "       4.23352910e-01, 2.27803250e-01, 8.95359125e-01, 1.86292105e-02,\n",
       "       2.40714390e-01, 7.51586955e-01, 9.72689179e-01, 1.52687647e-02,\n",
       "       7.38724392e-01, 7.16571032e-01, 3.92566432e-01, 3.58791882e-01,\n",
       "       7.16415496e-01, 3.40179739e-01, 3.25971400e-01, 1.21427351e-01,\n",
       "       9.86190959e-01, 1.59402777e-01, 2.22491867e-01, 1.99322506e-01,\n",
       "       6.91677479e-01, 3.99114494e-01, 4.85903092e-01, 3.95806973e-01,\n",
       "       2.75098246e-01, 7.97915409e-01, 3.75348220e-01, 1.65130174e-01,\n",
       "       1.87623768e-01, 5.62799556e-02, 1.05830641e-01, 6.52510888e-01,\n",
       "       2.77255223e-01, 4.13137647e-01, 1.39555988e-01, 6.28113143e-01,\n",
       "       3.55718586e-01, 5.27878028e-01, 6.01819315e-01, 5.12933034e-01,\n",
       "       1.69235282e-01, 4.84146921e-02, 3.20862342e-01, 6.56431215e-01,\n",
       "       7.58003393e-01, 8.43675965e-01, 8.01522230e-01, 2.42799814e-02,\n",
       "       2.12390216e-01, 3.92511147e-02, 1.25106303e-01, 1.03757956e-01,\n",
       "       8.70311283e-01, 1.59711569e-01, 7.59318896e-01, 2.32263273e-01,\n",
       "       9.77396818e-01, 3.30583112e-01, 5.32091534e-01, 9.82408742e-01,\n",
       "       2.41379821e-01, 6.05304519e-01, 9.89208678e-01, 7.64499630e-01,\n",
       "       8.84590514e-01, 6.89884166e-01, 3.52233194e-02, 9.44922903e-01,\n",
       "       8.55168929e-01, 5.67765201e-01, 4.00597035e-01, 2.46446005e-01,\n",
       "       9.72229803e-01, 1.27949417e-01, 9.69170748e-01, 8.48811899e-01,\n",
       "       2.66143543e-01, 9.75682918e-01, 2.84850239e-01, 7.73941556e-01,\n",
       "       3.75088985e-01, 1.24481324e-01, 5.50929311e-01, 5.50587314e-01,\n",
       "       3.64478760e-01, 8.10356687e-01, 9.39795755e-01, 1.02265720e-01,\n",
       "       6.37426729e-01, 4.27731361e-01, 9.08359716e-01, 8.25386965e-01,\n",
       "       2.70491815e-01, 9.53076357e-01, 4.38262021e-01, 4.36605391e-01,\n",
       "       5.77663255e-01, 5.93987067e-01, 5.75211077e-01, 1.45338967e-01,\n",
       "       1.50463469e-01, 7.43294853e-01, 6.09365224e-01, 7.18586009e-01,\n",
       "       3.32724171e-01, 4.68532435e-01, 1.40892990e-01, 9.87716688e-01,\n",
       "       2.57983261e-01, 6.51399954e-01, 2.05355126e-01, 1.47265635e-01,\n",
       "       1.68830376e-01, 1.66454496e-01, 1.15008404e-01, 8.64548448e-01,\n",
       "       6.22510074e-01, 7.27433992e-01, 8.82494427e-01, 9.46531781e-01,\n",
       "       6.30269184e-03, 8.57738138e-01, 5.82152793e-02, 8.48387986e-01,\n",
       "       3.23318377e-01, 2.41578495e-01, 7.13555154e-01, 4.22390263e-01,\n",
       "       1.73233784e-01, 6.57820669e-01, 3.90878919e-01, 6.85699365e-01,\n",
       "       9.16169676e-02, 3.21057416e-02, 1.97388957e-02, 2.64410353e-01,\n",
       "       5.68513763e-01, 1.39297756e-01, 5.92000527e-01, 7.16262480e-01,\n",
       "       7.35136786e-01, 3.03533357e-01, 4.11763661e-01, 6.02377110e-01,\n",
       "       2.06101117e-01, 8.46273995e-01, 6.44083743e-01, 1.51685460e-01,\n",
       "       2.10459795e-01, 6.15381298e-01, 6.14120599e-01, 7.18608031e-03,\n",
       "       4.62942680e-02, 3.13368728e-01, 2.80214702e-01, 5.26782041e-01,\n",
       "       3.59311027e-01, 8.52153077e-01, 3.04678532e-01, 1.02869262e-01,\n",
       "       9.48117936e-01, 6.43322689e-01, 7.89613922e-01, 1.04670869e-01,\n",
       "       9.16569534e-01, 2.17103135e-01, 3.82418821e-01, 5.08602438e-02,\n",
       "       2.83886447e-02, 8.04552538e-01, 7.70147897e-01, 4.79316295e-01,\n",
       "       9.60030303e-01, 8.33236142e-01, 5.44403576e-01, 5.39957261e-01,\n",
       "       2.32911360e-01, 1.96578230e-01, 2.66267348e-01, 5.28633823e-01,\n",
       "       7.81916270e-01, 6.47732321e-01, 5.31922439e-01, 1.30756060e-01,\n",
       "       4.05608169e-01, 3.46732365e-01, 4.36793462e-01, 6.35736531e-01,\n",
       "       8.39207852e-01, 5.79538928e-02, 8.33168424e-01, 9.55449817e-01,\n",
       "       7.81558222e-01, 8.18402657e-02, 5.20571774e-01, 9.70481704e-01,\n",
       "       4.21113315e-01, 6.55374062e-01, 3.12101755e-01, 9.65421542e-01,\n",
       "       3.17153973e-01, 8.46435086e-01, 1.61270053e-01, 1.59351498e-01,\n",
       "       4.25058401e-01, 5.72796382e-01, 3.26665089e-02, 5.33148404e-01,\n",
       "       7.26470150e-01, 9.79255694e-01, 1.46541263e-01, 6.03239458e-01,\n",
       "       5.83270959e-01, 1.48389082e-01, 5.09708284e-01, 8.42080976e-02,\n",
       "       9.37043719e-01, 1.98825885e-01, 2.60949042e-01, 9.56708133e-01,\n",
       "       2.36247831e-01, 2.17311894e-01, 5.88723977e-01, 2.80318132e-01,\n",
       "       5.51723938e-01, 5.48446900e-01, 3.12329829e-01, 8.71022073e-01,\n",
       "       3.38898882e-01, 3.79738958e-01, 7.26760670e-01, 8.75724288e-01,\n",
       "       2.25884093e-01, 4.07335957e-01, 8.95318644e-01, 3.31289340e-01,\n",
       "       6.01965075e-01, 1.75201584e-01, 6.07592141e-02, 3.11407005e-01,\n",
       "       6.72648977e-01, 6.98776932e-02, 5.90225383e-02, 3.65141832e-01,\n",
       "       9.97836953e-01, 7.89036929e-01, 4.31046165e-01, 1.21898529e-01,\n",
       "       2.26663009e-01, 4.60672217e-03, 6.71249359e-01, 2.58285114e-01,\n",
       "       8.80200656e-01, 1.18389451e-01, 7.11737361e-02, 8.48720902e-01,\n",
       "       4.28324114e-01, 2.97176903e-01, 4.19684123e-01, 2.25144014e-01,\n",
       "       1.93405341e-02, 1.24107479e-01, 8.86347952e-01, 7.74605294e-01,\n",
       "       7.26515975e-01, 5.08413622e-01, 2.39129678e-01, 8.11922829e-01,\n",
       "       1.09893061e-01, 6.40466544e-02, 9.25351148e-01, 4.93970387e-01,\n",
       "       7.97697747e-01, 8.69793636e-01, 7.53308372e-01, 5.99302015e-02,\n",
       "       4.30939293e-01, 9.11268117e-01, 8.98443295e-01, 2.87788630e-01,\n",
       "       2.21683355e-01, 2.31633712e-04, 6.19684338e-01, 7.56490244e-01,\n",
       "       6.09559989e-01, 1.96726023e-01, 8.00991663e-02, 1.45127288e-01,\n",
       "       6.81788273e-01, 6.79655589e-01, 5.37056905e-01, 9.06554830e-01,\n",
       "       1.41703480e-02, 7.98833278e-01, 1.15899387e-01, 5.50639007e-01,\n",
       "       8.77590213e-01, 3.00472365e-01, 7.12597369e-01, 1.57914504e-01,\n",
       "       2.55554179e-01, 5.31767588e-01, 6.88004225e-02, 5.97907308e-01,\n",
       "       7.33632992e-01, 6.34695435e-01, 6.83169828e-02, 4.43933538e-02,\n",
       "       9.99351663e-01, 3.02966702e-01, 1.54680142e-01, 1.89652912e-01,\n",
       "       1.79015832e-01, 5.32867962e-01, 9.87606641e-01, 8.88580109e-01,\n",
       "       9.12812837e-01, 3.56478879e-01, 2.87220532e-01, 1.83365568e-03,\n",
       "       2.02957087e-01, 9.62757148e-01, 3.67921798e-01, 8.24944771e-01,\n",
       "       3.28418103e-01, 1.51156988e-01, 6.91302489e-01, 7.96093611e-02,\n",
       "       2.14048136e-01, 4.10590951e-01, 2.07220500e-01, 8.21582900e-01,\n",
       "       9.67975314e-01, 1.41057308e-01, 2.70022337e-01, 3.13452122e-01,\n",
       "       2.28242182e-01, 1.85107925e-01, 9.03992316e-01, 2.79507643e-01,\n",
       "       7.24522599e-02, 6.56516385e-01, 3.77914359e-01, 8.94335295e-01,\n",
       "       9.43362282e-01, 5.60905462e-01, 9.01404534e-02, 9.84372717e-02,\n",
       "       7.59825977e-01, 7.40029088e-01, 6.14281417e-02, 4.97981798e-01,\n",
       "       1.98906761e-01, 6.18839705e-01, 5.89917867e-01, 7.88574741e-01,\n",
       "       5.60448566e-01, 2.89505532e-01, 4.37229089e-01, 9.54482322e-01,\n",
       "       6.99768135e-02, 5.98724726e-01, 8.45009884e-01, 9.15507693e-01])"
      ]
     },
     "execution_count": 83,
     "metadata": {},
     "output_type": "execute_result"
    }
   ],
   "source": [
    "RANDOM_SEED = 8924\n",
    "np.random.seed(286)\n",
    "az.style.use(\"arviz-darkgrid\")\n",
    "\n",
    "# unit loss calculation\n",
    "def loss(booking_price, claim_cost, flat_cost=3):\n",
    "    margin = booking_price - flat_cost - claim_cost\n",
    "    return margin\n",
    "\n",
    "# objective function to minimize over n-bookings\n",
    "def objective(booking_price, claims_costs):\n",
    "    losses = []\n",
    "    ## Loop over sample losses due to posterior samples of claim costs\n",
    "    for claim_cost_sample, booking_price_sample in zip(claim_costs, booking_price):\n",
    "        unit_margin = loss(booking_price_sample, claim_cost_sample)\n",
    "        losses.append(unit_margin)\n",
    "\n",
    "    return np.asarray(losses)\n",
    "\n",
    "def generate_location_data(n_locations, n_months):\n",
    "    from string import ascii_lowercase\n",
    "    from random import choice\n",
    "\n",
    "    locations = []\n",
    "    for i in range(n_locations):\n",
    "        letters = ''.join([choice(ascii_lowercase) for _ in range(5)])\n",
    "        locations.append(letters)\n",
    "    \n",
    "    dates = pd.date_range(start='2019-01-01', periods=n_months, freq='MS')\n",
    "    pairs = [(loc, date) for loc in locations for date in dates]\n",
    "    \n",
    "    ## Get Booking Counts\n",
    "    ## Monthly Means\n",
    "    mus = [1000, 1500, 1700, 2000, 5000, 9000, 10000, 8000, 5000, 3000, 2000, 3000]\n",
    "    sigmas = [500, 200, 100, 300, 1000, 3000, 2000, 1000, 500, 1000, 100, 500]\n",
    "    ##  Sample Draws \n",
    "    params = [np.random.normal(mus[i], sigmas[i], 12) for i in range(len(dates))]\n",
    "    bookings = [[k, str(dates[p]), np.random.poisson(params[p][p])] for k in locations \n",
    "    for p in range(len(dates))]\n",
    "    return bookings\n",
    "    ##\n",
    "    ## Get lognormal claim costs\n",
    "    mu, sigma = 3., 1. # mean and standard deviation\n",
    "    scaling = 350\n",
    "    costs = np.random.lognormal(mu, sigma, len(pairs)) + scaling \n",
    "\n",
    "    df = pd.DataFrame(bookings)\n",
    "    df['claim_cost'] = costs\n",
    "    return df\n",
    "\n",
    "#df = generate_location_data(100, 12)\n",
    "#df\n",
    "\n",
    "np.random.randint()"
   ]
  },
  {
   "cell_type": "code",
   "execution_count": null,
   "metadata": {
    "collapsed": true
   },
   "outputs": [],
   "source": []
  }
 ],
 "metadata": {
  "kernelspec": {
   "display_name": "examined_algorithms",
   "language": "python",
   "name": "examined_algorithms"
  },
  "language_info": {
   "codemirror_mode": {
    "name": "ipython",
    "version": 3
   },
   "file_extension": ".py",
   "mimetype": "text/x-python",
   "name": "python",
   "nbconvert_exporter": "python",
   "pygments_lexer": "ipython3",
   "version": "3.6.10"
  },
  "toc": {
   "base_numbering": 1,
   "nav_menu": {},
   "number_sections": true,
   "sideBar": true,
   "skip_h1_title": false,
   "title_cell": "Table of Contents",
   "title_sidebar": "Contents",
   "toc_cell": true,
   "toc_position": {},
   "toc_section_display": true,
   "toc_window_display": false
  }
 },
 "nbformat": 4,
 "nbformat_minor": 2
}
