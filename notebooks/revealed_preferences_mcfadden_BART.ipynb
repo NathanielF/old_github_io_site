{
 "cells": [
  {
   "cell_type": "code",
   "execution_count": 1,
   "metadata": {
    "collapsed": true
   },
   "outputs": [],
   "source": [
    "import random\n",
    "import statsmodels.api as sm\n",
    "import numpy as np\n",
    "import pandas as pd\n",
    "import scipy.stats as stats\n",
    "from scipy.optimize import minimize_scalar, minimize\n",
    "from IPython.display import Latex\n",
    "from stargazer.stargazer import Stargazer\n",
    "from IPython.core.display import HTML"
   ]
  },
  {
   "cell_type": "markdown",
   "metadata": {},
   "source": [
    "This notebook is a python port of some of the code in \"Learning Microeconometrics with R\" by Christopher P Adams. It corresponds to the blog post: https://nathanielf.github.io//post/mle_utility_and_choice/"
   ]
  },
  {
   "cell_type": "markdown",
   "metadata": {},
   "source": [
    "# Revealed Preference"
   ]
  },
  {
   "cell_type": "markdown",
   "metadata": {},
   "source": [
    "**Revealed Preference Axiom ** If there are two choices, A and B, and we\n",
    "observe a person choose A, then her utility from A is greater than her utility\n",
    "from B.\n",
    "\n",
    "So in a simple binary case we can estimate the utility from differences expresed over the purchase prices.When $A$ is purchased over $B$ we know that \n",
    "\n",
    "$$ u_A - p_A < u_B - p_B $$ \n",
    "\n",
    "Normalising to a particular reference price, say B, We set $p = p_A - p_B$ and $utility = u_A - u_B$"
   ]
  },
  {
   "cell_type": "code",
   "execution_count": 191,
   "metadata": {
    "collapsed": false
   },
   "outputs": [
    {
     "data": {
      "text/plain": [
       "0.236"
      ]
     },
     "execution_count": 191,
     "metadata": {},
     "output_type": "execute_result"
    }
   ],
   "source": [
    "N = 1000\n",
    "np.random.seed(0)\n",
    "u = np.random.normal(0, 3, N)\n",
    "u = np.sort(u)\n",
    "p_B = 2\n",
    "# Share cases where utility is positive i.e. where A is chosen\n",
    "np.mean(u - p_B > 0)"
   ]
  },
  {
   "cell_type": "markdown",
   "metadata": {},
   "source": [
    "This is a simple example of where we can use assumptions of revealed preference and a hypothetical range of utility"
   ]
  },
  {
   "cell_type": "code",
   "execution_count": 609,
   "metadata": {
    "collapsed": false
   },
   "outputs": [
    {
     "data": {
      "text/plain": [
       "<matplotlib.axes._subplots.AxesSubplot at 0x149dc7198>"
      ]
     },
     "execution_count": 609,
     "metadata": {},
     "output_type": "execute_result"
    },
    {
     "data": {
      "image/png": "[encoded data removed]",
      "text/plain": [
       "<Figure size 432x288 with 1 Axes>"
      ]
     },
     "metadata": {
      "needs_background": "light"
     },
     "output_type": "display_data"
    },
    {
     "data": {
      "image/png": "[encoded data removed]",
      "text/plain": [
       "<Figure size 432x288 with 1 Axes>"
      ]
     },
     "metadata": {
      "needs_background": "light"
     },
     "output_type": "display_data"
    }
   ],
   "source": [
    "# Random distribution of price points\n",
    "p = np.random.uniform(-10, 10, N)\n",
    "share_empirical = np.zeros(shape=(len(p), 1))\n",
    "share_theoretical = np.zeros(shape=(len(p), 1))\n",
    "ecdf = ECDF(u)\n",
    "for i in range(0, len(p)):\n",
    "    # share of market with a positive utility for A over B at a given price point\n",
    "    share_empirical[i] = np.mean(u-p[i] > 0)\n",
    "\n",
    "# Get the Empirical cdf fro U\n",
    "share_theoretical = 1-ecdf(u)\n",
    "    \n",
    "\n",
    "pd.DataFrame({'share_empirical': share_empirical.flatten(), 'p': p}).plot(x='share_empirical',\n",
    "                                                                          y='p', kind=\"scatter\", \n",
    "                                                                          title=\"Price by Estimated Shares\")\n",
    "\n",
    "pd.DataFrame({'share_theoretical': share_theoretical.flatten(), 'u':u }).plot(x='share_theoretical', \n",
    "                                                                                             y='u', kind=\"scatter\", \n",
    "                                                                                title=\"Utility by Theoretical Shares\")"
   ]
  },
  {
   "cell_type": "markdown",
   "metadata": {},
   "source": [
    "However in both cases we made use of the fact that we knew the distribution of the utilities"
   ]
  },
  {
   "cell_type": "markdown",
   "metadata": {},
   "source": [
    "## The Problem: Modelling Discrete Choice by Latent Utility Metrics"
   ]
  },
  {
   "cell_type": "markdown",
   "metadata": {},
   "source": [
    "Some assumptions about the form of the utility distribution are crucial as our modeling efforts will go wrong if we know nothing about the latent utilities. We assume that the latent utility can be expressed as by the revealed preferences i.e. as the share or proportion of choices made by the customers.\n",
    "\n",
    "The utility is some function of product and consumer's properties, perhaps mostly driven by price\n",
    "\n",
    "$$ utility = \\mathbf{X'}\\beta + e$$\n",
    "\n",
    "and market share is an expression of that utility\n",
    "$$ demand_A = utility_{A} > 0 $$\n",
    "\n",
    "In a choice context we're trying to determine if the implicit utility measure is sufficient to drive a purchase, and as such OLS models are inappropriate"
   ]
  },
  {
   "cell_type": "code",
   "execution_count": 602,
   "metadata": {
    "collapsed": false
   },
   "outputs": [
    {
     "name": "stdout",
     "output_type": "stream",
     "text": [
      "                            OLS Regression Results                            \n",
      "==============================================================================\n",
      "Dep. Variable:                      y   R-squared:                       0.200\n",
      "Model:                            OLS   Adj. R-squared:                  0.198\n",
      "Method:                 Least Squares   F-statistic:                     124.5\n",
      "Date:                Sat, 20 Feb 2021   Prob (F-statistic):           5.42e-49\n",
      "Time:                        16:01:07   Log-Likelihood:                 58.448\n",
      "No. Observations:                1000   AIC:                            -110.9\n",
      "Df Residuals:                     997   BIC:                            -96.17\n",
      "Df Model:                           2                                         \n",
      "Covariance Type:            nonrobust                                         \n",
      "=================================================================================\n",
      "                    coef    std err          t      P>|t|      [0.025      0.975]\n",
      "---------------------------------------------------------------------------------\n",
      "const             0.2095      0.040      5.291      0.000       0.132       0.287\n",
      "product_desc      0.1120      0.013      8.939      0.000       0.087       0.137\n",
      "product_desc1    -0.1045      0.008    -12.630      0.000      -0.121      -0.088\n",
      "==============================================================================\n",
      "Omnibus:                      472.919   Durbin-Watson:                   1.983\n",
      "Prob(Omnibus):                  0.000   Jarque-Bera (JB):             1999.877\n",
      "Skew:                           2.298   Prob(JB):                         0.00\n",
      "Kurtosis:                       8.183   Cond. No.                         23.8\n",
      "==============================================================================\n",
      "\n",
      "Warnings:\n",
      "[1] Standard Errors assume that the covariance matrix of the errors is correctly specified.\n",
      "const            0.20953\n",
      "product_desc     0.11204\n",
      "product_desc1   -0.10449\n",
      "dtype: float64\n"
     ]
    }
   ],
   "source": [
    "N = 1000\n",
    "a = 2\n",
    "b = -3\n",
    "e = np.random.normal(0, 1, N)\n",
    "consumer_desc = np.random.uniform(3, 1, N)\n",
    "consumer_desc1 = np.random.uniform(2, 5, N)\n",
    "utility = 2 + 3*consumer_desc + -4*consumer_desc1 + e\n",
    "## Predicting choice over two options\n",
    "demand_A = utility > 0\n",
    "X = pd.DataFrame({'product_desc': consumer_desc, 'product_desc1': consumer_desc1})\n",
    "X = sm.add_constant(X)\n",
    "lm1 = sm.OLS(demand_A,X)\n",
    "lm1_results = lm1.fit()\n",
    "print(lm1_results.summary())\n",
    "print(round(lm1_results.params, 5))"
   ]
  },
  {
   "cell_type": "markdown",
   "metadata": {},
   "source": [
    "This stems from the fact that we're'trying to estimate a conditional probability over a binary choice not a continuous measure. The revealed preference assumption says that we can predict the purchase if the utility of good is positive.\n",
    "\n",
    "$$Pr(demand_A = 1) = utility > 0 $$ \n",
    "$$= Pr(\\mathbf{X'}\\beta + e > 0) $$\n",
    "$$ = Pr(e > - \\mathbf{X'}\\beta ) $$\n",
    "$$ = 1 - F(\\mathbf{X'}\\beta ) $$\n",
    "\n",
    "where $F$ is the distribution of the unobserved random variable $e$. The challenge is using the correct distribution as this feeds the method of statistical estimation of the parameters $\\beta$"
   ]
  },
  {
   "cell_type": "markdown",
   "metadata": {},
   "source": [
    "## Maximum Likelihood Fits over Candidate Distributions"
   ]
  },
  {
   "cell_type": "markdown",
   "metadata": {},
   "source": [
    "There are a number of candidate distributions which might serve to replace $F$ and estimate the share of purchases"
   ]
  },
  {
   "cell_type": "code",
   "execution_count": 603,
   "metadata": {
    "collapsed": false
   },
   "outputs": [
    {
     "name": "stdout",
     "output_type": "stream",
     "text": [
      "      fun: 64.10354778811556\n",
      " hess_inv: <1x1 LbfgsInvHessProduct with dtype=float64>\n",
      "      jac: array([0.])\n",
      "  message: b'CONVERGENCE: NORM_OF_PROJECTED_GRADIENT_<=_PGTOL'\n",
      "     nfev: 16\n",
      "      nit: 6\n",
      "     njev: 8\n",
      "   status: 0\n",
      "  success: True\n",
      "        x: array([0.33999999])\n"
     ]
    }
   ],
   "source": [
    "def log_binomial_dist(params, *args):\n",
    "    p = params[0]\n",
    "    p_hat = args[0]\n",
    "    N = args[1]\n",
    "    return -((p_hat*N)*np.log(p) + (1-p_hat)*N*np.log(1-(p)))\n",
    "\n",
    "res = minimize(log_binomial_dist, x0 = [.1], args =(.34, 100), bounds = ((0, .99),))\n",
    "print(res)\n",
    "    \n",
    "\n"
   ]
  },
  {
   "cell_type": "code",
   "execution_count": 604,
   "metadata": {
    "collapsed": false
   },
   "outputs": [
    {
     "name": "stdout",
     "output_type": "stream",
     "text": [
      " final_simplex: (array([[1.27170093, 0.28846111, 4.97078397, 2.33608166, 0.98080792],\n",
      "       [1.27163611, 0.28845751, 4.97079439, 2.33611095, 0.98081281],\n",
      "       [1.27179597, 0.28845924, 4.97076792, 2.33606271, 0.98080085],\n",
      "       [1.27178217, 0.28845315, 4.97077749, 2.33606068, 0.98081083],\n",
      "       [1.2716755 , 0.28844586, 4.97079715, 2.33609652, 0.98080788],\n",
      "       [1.27174903, 0.28845715, 4.97077654, 2.33606353, 0.98081551]]), array([1399.55005084, 1399.55005089, 1399.55005094, 1399.55005095,\n",
      "       1399.55005095, 1399.55005106]))\n",
      "           fun: 1399.5500508414766\n",
      "       message: 'Optimization terminated successfully.'\n",
      "          nfev: 384\n",
      "           nit: 238\n",
      "        status: 0\n",
      "       success: True\n",
      "             x: array([1.27170093, 0.28846111, 4.97078397, 2.33608166, 0.98080792])\n"
     ]
    }
   ],
   "source": [
    "def ll_ols(params, *args):\n",
    "    X, y = args[0], args[1]\n",
    "    beta = [params[0], params[1], params[2]]\n",
    "    mu, sd, = params[3], params[4]\n",
    "    z = (y - X.dot(beta)) / sd\n",
    "    log_lik = -sum(np.log(stats.norm.pdf(z)) - np.log(sd))\n",
    "    return log_lik\n",
    "\n",
    "x = np.random.normal(5, 2, 1000)\n",
    "x1 = np.random.normal(6, 1, 1000)\n",
    "x2 = np.random.uniform(2, 7, 1000)\n",
    "y = 1 + .3*x + 5*x1 + np.random.normal(0, 1, 1000)\n",
    "\n",
    "X1 = pd.DataFrame({'consumer_desc': x, 'consumer_desc1': x1})\n",
    "X1 = sm.add_constant(X1)\n",
    "\n",
    "res = minimize(ll_ols, x0 =[2, 1, 4, 2, 1], method = 'Nelder-Mead', args =(X1, y))\n",
    "print(res)"
   ]
  },
  {
   "cell_type": "code",
   "execution_count": 605,
   "metadata": {
    "collapsed": false
   },
   "outputs": [
    {
     "name": "stdout",
     "output_type": "stream",
     "text": [
      "Optimization terminated successfully.\n",
      "         Current function value: 94.044202\n",
      "         Iterations: 17\n",
      "         Function evaluations: 108\n",
      "         Gradient evaluations: 18\n",
      "      fun: 94.04420183563171\n",
      " hess_inv: array([[ 0.72799404, -0.03552851, -0.26060106,  0.        ,  0.        ],\n",
      "       [-0.03552851,  0.09513159, -0.08023828,  0.        ,  0.        ],\n",
      "       [-0.26060106, -0.08023828,  0.18756252,  0.        ,  0.        ],\n",
      "       [ 0.        ,  0.        ,  0.        ,  1.        ,  0.        ],\n",
      "       [ 0.        ,  0.        ,  0.        ,  0.        ,  1.        ]])\n",
      "      jac: array([ 3.81469727e-06, -9.53674316e-06,  0.00000000e+00,  0.00000000e+00,\n",
      "        0.00000000e+00])\n",
      "  message: 'Optimization terminated successfully.'\n",
      "     nfev: 108\n",
      "      nit: 17\n",
      "     njev: 18\n",
      "   status: 0\n",
      "  success: True\n",
      "        x: array([ 2.14197608,  2.42768647, -3.51990129,  0.        ,  1.        ])\n"
     ]
    }
   ],
   "source": [
    "def log_probit_dist(params, *args):\n",
    "    X, y = args[0], args[1]\n",
    "    beta = [params[0], params[1], params[2]]\n",
    "    mu, sd, = params[3], params[4]\n",
    "    Xb = X.dot(beta)\n",
    "    q = 2*y-1\n",
    "    log_lik = np.log(stats.norm.cdf(q*Xb))\n",
    "    return -sum(log_lik)\n",
    "\n",
    "### Optimise the probit model for determining the parameters required toe estimate the underlying utility\n",
    "### True values of the parameters 2, 3, -4\n",
    "res = minimize(log_probit_dist, x0 =[0, 0 ,0 , 0, 1], args =(X, demand_A), options={'disp': True})\n",
    "print(res)"
   ]
  },
  {
   "cell_type": "markdown",
   "metadata": {},
   "source": [
    "These estimates are still incorrect but an awful lot closer than the fits achieved by the ols model in the first section. We can validate the above optimisation against the inbuilt model of statsmodels"
   ]
  },
  {
   "cell_type": "code",
   "execution_count": 606,
   "metadata": {
    "collapsed": false
   },
   "outputs": [
    {
     "name": "stdout",
     "output_type": "stream",
     "text": [
      "Optimization terminated successfully.\n",
      "         Current function value: 0.094044\n",
      "         Iterations 10\n",
      "Parameters:  const            2.141972\n",
      "product_desc     2.427687\n",
      "product_desc1   -3.519900\n",
      "dtype: float64\n",
      "Marginal effects: \n",
      "       Probit Marginal Effects       \n",
      "=====================================\n",
      "Dep. Variable:                      y\n",
      "Method:                          dydx\n",
      "At:                           overall\n",
      "=================================================================================\n",
      "                   dy/dx    std err          z      P>|z|      [0.025      0.975]\n",
      "---------------------------------------------------------------------------------\n",
      "product_desc      0.1285      0.011     12.137      0.000       0.108       0.149\n",
      "product_desc1    -0.1863      0.015    -12.674      0.000      -0.215      -0.157\n",
      "=================================================================================\n"
     ]
    }
   ],
   "source": [
    "probit_mod = sm.Probit(demand_A, X)\n",
    "probit_res = probit_mod.fit()\n",
    "probit_margeff = probit_res.get_margeff()\n",
    "print('Parameters: ', probit_res.params)\n",
    "print('Marginal effects: ')\n",
    "print(probit_margeff.summary())"
   ]
  },
  {
   "cell_type": "markdown",
   "metadata": {},
   "source": [
    "## McFaddan's BART Discrete Choice Model"
   ]
  },
  {
   "cell_type": "markdown",
   "metadata": {},
   "source": [
    "The idea is a generalisation of the above to estimate the difference in utilities across multiple products. "
   ]
  },
  {
   "cell_type": "markdown",
   "metadata": {},
   "source": [
    "$$ U_{i,j} = \\mathbf{X'}_{i, j}\\beta + v_{i,j} $$\n",
    "\n",
    "where the each individual's $i$ utility for a given good $j$ is expressed as a linear weighted function of the product characteristics $\\mathbf{X}$. Since we need to predict demand based on utility we're really interested in estimating the differnce in utility"
   ]
  },
  {
   "cell_type": "markdown",
   "metadata": {},
   "source": [
    "$$U_{i,A} > U_{i, B} $$\n",
    "\n",
    "just when \n",
    "\n",
    "$$ \\mathbf{X'}_{i, A}\\beta + v_{i,A} > \\mathbf{X'}_{i, B}\\beta + v_{i,B}$$\n",
    "\n",
    "or \n",
    "\n",
    "$$  v_{i,A} -  v_{i,B} > - (\\mathbf{X'}_{i, A}  - \\mathbf{X'}_{i, B})\\beta $$\n",
    "\n",
    "but then the probability of demand is just \n",
    "\n",
    "$$Pr(demand_A = 1 | \\mathbf{X'}_{i, A}, \\mathbf{X'}_{i, B}) = Pr\\Bigg( v_{i,A} -  v_{i,B} > - (\\mathbf{X'}_{i, A}  - \\mathbf{X'}_{i, B})\\beta \\Bigg) $$\n",
    "$$ = Pr\\Bigg( -v_{i,A} -  v_{i,B} < (\\mathbf{X'}_{i, A}  - \\mathbf{X'}_{i, B})\\beta \\Bigg) $$\n",
    "$$ = F\\Bigg( (\\mathbf{X'}_{i, A}  - \\mathbf{X'}_{i, B})\\beta \\Bigg) $$"
   ]
  },
  {
   "cell_type": "markdown",
   "metadata": {},
   "source": [
    "## An Example in Two Products & Two Models"
   ]
  },
  {
   "cell_type": "code",
   "execution_count": 553,
   "metadata": {
    "collapsed": false
   },
   "outputs": [],
   "source": [
    "N = 100\n",
    "X_A = sm.add_constant(np.random.rand(N,2))\n",
    "X_B = sm.add_constant(np.random.rand(N, 2))\n",
    "beta = np.array([1, -2, 3])\n",
    "\n",
    "#probit we only need one normal error term since sums of normals are normal\n",
    "v = np.random.normal(0, 1, N)\n",
    "y = (X_A.dot(beta) - X_B.dot(beta)) + v > 0\n",
    "X_diff = X_A - X_B\n",
    "X_diff[:, 0] =  1\n",
    "X_diff = pd.DataFrame(X_diff, columns=['const', 'product_desc', 'product_desc1'])"
   ]
  },
  {
   "cell_type": "markdown",
   "metadata": {},
   "source": [
    "Again we can try two classification algorithms which attempt to characterise the error terms $v_{1}, v_{2}$ that the McFaddan model assumes"
   ]
  },
  {
   "cell_type": "code",
   "execution_count": 554,
   "metadata": {
    "collapsed": false
   },
   "outputs": [
    {
     "name": "stdout",
     "output_type": "stream",
     "text": [
      "Optimization terminated successfully.\n",
      "         Current function value: 0.426413\n",
      "         Iterations 6\n"
     ]
    }
   ],
   "source": [
    "probit_mod = sm.Probit(y, X_diff)\n",
    "probit_res = probit_mod.fit()\n",
    "probit_margeff = probit_res.get_margeff()"
   ]
  },
  {
   "cell_type": "code",
   "execution_count": 555,
   "metadata": {
    "collapsed": false
   },
   "outputs": [
    {
     "name": "stdout",
     "output_type": "stream",
     "text": [
      "Optimization terminated successfully.\n",
      "         Current function value: 0.499093\n",
      "         Iterations 6\n"
     ]
    }
   ],
   "source": [
    "v1 = np.random.weibull(1, N)\n",
    "v2 = np.random.weibull(1, N)\n",
    "y = (X_A.dot(beta) - X_B.dot(beta)) + (v1 - v2) > 0\n",
    "logit_mod = sm.Logit(y, X_diff)\n",
    "logit_res = logit_mod.fit()\n",
    "logit_margeff = logit_res.get_margeff()"
   ]
  },
  {
   "cell_type": "code",
   "execution_count": 560,
   "metadata": {
    "collapsed": false
   },
   "outputs": [
    {
     "data": {
      "text/html": [
       "<table style=\"text-align:center\"><tr><td colspan=\"3\" style=\"border-bottom: 1px solid black\"></td></tr><tr><td style=\"text-align:left\"></td><td colspan=\"2\"><em>Dependent variable:y</em></td></tr><tr><td style=\"text-align:left\"></td><tr><td></td><td colspan=\"1\">Probit Model</td><td colspan=\"1\">Logit Model</td></tr><tr><td style=\"text-align:left\"></td><td>(1)</td><td>(2)</td></tr><tr><td colspan=\"3\" style=\"border-bottom: 1px solid black\"></td></tr><tr><td style=\"text-align:left\">const</td><td>-0.255<sup></sup></td><td>-0.049<sup></sup></td></tr><tr><td style=\"text-align:left\"></td><td>(0.156)</td><td>(0.246)</td></tr><tr><td style=\"text-align:left\">product_desc</td><td>-1.491<sup>***</sup></td><td>-2.157<sup>***</sup></td></tr><tr><td style=\"text-align:left\"></td><td>(0.445)</td><td>(0.690)</td></tr><tr><td style=\"text-align:left\">product_desc1</td><td>2.964<sup>***</sup></td><td>3.833<sup>***</sup></td></tr><tr><td style=\"text-align:left\"></td><td>(0.578)</td><td>(0.888)</td></tr><td colspan=\"3\" style=\"border-bottom: 1px solid black\"></td></tr><tr><td style=\"text-align: left\">Observations</td><td>100</td><td>100</td></tr><tr><td style=\"text-align: left\">R<sup>2</sup></td><td></td><td></td></tr><tr><td style=\"text-align: left\">Adjusted R<sup>2</sup></td><td></td><td></td></tr><tr><td style=\"text-align: left\">Residual Std. Error</td><td>1.000 (df=97)</td><td>1.000 (df=97)</td></tr><tr><td style=\"text-align: left\">F Statistic</td><td><sup></sup> (df=2; 97)</td><td><sup></sup> (df=2; 97)</td></tr><tr><td colspan=\"3\" style=\"border-bottom: 1px solid black\"></td></tr><tr><td style=\"text-align: left\">Note:</td>\n",
       " <td colspan=\"2\" style=\"text-align: right\">\n",
       "  <sup>*</sup>p&lt;0.1;\n",
       "  <sup>**</sup>p&lt;0.05;\n",
       "  <sup>***</sup>p&lt;0.01\n",
       " </td></tr></table>"
      ],
      "text/plain": [
       "<IPython.core.display.HTML object>"
      ]
     },
     "execution_count": 560,
     "metadata": {},
     "output_type": "execute_result"
    }
   ],
   "source": [
    "stargazer = Stargazer([probit_res, logit_res])\n",
    "stargazer.custom_columns(['Probit Model', 'Logit Model'], [1, 1])\n",
    "#stargazer.add_custom_notes([str(probit_margeff.summary()), str(logit_margeff.summary())])\n",
    "HTML(stargazer.render_html())"
   ]
  },
  {
   "cell_type": "markdown",
   "metadata": {},
   "source": [
    "## Generalising to Multiple choices: The Multinomial Distribution"
   ]
  },
  {
   "cell_type": "code",
   "execution_count": 2,
   "metadata": {
    "collapsed": false
   },
   "outputs": [
    {
     "name": "stdout",
     "output_type": "stream",
     "text": [
      "Optimization terminated successfully.\n",
      "         Current function value: 542.609688\n",
      "         Iterations: 185\n",
      "         Function evaluations: 338\n"
     ]
    },
    {
     "data": {
      "text/plain": [
       " final_simplex: (array([[-1.74855767, -5.18018459,  7.07552039],\n",
       "       [-1.74856002, -5.18016799,  7.07549515],\n",
       "       [-1.74856866, -5.18022325,  7.07555337],\n",
       "       [-1.74862589, -5.18016727,  7.07561422]]), array([542.60968847, 542.60968847, 542.60968848, 542.60968848]))\n",
       "           fun: 542.6096884689198\n",
       "       message: 'Optimization terminated successfully.'\n",
       "          nfev: 338\n",
       "           nit: 185\n",
       "        status: 0\n",
       "       success: True\n",
       "             x: array([-1.74855767, -5.18018459,  7.07552039])"
      ]
     },
     "execution_count": 2,
     "metadata": {},
     "output_type": "execute_result"
    }
   ],
   "source": [
    "np.random.seed(100)\n",
    "N = 1000\n",
    "mu = [0,0]\n",
    "rho = 0.1\n",
    "cov = [[1, rho], [rho, 1]]\n",
    "\n",
    "# u is N*2\n",
    "u = np.random.multivariate_normal(mu, cov, 1000)\n",
    "x1 = np.random.uniform(0, 1, size=(N,2)) #np.random.rand(N,2)\n",
    "x2 = np.random.uniform(0, 1, size=(N,2)) #np.random.rand(N,2)\n",
    "\n",
    "U = -1 + -3*x1 + 4*x2 + u\n",
    "\n",
    "y = np.zeros(shape=(N, 2))\n",
    "y[:,0] = ((U[:,0] > 0) & (U[:,0] > U[:,1]))\n",
    "y[:,1] = (U[:,1] > 0 & (U[:,1] > U[:,0]))\n",
    "\n",
    "\n",
    "W1 = pd.DataFrame({'x1':x1[:,0], 'x2':x2[:,0]})\n",
    "W2 = pd.DataFrame({'x1':x1[:,1], 'x2':x2[:,1]})\n",
    "\n"
   ]
  },
  {
   "cell_type": "code",
   "execution_count": 190,
   "metadata": {
    "collapsed": false
   },
   "outputs": [
    {
     "name": "stdout",
     "output_type": "stream",
     "text": [
      "Optimization terminated successfully.\n",
      "         Current function value: 0.630391\n",
      "         Iterations 7\n"
     ]
    },
    {
     "data": {
      "text/html": [
       "<table class=\"simpletable\">\n",
       "<caption>MNLogit Regression Results</caption>\n",
       "<tr>\n",
       "  <th>Dep. Variable:</th>           <td>y</td>        <th>  No. Observations:  </th>   <td>  2000</td>  \n",
       "</tr>\n",
       "<tr>\n",
       "  <th>Model:</th>                <td>MNLogit</td>     <th>  Df Residuals:      </th>   <td>  1994</td>  \n",
       "</tr>\n",
       "<tr>\n",
       "  <th>Method:</th>                 <td>MLE</td>       <th>  Df Model:          </th>   <td>     4</td>  \n",
       "</tr>\n",
       "<tr>\n",
       "  <th>Date:</th>            <td>Thu, 25 Feb 2021</td> <th>  Pseudo R-squ.:     </th>   <td>0.2924</td>  \n",
       "</tr>\n",
       "<tr>\n",
       "  <th>Time:</th>                <td>21:23:52</td>     <th>  Log-Likelihood:    </th>  <td> -1260.8</td> \n",
       "</tr>\n",
       "<tr>\n",
       "  <th>converged:</th>             <td>True</td>       <th>  LL-Null:           </th>  <td> -1781.9</td> \n",
       "</tr>\n",
       "<tr>\n",
       "  <th>Covariance Type:</th>     <td>nonrobust</td>    <th>  LLR p-value:       </th> <td>2.587e-224</td>\n",
       "</tr>\n",
       "</table>\n",
       "<table class=\"simpletable\">\n",
       "<tr>\n",
       "  <th>y=class_1</th>    <th>coef</th>     <th>std err</th>      <th>z</th>      <th>P>|z|</th>  <th>[0.025</th>    <th>0.975]</th>  \n",
       "</tr>\n",
       "<tr>\n",
       "  <th>const</th>     <td>   -2.6666</td> <td>    0.219</td> <td>  -12.201</td> <td> 0.000</td> <td>   -3.095</td> <td>   -2.238</td>\n",
       "</tr>\n",
       "<tr>\n",
       "  <th>x1</th>        <td>   -4.7724</td> <td>    0.315</td> <td>  -15.143</td> <td> 0.000</td> <td>   -5.390</td> <td>   -4.155</td>\n",
       "</tr>\n",
       "<tr>\n",
       "  <th>x2</th>        <td>    6.2800</td> <td>    0.360</td> <td>   17.461</td> <td> 0.000</td> <td>    5.575</td> <td>    6.985</td>\n",
       "</tr>\n",
       "<tr>\n",
       "  <th>y=class_2</th>    <th>coef</th>     <th>std err</th>      <th>z</th>      <th>P>|z|</th>  <th>[0.025</th>    <th>0.975]</th>  \n",
       "</tr>\n",
       "<tr>\n",
       "  <th>const</th>     <td>   -2.7293</td> <td>    0.212</td> <td>  -12.865</td> <td> 0.000</td> <td>   -3.145</td> <td>   -2.313</td>\n",
       "</tr>\n",
       "<tr>\n",
       "  <th>x1</th>        <td>   -4.4876</td> <td>    0.299</td> <td>  -15.004</td> <td> 0.000</td> <td>   -5.074</td> <td>   -3.901</td>\n",
       "</tr>\n",
       "<tr>\n",
       "  <th>x2</th>        <td>    6.4438</td> <td>    0.348</td> <td>   18.497</td> <td> 0.000</td> <td>    5.761</td> <td>    7.127</td>\n",
       "</tr>\n",
       "</table>"
      ],
      "text/plain": [
       "<class 'statsmodels.iolib.summary.Summary'>\n",
       "\"\"\"\n",
       "                          MNLogit Regression Results                          \n",
       "==============================================================================\n",
       "Dep. Variable:                      y   No. Observations:                 2000\n",
       "Model:                        MNLogit   Df Residuals:                     1994\n",
       "Method:                           MLE   Df Model:                            4\n",
       "Date:                Thu, 25 Feb 2021   Pseudo R-squ.:                  0.2924\n",
       "Time:                        21:23:52   Log-Likelihood:                -1260.8\n",
       "converged:                       True   LL-Null:                       -1781.9\n",
       "Covariance Type:            nonrobust   LLR p-value:                2.587e-224\n",
       "==============================================================================\n",
       " y=class_1       coef    std err          z      P>|z|      [0.025      0.975]\n",
       "------------------------------------------------------------------------------\n",
       "const         -2.6666      0.219    -12.201      0.000      -3.095      -2.238\n",
       "x1            -4.7724      0.315    -15.143      0.000      -5.390      -4.155\n",
       "x2             6.2800      0.360     17.461      0.000       5.575       6.985\n",
       "------------------------------------------------------------------------------\n",
       " y=class_2       coef    std err          z      P>|z|      [0.025      0.975]\n",
       "------------------------------------------------------------------------------\n",
       "const         -2.7293      0.212    -12.865      0.000      -3.145      -2.313\n",
       "x1            -4.4876      0.299    -15.004      0.000      -5.074      -3.901\n",
       "x2             6.4438      0.348     18.497      0.000       5.761       7.127\n",
       "==============================================================================\n",
       "\"\"\""
      ]
     },
     "execution_count": 190,
     "metadata": {},
     "output_type": "execute_result"
    }
   ],
   "source": [
    "y_full = np.ones(shape=(N*2,1))\n",
    "class_1 = np.where(((U[:,0] > 0) & (U[:,0] > U[:,1])), 'class_1', 'class_0')\n",
    "class_2 = np.where((U[:,1] > 0 & (U[:,1] > U[:,0])), 'class_2', 'class_0')\n",
    "y_full = np.append(class_1, class_2)\n",
    "W_full = sm.add_constant(W1.append(W2)).reset_index(drop=True)\n",
    "mn_logit = sm.MNLogit(y_full, W_full)\n",
    "mn_logit_res = mn_logit.fit()\n",
    "mn_logit_res.summary()\n"
   ]
  },
  {
   "cell_type": "code",
   "execution_count": 192,
   "metadata": {
    "collapsed": false
   },
   "outputs": [
    {
     "name": "stdout",
     "output_type": "stream",
     "text": [
      "Warning: Desired error not necessarily achieved due to precision loss.\n",
      "         Current function value: 1260.782799\n",
      "         Iterations: 21\n",
      "         Function evaluations: 470\n",
      "         Gradient evaluations: 47\n"
     ]
    },
    {
     "data": {
      "text/plain": [
       "      fun: 1260.782798764732\n",
       " hess_inv: array([[ 1.        ,  0.        ,  0.        ,  0.        ,  0.        ,\n",
       "         0.        ,  0.        ,  0.        ,  0.        ],\n",
       "       [ 0.        ,  1.        ,  0.        ,  0.        ,  0.        ,\n",
       "         0.        ,  0.        ,  0.        ,  0.        ],\n",
       "       [ 0.        ,  0.        ,  1.        ,  0.        ,  0.        ,\n",
       "         0.        ,  0.        ,  0.        ,  0.        ],\n",
       "       [ 0.        ,  0.        ,  0.        ,  0.15840199,  0.05230628,\n",
       "        -0.24846581,  0.08569624, -0.08026449, -0.11217585],\n",
       "       [ 0.        ,  0.        ,  0.        ,  0.05230628,  0.05960721,\n",
       "        -0.11533024,  0.03950015, -0.02890953, -0.06618335],\n",
       "       [ 0.        ,  0.        ,  0.        , -0.24846581, -0.11533024,\n",
       "         0.42805566, -0.14239161,  0.11728476,  0.20865474],\n",
       "       [ 0.        ,  0.        ,  0.        ,  0.08569624,  0.03950015,\n",
       "        -0.14239161,  0.0776523 , -0.03556134, -0.10565188],\n",
       "       [ 0.        ,  0.        ,  0.        , -0.08026449, -0.02890953,\n",
       "         0.11728476, -0.03556134,  0.07906259,  0.01257425],\n",
       "       [ 0.        ,  0.        ,  0.        , -0.11217585, -0.06618335,\n",
       "         0.20865474, -0.10565188,  0.01257425,  0.18307424]])\n",
       "      jac: array([0.00000000e+00, 0.00000000e+00, 0.00000000e+00, 3.05175781e-05,\n",
       "       1.52587891e-05, 0.00000000e+00, 3.05175781e-05, 3.05175781e-05,\n",
       "       3.05175781e-05])\n",
       "  message: 'Desired error not necessarily achieved due to precision loss.'\n",
       "     nfev: 470\n",
       "      nit: 21\n",
       "     njev: 47\n",
       "   status: 2\n",
       "  success: False\n",
       "        x: array([ 0.09640129,  0.00798646,  0.70648002, -2.66658562, -4.77244682,\n",
       "        6.27997417, -2.72927898, -4.48757328,  6.44379724])"
      ]
     },
     "execution_count": 192,
     "metadata": {},
     "output_type": "execute_result"
    }
   ],
   "source": [
    "from scipy.special import softmax\n",
    "\n",
    "def cdf(W, beta):\n",
    "    Wb = np.dot(W, beta)\n",
    "    eXB = np.exp(Wb)\n",
    "    eXB = eXB /eXB.sum(1)[:, None]\n",
    "    return eXB\n",
    "\n",
    "def take_log(probs):\n",
    "    epsilon = 1e-20 \n",
    "    return np.log(probs)\n",
    "\n",
    "def calc_ll(logged, d):\n",
    "    ll = d * logged\n",
    "    return ll\n",
    "\n",
    "def ll_mn_logistic(params, *args):\n",
    "    y, W, n_params, n_classes = args[0], args[1], args[2], args[3]\n",
    "    beta = [params[i] for i in range(0, len(params))]\n",
    "    beta = np.array(beta).reshape(n_params, -1, order='F')\n",
    "    beta[:,0] = [0 for i in range(0, n_params)]\n",
    "    \n",
    "    ## onehot_encode\n",
    "    d = pd.get_dummies(y, prefix='Flag').to_numpy()\n",
    "    \n",
    "    probs = cdf(W, beta)\n",
    "    logged = take_log(probs)\n",
    "    ll = calc_ll(logged, d)\n",
    "    \n",
    "    return -np.sum(ll)\n",
    "\n",
    "n_params = 3 \n",
    "n_classes = 3\n",
    "z = np.random.rand(3,3).flatten()\n",
    "#probs = ll_mn_logistic(list(z), *[y_full, W_full, n_params, n_classes])\n",
    "\n",
    "\n",
    "res = minimize(ll_mn_logistic, x0 =z, args =(y_full, W_full, n_params, n_classes), \n",
    "             options={'disp': True, 'maxiter':1000})\n",
    "res\n"
   ]
  },
  {
   "cell_type": "code",
   "execution_count": 193,
   "metadata": {
    "collapsed": false
   },
   "outputs": [
    {
     "data": {
      "text/html": [
       "<div>\n",
       "<style scoped>\n",
       "    .dataframe tbody tr th:only-of-type {\n",
       "        vertical-align: middle;\n",
       "    }\n",
       "\n",
       "    .dataframe tbody tr th {\n",
       "        vertical-align: top;\n",
       "    }\n",
       "\n",
       "    .dataframe thead th {\n",
       "        text-align: right;\n",
       "    }\n",
       "</style>\n",
       "<table border=\"1\" class=\"dataframe\">\n",
       "  <thead>\n",
       "    <tr style=\"text-align: right;\">\n",
       "      <th></th>\n",
       "      <th>HOUSEID</th>\n",
       "      <th>TRAVDAY</th>\n",
       "      <th>SAMPSTRAT</th>\n",
       "      <th>HOMEOWN</th>\n",
       "      <th>HHSIZE</th>\n",
       "      <th>HHVEHCNT</th>\n",
       "      <th>HHFAMINC</th>\n",
       "      <th>PC</th>\n",
       "      <th>SPHONE</th>\n",
       "      <th>TAB</th>\n",
       "      <th>...</th>\n",
       "      <th>SMPLSRCE</th>\n",
       "      <th>WTHHFIN</th>\n",
       "      <th>HBHUR</th>\n",
       "      <th>HTHTNRNT</th>\n",
       "      <th>HTPPOPDN</th>\n",
       "      <th>HTRESDN</th>\n",
       "      <th>HTEEMPDN</th>\n",
       "      <th>HBHTNRNT</th>\n",
       "      <th>HBPPOPDN</th>\n",
       "      <th>HBRESDN</th>\n",
       "    </tr>\n",
       "  </thead>\n",
       "  <tbody>\n",
       "    <tr>\n",
       "      <th>0</th>\n",
       "      <td>30000007</td>\n",
       "      <td>2</td>\n",
       "      <td>3</td>\n",
       "      <td>1</td>\n",
       "      <td>3</td>\n",
       "      <td>5</td>\n",
       "      <td>7</td>\n",
       "      <td>2</td>\n",
       "      <td>1</td>\n",
       "      <td>2</td>\n",
       "      <td>...</td>\n",
       "      <td>2</td>\n",
       "      <td>187.314320</td>\n",
       "      <td>T</td>\n",
       "      <td>50</td>\n",
       "      <td>1500</td>\n",
       "      <td>750</td>\n",
       "      <td>750</td>\n",
       "      <td>20</td>\n",
       "      <td>750</td>\n",
       "      <td>300</td>\n",
       "    </tr>\n",
       "    <tr>\n",
       "      <th>1</th>\n",
       "      <td>30000008</td>\n",
       "      <td>5</td>\n",
       "      <td>2</td>\n",
       "      <td>1</td>\n",
       "      <td>2</td>\n",
       "      <td>4</td>\n",
       "      <td>8</td>\n",
       "      <td>1</td>\n",
       "      <td>1</td>\n",
       "      <td>2</td>\n",
       "      <td>...</td>\n",
       "      <td>2</td>\n",
       "      <td>69.513032</td>\n",
       "      <td>R</td>\n",
       "      <td>5</td>\n",
       "      <td>300</td>\n",
       "      <td>300</td>\n",
       "      <td>150</td>\n",
       "      <td>5</td>\n",
       "      <td>300</td>\n",
       "      <td>300</td>\n",
       "    </tr>\n",
       "    <tr>\n",
       "      <th>2</th>\n",
       "      <td>30000012</td>\n",
       "      <td>5</td>\n",
       "      <td>3</td>\n",
       "      <td>1</td>\n",
       "      <td>1</td>\n",
       "      <td>2</td>\n",
       "      <td>10</td>\n",
       "      <td>1</td>\n",
       "      <td>1</td>\n",
       "      <td>3</td>\n",
       "      <td>...</td>\n",
       "      <td>2</td>\n",
       "      <td>79.419586</td>\n",
       "      <td>C</td>\n",
       "      <td>80</td>\n",
       "      <td>17000</td>\n",
       "      <td>17000</td>\n",
       "      <td>5000</td>\n",
       "      <td>60</td>\n",
       "      <td>17000</td>\n",
       "      <td>7000</td>\n",
       "    </tr>\n",
       "    <tr>\n",
       "      <th>3</th>\n",
       "      <td>30000019</td>\n",
       "      <td>5</td>\n",
       "      <td>3</td>\n",
       "      <td>1</td>\n",
       "      <td>2</td>\n",
       "      <td>2</td>\n",
       "      <td>3</td>\n",
       "      <td>1</td>\n",
       "      <td>5</td>\n",
       "      <td>5</td>\n",
       "      <td>...</td>\n",
       "      <td>2</td>\n",
       "      <td>279.143588</td>\n",
       "      <td>S</td>\n",
       "      <td>40</td>\n",
       "      <td>300</td>\n",
       "      <td>300</td>\n",
       "      <td>150</td>\n",
       "      <td>50</td>\n",
       "      <td>750</td>\n",
       "      <td>300</td>\n",
       "    </tr>\n",
       "    <tr>\n",
       "      <th>4</th>\n",
       "      <td>30000029</td>\n",
       "      <td>3</td>\n",
       "      <td>3</td>\n",
       "      <td>1</td>\n",
       "      <td>2</td>\n",
       "      <td>2</td>\n",
       "      <td>5</td>\n",
       "      <td>2</td>\n",
       "      <td>5</td>\n",
       "      <td>1</td>\n",
       "      <td>...</td>\n",
       "      <td>2</td>\n",
       "      <td>103.240304</td>\n",
       "      <td>S</td>\n",
       "      <td>40</td>\n",
       "      <td>1500</td>\n",
       "      <td>750</td>\n",
       "      <td>750</td>\n",
       "      <td>40</td>\n",
       "      <td>1500</td>\n",
       "      <td>750</td>\n",
       "    </tr>\n",
       "  </tbody>\n",
       "</table>\n",
       "<p>5 rows × 58 columns</p>\n",
       "</div>"
      ],
      "text/plain": [
       "    HOUSEID  TRAVDAY  SAMPSTRAT  HOMEOWN  HHSIZE  HHVEHCNT  HHFAMINC  PC  \\\n",
       "0  30000007        2          3        1       3         5         7   2   \n",
       "1  30000008        5          2        1       2         4         8   1   \n",
       "2  30000012        5          3        1       1         2        10   1   \n",
       "3  30000019        5          3        1       2         2         3   1   \n",
       "4  30000029        3          3        1       2         2         5   2   \n",
       "\n",
       "   SPHONE  TAB  ...  SMPLSRCE     WTHHFIN  HBHUR  HTHTNRNT  HTPPOPDN  HTRESDN  \\\n",
       "0       1    2  ...         2  187.314320      T        50      1500      750   \n",
       "1       1    2  ...         2   69.513032      R         5       300      300   \n",
       "2       1    3  ...         2   79.419586      C        80     17000    17000   \n",
       "3       5    5  ...         2  279.143588      S        40       300      300   \n",
       "4       5    1  ...         2  103.240304      S        40      1500      750   \n",
       "\n",
       "   HTEEMPDN  HBHTNRNT  HBPPOPDN  HBRESDN  \n",
       "0       750        20       750      300  \n",
       "1       150         5       300      300  \n",
       "2      5000        60     17000     7000  \n",
       "3       150        50       750      300  \n",
       "4       750        40      1500      750  \n",
       "\n",
       "[5 rows x 58 columns]"
      ]
     },
     "execution_count": 193,
     "metadata": {},
     "output_type": "execute_result"
    }
   ],
   "source": [
    "bart_data = pd.read_csv('../data_files/mcfaddan_bart.csv')\n",
    "bart_data.head()"
   ]
  },
  {
   "cell_type": "code",
   "execution_count": 371,
   "metadata": {
    "collapsed": false
   },
   "outputs": [
    {
     "name": "stderr",
     "output_type": "stream",
     "text": [
      "/Users/nathanielforde/.local/lib/python3.6/site-packages/ipykernel_launcher.py:13: SettingWithCopyWarning: \n",
      "A value is trying to be set on a copy of a slice from a DataFrame.\n",
      "Try using .loc[row_indexer,col_indexer] = value instead\n",
      "\n",
      "See the caveats in the documentation: https://pandas.pydata.org/pandas-docs/stable/user_guide/indexing.html#returning-a-view-versus-a-copy\n",
      "  del sys.path[0]\n",
      "/Users/nathanielforde/.local/lib/python3.6/site-packages/ipykernel_launcher.py:14: SettingWithCopyWarning: \n",
      "A value is trying to be set on a copy of a slice from a DataFrame.\n",
      "Try using .loc[row_indexer,col_indexer] = value instead\n",
      "\n",
      "See the caveats in the documentation: https://pandas.pydata.org/pandas-docs/stable/user_guide/indexing.html#returning-a-view-versus-a-copy\n",
      "  \n"
     ]
    },
    {
     "data": {
      "text/html": [
       "<div>\n",
       "<style scoped>\n",
       "    .dataframe tbody tr th:only-of-type {\n",
       "        vertical-align: middle;\n",
       "    }\n",
       "\n",
       "    .dataframe tbody tr th {\n",
       "        vertical-align: top;\n",
       "    }\n",
       "\n",
       "    .dataframe thead th {\n",
       "        text-align: right;\n",
       "    }\n",
       "</style>\n",
       "<table border=\"1\" class=\"dataframe\">\n",
       "  <thead>\n",
       "    <tr style=\"text-align: right;\">\n",
       "      <th></th>\n",
       "      <th>HOUSEID</th>\n",
       "      <th>TRAVDAY</th>\n",
       "      <th>SAMPSTRAT</th>\n",
       "      <th>HOMEOWN</th>\n",
       "      <th>HHSIZE</th>\n",
       "      <th>HHVEHCNT</th>\n",
       "      <th>HHFAMINC</th>\n",
       "      <th>PC</th>\n",
       "      <th>SPHONE</th>\n",
       "      <th>TAB</th>\n",
       "      <th>...</th>\n",
       "      <th>HBRESDN</th>\n",
       "      <th>CHOICE</th>\n",
       "      <th>car1</th>\n",
       "      <th>train1</th>\n",
       "      <th>home</th>\n",
       "      <th>income</th>\n",
       "      <th>density</th>\n",
       "      <th>urban1</th>\n",
       "      <th>rail</th>\n",
       "      <th>row_sum</th>\n",
       "    </tr>\n",
       "  </thead>\n",
       "  <tbody>\n",
       "    <tr>\n",
       "      <th>1</th>\n",
       "      <td>30000008</td>\n",
       "      <td>5</td>\n",
       "      <td>2</td>\n",
       "      <td>1</td>\n",
       "      <td>2</td>\n",
       "      <td>4</td>\n",
       "      <td>8</td>\n",
       "      <td>1</td>\n",
       "      <td>1</td>\n",
       "      <td>2</td>\n",
       "      <td>...</td>\n",
       "      <td>300</td>\n",
       "      <td>car</td>\n",
       "      <td>True</td>\n",
       "      <td>False</td>\n",
       "      <td>1.0</td>\n",
       "      <td>8.0</td>\n",
       "      <td>0.3</td>\n",
       "      <td>False</td>\n",
       "      <td>False</td>\n",
       "      <td>False</td>\n",
       "    </tr>\n",
       "    <tr>\n",
       "      <th>9</th>\n",
       "      <td>30000085</td>\n",
       "      <td>1</td>\n",
       "      <td>2</td>\n",
       "      <td>1</td>\n",
       "      <td>1</td>\n",
       "      <td>2</td>\n",
       "      <td>9</td>\n",
       "      <td>1</td>\n",
       "      <td>1</td>\n",
       "      <td>4</td>\n",
       "      <td>...</td>\n",
       "      <td>17000</td>\n",
       "      <td>nan</td>\n",
       "      <td>False</td>\n",
       "      <td>False</td>\n",
       "      <td>1.0</td>\n",
       "      <td>9.0</td>\n",
       "      <td>17.0</td>\n",
       "      <td>True</td>\n",
       "      <td>False</td>\n",
       "      <td>False</td>\n",
       "    </tr>\n",
       "    <tr>\n",
       "      <th>15</th>\n",
       "      <td>30000130</td>\n",
       "      <td>1</td>\n",
       "      <td>1</td>\n",
       "      <td>1</td>\n",
       "      <td>2</td>\n",
       "      <td>1</td>\n",
       "      <td>5</td>\n",
       "      <td>-9</td>\n",
       "      <td>1</td>\n",
       "      <td>-9</td>\n",
       "      <td>...</td>\n",
       "      <td>17000</td>\n",
       "      <td>rail</td>\n",
       "      <td>False</td>\n",
       "      <td>True</td>\n",
       "      <td>1.0</td>\n",
       "      <td>5.0</td>\n",
       "      <td>30.0</td>\n",
       "      <td>True</td>\n",
       "      <td>True</td>\n",
       "      <td>False</td>\n",
       "    </tr>\n",
       "    <tr>\n",
       "      <th>17</th>\n",
       "      <td>30000144</td>\n",
       "      <td>3</td>\n",
       "      <td>2</td>\n",
       "      <td>2</td>\n",
       "      <td>3</td>\n",
       "      <td>0</td>\n",
       "      <td>5</td>\n",
       "      <td>5</td>\n",
       "      <td>1</td>\n",
       "      <td>1</td>\n",
       "      <td>...</td>\n",
       "      <td>3000</td>\n",
       "      <td>bus</td>\n",
       "      <td>False</td>\n",
       "      <td>False</td>\n",
       "      <td>0.0</td>\n",
       "      <td>5.0</td>\n",
       "      <td>3.0</td>\n",
       "      <td>True</td>\n",
       "      <td>False</td>\n",
       "      <td>False</td>\n",
       "    </tr>\n",
       "    <tr>\n",
       "      <th>18</th>\n",
       "      <td>30000145</td>\n",
       "      <td>5</td>\n",
       "      <td>2</td>\n",
       "      <td>2</td>\n",
       "      <td>2</td>\n",
       "      <td>2</td>\n",
       "      <td>7</td>\n",
       "      <td>1</td>\n",
       "      <td>1</td>\n",
       "      <td>2</td>\n",
       "      <td>...</td>\n",
       "      <td>3000</td>\n",
       "      <td>car</td>\n",
       "      <td>True</td>\n",
       "      <td>False</td>\n",
       "      <td>0.0</td>\n",
       "      <td>7.0</td>\n",
       "      <td>7.0</td>\n",
       "      <td>True</td>\n",
       "      <td>False</td>\n",
       "      <td>False</td>\n",
       "    </tr>\n",
       "    <tr>\n",
       "      <th>...</th>\n",
       "      <td>...</td>\n",
       "      <td>...</td>\n",
       "      <td>...</td>\n",
       "      <td>...</td>\n",
       "      <td>...</td>\n",
       "      <td>...</td>\n",
       "      <td>...</td>\n",
       "      <td>...</td>\n",
       "      <td>...</td>\n",
       "      <td>...</td>\n",
       "      <td>...</td>\n",
       "      <td>...</td>\n",
       "      <td>...</td>\n",
       "      <td>...</td>\n",
       "      <td>...</td>\n",
       "      <td>...</td>\n",
       "      <td>...</td>\n",
       "      <td>...</td>\n",
       "      <td>...</td>\n",
       "      <td>...</td>\n",
       "      <td>...</td>\n",
       "    </tr>\n",
       "    <tr>\n",
       "      <th>129674</th>\n",
       "      <td>40794087</td>\n",
       "      <td>2</td>\n",
       "      <td>1</td>\n",
       "      <td>2</td>\n",
       "      <td>1</td>\n",
       "      <td>1</td>\n",
       "      <td>5</td>\n",
       "      <td>2</td>\n",
       "      <td>-9</td>\n",
       "      <td>-9</td>\n",
       "      <td>...</td>\n",
       "      <td>3000</td>\n",
       "      <td>car</td>\n",
       "      <td>True</td>\n",
       "      <td>False</td>\n",
       "      <td>0.0</td>\n",
       "      <td>5.0</td>\n",
       "      <td>7.0</td>\n",
       "      <td>True</td>\n",
       "      <td>True</td>\n",
       "      <td>False</td>\n",
       "    </tr>\n",
       "    <tr>\n",
       "      <th>129688</th>\n",
       "      <td>40794241</td>\n",
       "      <td>3</td>\n",
       "      <td>2</td>\n",
       "      <td>1</td>\n",
       "      <td>2</td>\n",
       "      <td>2</td>\n",
       "      <td>6</td>\n",
       "      <td>1</td>\n",
       "      <td>1</td>\n",
       "      <td>5</td>\n",
       "      <td>...</td>\n",
       "      <td>3000</td>\n",
       "      <td>car</td>\n",
       "      <td>True</td>\n",
       "      <td>False</td>\n",
       "      <td>1.0</td>\n",
       "      <td>6.0</td>\n",
       "      <td>7.0</td>\n",
       "      <td>True</td>\n",
       "      <td>False</td>\n",
       "      <td>False</td>\n",
       "    </tr>\n",
       "    <tr>\n",
       "      <th>129690</th>\n",
       "      <td>40794260</td>\n",
       "      <td>5</td>\n",
       "      <td>2</td>\n",
       "      <td>1</td>\n",
       "      <td>4</td>\n",
       "      <td>1</td>\n",
       "      <td>11</td>\n",
       "      <td>1</td>\n",
       "      <td>1</td>\n",
       "      <td>2</td>\n",
       "      <td>...</td>\n",
       "      <td>1500</td>\n",
       "      <td>car</td>\n",
       "      <td>True</td>\n",
       "      <td>False</td>\n",
       "      <td>1.0</td>\n",
       "      <td>11.0</td>\n",
       "      <td>3.0</td>\n",
       "      <td>True</td>\n",
       "      <td>False</td>\n",
       "      <td>False</td>\n",
       "    </tr>\n",
       "    <tr>\n",
       "      <th>129693</th>\n",
       "      <td>40794294</td>\n",
       "      <td>5</td>\n",
       "      <td>2</td>\n",
       "      <td>1</td>\n",
       "      <td>2</td>\n",
       "      <td>2</td>\n",
       "      <td>10</td>\n",
       "      <td>1</td>\n",
       "      <td>1</td>\n",
       "      <td>5</td>\n",
       "      <td>...</td>\n",
       "      <td>7000</td>\n",
       "      <td>car</td>\n",
       "      <td>True</td>\n",
       "      <td>False</td>\n",
       "      <td>1.0</td>\n",
       "      <td>10.0</td>\n",
       "      <td>7.0</td>\n",
       "      <td>True</td>\n",
       "      <td>False</td>\n",
       "      <td>False</td>\n",
       "    </tr>\n",
       "    <tr>\n",
       "      <th>129695</th>\n",
       "      <td>50515573</td>\n",
       "      <td>3</td>\n",
       "      <td>1</td>\n",
       "      <td>1</td>\n",
       "      <td>1</td>\n",
       "      <td>0</td>\n",
       "      <td>10</td>\n",
       "      <td>1</td>\n",
       "      <td>1</td>\n",
       "      <td>5</td>\n",
       "      <td>...</td>\n",
       "      <td>17000</td>\n",
       "      <td>nan</td>\n",
       "      <td>False</td>\n",
       "      <td>False</td>\n",
       "      <td>1.0</td>\n",
       "      <td>10.0</td>\n",
       "      <td>30.0</td>\n",
       "      <td>True</td>\n",
       "      <td>True</td>\n",
       "      <td>False</td>\n",
       "    </tr>\n",
       "  </tbody>\n",
       "</table>\n",
       "<p>39057 rows × 67 columns</p>\n",
       "</div>"
      ],
      "text/plain": [
       "         HOUSEID  TRAVDAY  SAMPSTRAT  HOMEOWN  HHSIZE  HHVEHCNT  HHFAMINC  PC  \\\n",
       "1       30000008        5          2        1       2         4         8   1   \n",
       "9       30000085        1          2        1       1         2         9   1   \n",
       "15      30000130        1          1        1       2         1         5  -9   \n",
       "17      30000144        3          2        2       3         0         5   5   \n",
       "18      30000145        5          2        2       2         2         7   1   \n",
       "...          ...      ...        ...      ...     ...       ...       ...  ..   \n",
       "129674  40794087        2          1        2       1         1         5   2   \n",
       "129688  40794241        3          2        1       2         2         6   1   \n",
       "129690  40794260        5          2        1       4         1        11   1   \n",
       "129693  40794294        5          2        1       2         2        10   1   \n",
       "129695  50515573        3          1        1       1         0        10   1   \n",
       "\n",
       "        SPHONE  TAB  ...  HBRESDN  CHOICE   car1  train1  home  income  \\\n",
       "1            1    2  ...      300     car   True   False   1.0     8.0   \n",
       "9            1    4  ...    17000     nan  False   False   1.0     9.0   \n",
       "15           1   -9  ...    17000    rail  False    True   1.0     5.0   \n",
       "17           1    1  ...     3000     bus  False   False   0.0     5.0   \n",
       "18           1    2  ...     3000     car   True   False   0.0     7.0   \n",
       "...        ...  ...  ...      ...     ...    ...     ...   ...     ...   \n",
       "129674      -9   -9  ...     3000     car   True   False   0.0     5.0   \n",
       "129688       1    5  ...     3000     car   True   False   1.0     6.0   \n",
       "129690       1    2  ...     1500     car   True   False   1.0    11.0   \n",
       "129693       1    5  ...     7000     car   True   False   1.0    10.0   \n",
       "129695       1    5  ...    17000     nan  False   False   1.0    10.0   \n",
       "\n",
       "        density  urban1   rail  row_sum  \n",
       "1           0.3   False  False    False  \n",
       "9          17.0    True  False    False  \n",
       "15         30.0    True   True    False  \n",
       "17          3.0    True  False    False  \n",
       "18          7.0    True  False    False  \n",
       "...         ...     ...    ...      ...  \n",
       "129674      7.0    True   True    False  \n",
       "129688      7.0    True  False    False  \n",
       "129690      3.0    True  False    False  \n",
       "129693      7.0    True  False    False  \n",
       "129695     30.0    True   True    False  \n",
       "\n",
       "[39057 rows x 67 columns]"
      ]
     },
     "execution_count": 371,
     "metadata": {},
     "output_type": "execute_result"
    }
   ],
   "source": [
    "bart_data['CHOICE'] = np.nan\n",
    "bart_data['CHOICE'] = np.where(bart_data['CAR']==1, 'car', bart_data['CHOICE'])\n",
    "bart_data['CHOICE'] = np.where(bart_data['BUS']==1, 'bus', bart_data['CHOICE'])\n",
    "bart_data['CHOICE'] = np.where(bart_data['TRAIN']==1, 'rail', bart_data['CHOICE'])\n",
    "bart_data['car1'] = bart_data['CHOICE'] == 'car'\n",
    "bart_data['train1'] = bart_data['CHOICE'] == 'rail'\n",
    "bart_data['home'] = np.where(bart_data['HOMEOWN'] == 1, 1, np.nan)\n",
    "bart_data['home'] = np.where(bart_data['HOMEOWN'] > 1, 0, bart_data['home'])\n",
    "bart_data['income'] = np.where(bart_data['HHFAMINC'] > 0, bart_data['HHFAMINC'], np.nan)\n",
    "bart_data['density'] = np.where(bart_data['HTPPOPDN']==-9, np.nan, bart_data['HTPPOPDN']/1000)\n",
    "bart_data['urban1'] = bart_data['URBAN']==1\n",
    "y = bart_data[(bart_data['WRKCOUNT'] > 0) & ((bart_data['MSACAT'] == 1) | (bart_data['MSACAT'] == 2))]\n",
    "y['rail'] = y['RAIL'] == 1\n",
    "y['row_sum'] = y[['car1','train1','home','HHSIZE','income', 'urban1','density','MSACAT', 'rail']].sum(axis=1) == 0\n",
    "y"
   ]
  },
  {
   "cell_type": "code",
   "execution_count": 372,
   "metadata": {
    "collapsed": false
   },
   "outputs": [
    {
     "name": "stderr",
     "output_type": "stream",
     "text": [
      "/Users/nathanielforde/.local/lib/python3.6/site-packages/ipykernel_launcher.py:3: SettingWithCopyWarning: \n",
      "A value is trying to be set on a copy of a slice from a DataFrame\n",
      "\n",
      "See the caveats in the documentation: https://pandas.pydata.org/pandas-docs/stable/user_guide/indexing.html#returning-a-view-versus-a-copy\n",
      "  This is separate from the ipykernel package so we can avoid doing imports until\n"
     ]
    },
    {
     "data": {
      "text/html": [
       "<div>\n",
       "<style scoped>\n",
       "    .dataframe tbody tr th:only-of-type {\n",
       "        vertical-align: middle;\n",
       "    }\n",
       "\n",
       "    .dataframe tbody tr th {\n",
       "        vertical-align: top;\n",
       "    }\n",
       "\n",
       "    .dataframe thead th {\n",
       "        text-align: right;\n",
       "    }\n",
       "</style>\n",
       "<table border=\"1\" class=\"dataframe\">\n",
       "  <thead>\n",
       "    <tr style=\"text-align: right;\">\n",
       "      <th>rail</th>\n",
       "      <th>False</th>\n",
       "      <th>True</th>\n",
       "    </tr>\n",
       "  </thead>\n",
       "  <tbody>\n",
       "    <tr>\n",
       "      <th>car1</th>\n",
       "      <td>0.973861</td>\n",
       "      <td>0.877925</td>\n",
       "    </tr>\n",
       "    <tr>\n",
       "      <th>train1</th>\n",
       "      <td>0.010036</td>\n",
       "      <td>0.096610</td>\n",
       "    </tr>\n",
       "    <tr>\n",
       "      <th>home</th>\n",
       "      <td>0.749231</td>\n",
       "      <td>0.730127</td>\n",
       "    </tr>\n",
       "    <tr>\n",
       "      <th>HHSIZE</th>\n",
       "      <td>2.462420</td>\n",
       "      <td>2.487870</td>\n",
       "    </tr>\n",
       "    <tr>\n",
       "      <th>income</th>\n",
       "      <td>7.054552</td>\n",
       "      <td>7.518840</td>\n",
       "    </tr>\n",
       "    <tr>\n",
       "      <th>urban1</th>\n",
       "      <td>0.869753</td>\n",
       "      <td>0.910272</td>\n",
       "    </tr>\n",
       "    <tr>\n",
       "      <th>density</th>\n",
       "      <td>4.661936</td>\n",
       "      <td>7.559076</td>\n",
       "    </tr>\n",
       "  </tbody>\n",
       "</table>\n",
       "</div>"
      ],
      "text/plain": [
       "rail        False     True \n",
       "car1     0.973861  0.877925\n",
       "train1   0.010036  0.096610\n",
       "home     0.749231  0.730127\n",
       "HHSIZE   2.462420  2.487870\n",
       "income   7.054552  7.518840\n",
       "urban1   0.869753  0.910272\n",
       "density  4.661936  7.559076"
      ]
     },
     "execution_count": 372,
     "metadata": {},
     "output_type": "execute_result"
    }
   ],
   "source": [
    "features = [\"car1\",\"train1\",\"home\",\"HHSIZE\",\"income\",\"urban1\",\"density\", 'rail', 'CHOICE']\n",
    "y_focus = y[features]\n",
    "y_focus.dropna(inplace=True)\n",
    "y_focus = y_focus[y_focus['CHOICE'] != 'nan']\n",
    "y_focus[features].groupby('rail').mean().T"
   ]
  },
  {
   "cell_type": "code",
   "execution_count": 563,
   "metadata": {
    "collapsed": false
   },
   "outputs": [
    {
     "data": {
      "text/html": [
       "<div>\n",
       "<style scoped>\n",
       "    .dataframe tbody tr th:only-of-type {\n",
       "        vertical-align: middle;\n",
       "    }\n",
       "\n",
       "    .dataframe tbody tr th {\n",
       "        vertical-align: top;\n",
       "    }\n",
       "\n",
       "    .dataframe thead th {\n",
       "        text-align: right;\n",
       "    }\n",
       "</style>\n",
       "<table border=\"1\" class=\"dataframe\">\n",
       "  <thead>\n",
       "    <tr style=\"text-align: right;\">\n",
       "      <th></th>\n",
       "      <th>home</th>\n",
       "      <th>HHSIZE</th>\n",
       "      <th>income</th>\n",
       "      <th>urban1</th>\n",
       "      <th>density</th>\n",
       "      <th>CHOICE</th>\n",
       "    </tr>\n",
       "  </thead>\n",
       "  <tbody>\n",
       "    <tr>\n",
       "      <th>1</th>\n",
       "      <td>1.0</td>\n",
       "      <td>2</td>\n",
       "      <td>8.0</td>\n",
       "      <td>False</td>\n",
       "      <td>0.3</td>\n",
       "      <td>car</td>\n",
       "    </tr>\n",
       "    <tr>\n",
       "      <th>15</th>\n",
       "      <td>1.0</td>\n",
       "      <td>2</td>\n",
       "      <td>5.0</td>\n",
       "      <td>True</td>\n",
       "      <td>30.0</td>\n",
       "      <td>rail</td>\n",
       "    </tr>\n",
       "    <tr>\n",
       "      <th>17</th>\n",
       "      <td>0.0</td>\n",
       "      <td>3</td>\n",
       "      <td>5.0</td>\n",
       "      <td>True</td>\n",
       "      <td>3.0</td>\n",
       "      <td>bus</td>\n",
       "    </tr>\n",
       "    <tr>\n",
       "      <th>18</th>\n",
       "      <td>0.0</td>\n",
       "      <td>2</td>\n",
       "      <td>7.0</td>\n",
       "      <td>True</td>\n",
       "      <td>7.0</td>\n",
       "      <td>car</td>\n",
       "    </tr>\n",
       "    <tr>\n",
       "      <th>33</th>\n",
       "      <td>1.0</td>\n",
       "      <td>3</td>\n",
       "      <td>11.0</td>\n",
       "      <td>True</td>\n",
       "      <td>1.5</td>\n",
       "      <td>car</td>\n",
       "    </tr>\n",
       "    <tr>\n",
       "      <th>...</th>\n",
       "      <td>...</td>\n",
       "      <td>...</td>\n",
       "      <td>...</td>\n",
       "      <td>...</td>\n",
       "      <td>...</td>\n",
       "      <td>...</td>\n",
       "    </tr>\n",
       "    <tr>\n",
       "      <th>129667</th>\n",
       "      <td>1.0</td>\n",
       "      <td>2</td>\n",
       "      <td>8.0</td>\n",
       "      <td>False</td>\n",
       "      <td>0.3</td>\n",
       "      <td>car</td>\n",
       "    </tr>\n",
       "    <tr>\n",
       "      <th>129674</th>\n",
       "      <td>0.0</td>\n",
       "      <td>1</td>\n",
       "      <td>5.0</td>\n",
       "      <td>True</td>\n",
       "      <td>7.0</td>\n",
       "      <td>car</td>\n",
       "    </tr>\n",
       "    <tr>\n",
       "      <th>129688</th>\n",
       "      <td>1.0</td>\n",
       "      <td>2</td>\n",
       "      <td>6.0</td>\n",
       "      <td>True</td>\n",
       "      <td>7.0</td>\n",
       "      <td>car</td>\n",
       "    </tr>\n",
       "    <tr>\n",
       "      <th>129690</th>\n",
       "      <td>1.0</td>\n",
       "      <td>4</td>\n",
       "      <td>11.0</td>\n",
       "      <td>True</td>\n",
       "      <td>3.0</td>\n",
       "      <td>car</td>\n",
       "    </tr>\n",
       "    <tr>\n",
       "      <th>129693</th>\n",
       "      <td>1.0</td>\n",
       "      <td>2</td>\n",
       "      <td>10.0</td>\n",
       "      <td>True</td>\n",
       "      <td>7.0</td>\n",
       "      <td>car</td>\n",
       "    </tr>\n",
       "  </tbody>\n",
       "</table>\n",
       "<p>34043 rows × 6 columns</p>\n",
       "</div>"
      ],
      "text/plain": [
       "        home  HHSIZE  income  urban1  density CHOICE\n",
       "1        1.0       2     8.0   False      0.3    car\n",
       "15       1.0       2     5.0    True     30.0   rail\n",
       "17       0.0       3     5.0    True      3.0    bus\n",
       "18       0.0       2     7.0    True      7.0    car\n",
       "33       1.0       3    11.0    True      1.5    car\n",
       "...      ...     ...     ...     ...      ...    ...\n",
       "129667   1.0       2     8.0   False      0.3    car\n",
       "129674   0.0       1     5.0    True      7.0    car\n",
       "129688   1.0       2     6.0    True      7.0    car\n",
       "129690   1.0       4    11.0    True      3.0    car\n",
       "129693   1.0       2    10.0    True      7.0    car\n",
       "\n",
       "[34043 rows x 6 columns]"
      ]
     },
     "execution_count": 563,
     "metadata": {},
     "output_type": "execute_result"
    }
   ],
   "source": [
    "y_focus[features + ['CHOICE']]"
   ]
  },
  {
   "cell_type": "code",
   "execution_count": 373,
   "metadata": {
    "collapsed": false
   },
   "outputs": [
    {
     "name": "stdout",
     "output_type": "stream",
     "text": [
      "Optimization terminated successfully.\n",
      "         Current function value: 0.114130\n",
      "         Iterations 9\n",
      "Optimization terminated successfully.\n",
      "         Current function value: 0.300803\n",
      "         Iterations 7\n"
     ]
    }
   ],
   "source": [
    "# Without Rail\n",
    "y_focus_nr = y_focus[y_focus['rail'] == 0]\n",
    "y_focus_r = y_focus[y_focus['rail'] == 1]\n",
    "\n",
    "\n",
    "logit_mod_nr = sm.Logit(np.array(y_focus_nr['car1']), \n",
    "                       sm.add_constant(y_focus_nr[[\"home\",\"HHSIZE\",\"income\",\"urban1\",\"density\"]]).astype(float))\n",
    "logit_res_nr = logit_mod_nr.fit()\n",
    "logit_margeff_nr = logit_res_nr.get_margeff()\n",
    "\n",
    "\n",
    "logit_mod_r = sm.Logit(np.array(y_focus_r['car1']), \n",
    "                       sm.add_constant(y_focus_r[[\"home\",\"HHSIZE\",\"income\",\"urban1\",\"density\"]]).astype(float))\n",
    "logit_res_r = logit_mod_r.fit()\n",
    "logit_margeff_r = logit_res.get_margeff()"
   ]
  },
  {
   "cell_type": "code",
   "execution_count": 374,
   "metadata": {
    "collapsed": false
   },
   "outputs": [
    {
     "data": {
      "text/html": [
       "<table style=\"text-align:center\"><tr><td colspan=\"3\" style=\"border-bottom: 1px solid black\"></td></tr><tr><td style=\"text-align:left\"></td><td colspan=\"2\"><em>Dependent variable:y</em></td></tr><tr><td style=\"text-align:left\"></td><tr><td></td><td colspan=\"1\">Probability of Car - No Rail</td><td colspan=\"1\">Probability of Car -Rail</td></tr><tr><td style=\"text-align:left\"></td><td>(1)</td><td>(2)</td></tr><tr><td colspan=\"3\" style=\"border-bottom: 1px solid black\"></td></tr><tr><td style=\"text-align:left\">HHSIZE</td><td>-0.018<sup></sup></td><td>0.050<sup>*</sup></td></tr><tr><td style=\"text-align:left\"></td><td>(0.033)</td><td>(0.026)</td></tr><tr><td style=\"text-align:left\">const</td><td>3.775<sup>***</sup></td><td>3.506<sup>***</sup></td></tr><tr><td style=\"text-align:left\"></td><td>(0.270)</td><td>(0.211)</td></tr><tr><td style=\"text-align:left\">density</td><td>-0.055<sup>***</sup></td><td>-0.109<sup>***</sup></td></tr><tr><td style=\"text-align:left\"></td><td>(0.008)</td><td>(0.003)</td></tr><tr><td style=\"text-align:left\">home</td><td>0.633<sup>***</sup></td><td>0.498<sup>***</sup></td></tr><tr><td style=\"text-align:left\"></td><td>(0.095)</td><td>(0.071)</td></tr><tr><td style=\"text-align:left\">income</td><td>0.133<sup>***</sup></td><td>-0.068<sup>***</sup></td></tr><tr><td style=\"text-align:left\"></td><td>(0.019)</td><td>(0.013)</td></tr><tr><td style=\"text-align:left\">urban1</td><td>-1.160<sup>***</sup></td><td>-0.312<sup>*</sup></td></tr><tr><td style=\"text-align:left\"></td><td>(0.246)</td><td>(0.187)</td></tr><td colspan=\"3\" style=\"border-bottom: 1px solid black\"></td></tr><tr><td style=\"text-align: left\">Observations</td><td>22,419</td><td>11,624</td></tr><tr><td style=\"text-align: left\">R<sup>2</sup></td><td></td><td></td></tr><tr><td style=\"text-align: left\">Adjusted R<sup>2</sup></td><td></td><td></td></tr><tr><td style=\"text-align: left\">Residual Std. Error</td><td>1.000 (df=22413)</td><td>1.000 (df=11618)</td></tr><tr><td style=\"text-align: left\">F Statistic</td><td><sup></sup> (df=5; 22413)</td><td><sup></sup> (df=5; 11618)</td></tr><tr><td colspan=\"3\" style=\"border-bottom: 1px solid black\"></td></tr><tr><td style=\"text-align: left\">Note:</td>\n",
       " <td colspan=\"2\" style=\"text-align: right\">\n",
       "  <sup>*</sup>p&lt;0.1;\n",
       "  <sup>**</sup>p&lt;0.05;\n",
       "  <sup>***</sup>p&lt;0.01\n",
       " </td></tr></table>"
      ],
      "text/plain": [
       "<IPython.core.display.HTML object>"
      ]
     },
     "execution_count": 374,
     "metadata": {},
     "output_type": "execute_result"
    }
   ],
   "source": [
    "stargazer = Stargazer([logit_res_nr, logit_res_r])\n",
    "stargazer.custom_columns(['Probability of Car - No Rail', 'Probability of Car -Rail'], [1, 1])\n",
    "#stargazer.add_custom_notes([str(probit_margeff.summary()), str(logit_margeff.summary())])\n",
    "HTML(stargazer.render_html())"
   ]
  },
  {
   "cell_type": "code",
   "execution_count": 543,
   "metadata": {
    "collapsed": false
   },
   "outputs": [
    {
     "name": "stdout",
     "output_type": "stream",
     "text": [
      "Optimization terminated successfully.\n",
      "         Current function value: 0.387108\n",
      "         Iterations 8\n"
     ]
    },
    {
     "data": {
      "text/html": [
       "<table class=\"simpletable\">\n",
       "<caption>MNLogit Regression Results</caption>\n",
       "<tr>\n",
       "  <th>Dep. Variable:</th>           <td>y</td>        <th>  No. Observations:  </th>   <td> 11624</td>  \n",
       "</tr>\n",
       "<tr>\n",
       "  <th>Model:</th>                <td>MNLogit</td>     <th>  Df Residuals:      </th>   <td> 11614</td>  \n",
       "</tr>\n",
       "<tr>\n",
       "  <th>Method:</th>                 <td>MLE</td>       <th>  Df Model:          </th>   <td>     8</td>  \n",
       "</tr>\n",
       "<tr>\n",
       "  <th>Date:</th>            <td>Fri, 26 Feb 2021</td> <th>  Pseudo R-squ.:     </th>   <td>0.1071</td>  \n",
       "</tr>\n",
       "<tr>\n",
       "  <th>Time:</th>                <td>00:45:00</td>     <th>  Log-Likelihood:    </th>  <td> -4499.7</td> \n",
       "</tr>\n",
       "<tr>\n",
       "  <th>converged:</th>             <td>True</td>       <th>  LL-Null:           </th>  <td> -5039.6</td> \n",
       "</tr>\n",
       "<tr>\n",
       "  <th>Covariance Type:</th>     <td>nonrobust</td>    <th>  LLR p-value:       </th> <td>9.100e-228</td>\n",
       "</tr>\n",
       "</table>\n",
       "<table class=\"simpletable\">\n",
       "<tr>\n",
       "   <th>y=car</th>     <th>coef</th>     <th>std err</th>      <th>z</th>      <th>P>|z|</th>  <th>[0.025</th>    <th>0.975]</th>  \n",
       "</tr>\n",
       "<tr>\n",
       "  <th>home</th>    <td>    1.0460</td> <td>    0.128</td> <td>    8.159</td> <td> 0.000</td> <td>    0.795</td> <td>    1.297</td>\n",
       "</tr>\n",
       "<tr>\n",
       "  <th>HHSIZE</th>  <td>    0.2411</td> <td>    0.046</td> <td>    5.234</td> <td> 0.000</td> <td>    0.151</td> <td>    0.331</td>\n",
       "</tr>\n",
       "<tr>\n",
       "  <th>income</th>  <td>    0.2235</td> <td>    0.021</td> <td>   10.829</td> <td> 0.000</td> <td>    0.183</td> <td>    0.264</td>\n",
       "</tr>\n",
       "<tr>\n",
       "  <th>urban1</th>  <td>    1.7447</td> <td>    0.150</td> <td>   11.619</td> <td> 0.000</td> <td>    1.450</td> <td>    2.039</td>\n",
       "</tr>\n",
       "<tr>\n",
       "  <th>density</th> <td>   -0.0847</td> <td>    0.006</td> <td>  -13.677</td> <td> 0.000</td> <td>   -0.097</td> <td>   -0.073</td>\n",
       "</tr>\n",
       "<tr>\n",
       "  <th>y=rail</th>     <th>coef</th>     <th>std err</th>      <th>z</th>      <th>P>|z|</th>  <th>[0.025</th>    <th>0.975]</th>  \n",
       "</tr>\n",
       "<tr>\n",
       "  <th>home</th>    <td>    0.3757</td> <td>    0.140</td> <td>    2.689</td> <td> 0.007</td> <td>    0.102</td> <td>    0.650</td>\n",
       "</tr>\n",
       "<tr>\n",
       "  <th>HHSIZE</th>  <td>   -0.0495</td> <td>    0.051</td> <td>   -0.973</td> <td> 0.331</td> <td>   -0.149</td> <td>    0.050</td>\n",
       "</tr>\n",
       "<tr>\n",
       "  <th>income</th>  <td>    0.1658</td> <td>    0.022</td> <td>    7.466</td> <td> 0.000</td> <td>    0.122</td> <td>    0.209</td>\n",
       "</tr>\n",
       "<tr>\n",
       "  <th>urban1</th>  <td>   -0.0949</td> <td>    0.167</td> <td>   -0.569</td> <td> 0.569</td> <td>   -0.422</td> <td>    0.232</td>\n",
       "</tr>\n",
       "<tr>\n",
       "  <th>density</th> <td>    0.0202</td> <td>    0.007</td> <td>    3.107</td> <td> 0.002</td> <td>    0.007</td> <td>    0.033</td>\n",
       "</tr>\n",
       "</table>"
      ],
      "text/plain": [
       "<class 'statsmodels.iolib.summary.Summary'>\n",
       "\"\"\"\n",
       "                          MNLogit Regression Results                          \n",
       "==============================================================================\n",
       "Dep. Variable:                      y   No. Observations:                11624\n",
       "Model:                        MNLogit   Df Residuals:                    11614\n",
       "Method:                           MLE   Df Model:                            8\n",
       "Date:                Fri, 26 Feb 2021   Pseudo R-squ.:                  0.1071\n",
       "Time:                        00:45:00   Log-Likelihood:                -4499.7\n",
       "converged:                       True   LL-Null:                       -5039.6\n",
       "Covariance Type:            nonrobust   LLR p-value:                9.100e-228\n",
       "==============================================================================\n",
       "     y=car       coef    std err          z      P>|z|      [0.025      0.975]\n",
       "------------------------------------------------------------------------------\n",
       "home           1.0460      0.128      8.159      0.000       0.795       1.297\n",
       "HHSIZE         0.2411      0.046      5.234      0.000       0.151       0.331\n",
       "income         0.2235      0.021     10.829      0.000       0.183       0.264\n",
       "urban1         1.7447      0.150     11.619      0.000       1.450       2.039\n",
       "density       -0.0847      0.006    -13.677      0.000      -0.097      -0.073\n",
       "------------------------------------------------------------------------------\n",
       "    y=rail       coef    std err          z      P>|z|      [0.025      0.975]\n",
       "------------------------------------------------------------------------------\n",
       "home           0.3757      0.140      2.689      0.007       0.102       0.650\n",
       "HHSIZE        -0.0495      0.051     -0.973      0.331      -0.149       0.050\n",
       "income         0.1658      0.022      7.466      0.000       0.122       0.209\n",
       "urban1        -0.0949      0.167     -0.569      0.569      -0.422       0.232\n",
       "density        0.0202      0.007      3.107      0.002       0.007       0.033\n",
       "==============================================================================\n",
       "\"\"\""
      ]
     },
     "execution_count": 543,
     "metadata": {},
     "output_type": "execute_result"
    }
   ],
   "source": [
    "MN_logit_mod_r = sm.MNLogit(np.array(y_focus_r['CHOICE']), \n",
    "                       y_focus_r[[\"home\",\"HHSIZE\",\"income\",\"urban1\",\"density\"]].astype(float))\n",
    "MN_logit_res_r = MN_logit_mod_r.fit()\n",
    "MN_logit_res_r.summary()"
   ]
  },
  {
   "cell_type": "code",
   "execution_count": 566,
   "metadata": {
    "collapsed": false
   },
   "outputs": [
    {
     "name": "stdout",
     "output_type": "stream",
     "text": [
      "Warning: Desired error not necessarily achieved due to precision loss.\n",
      "         Current function value: 4499.748263\n",
      "         Iterations: 33\n",
      "         Function evaluations: 896\n",
      "         Gradient evaluations: 56\n"
     ]
    },
    {
     "data": {
      "text/plain": [
       "      fun: 4499.748263266686\n",
       " hess_inv: array([[ 1.00000000e+00,  0.00000000e+00,  0.00000000e+00,\n",
       "         0.00000000e+00,  0.00000000e+00,  0.00000000e+00,\n",
       "         0.00000000e+00,  0.00000000e+00,  0.00000000e+00,\n",
       "         0.00000000e+00,  0.00000000e+00,  0.00000000e+00,\n",
       "         0.00000000e+00,  0.00000000e+00,  0.00000000e+00],\n",
       "       [ 0.00000000e+00,  1.00000000e+00,  0.00000000e+00,\n",
       "         0.00000000e+00,  0.00000000e+00,  0.00000000e+00,\n",
       "         0.00000000e+00,  0.00000000e+00,  0.00000000e+00,\n",
       "         0.00000000e+00,  0.00000000e+00,  0.00000000e+00,\n",
       "         0.00000000e+00,  0.00000000e+00,  0.00000000e+00],\n",
       "       [ 0.00000000e+00,  0.00000000e+00,  1.00000000e+00,\n",
       "         0.00000000e+00,  0.00000000e+00,  0.00000000e+00,\n",
       "         0.00000000e+00,  0.00000000e+00,  0.00000000e+00,\n",
       "         0.00000000e+00,  0.00000000e+00,  0.00000000e+00,\n",
       "         0.00000000e+00,  0.00000000e+00,  0.00000000e+00],\n",
       "       [ 0.00000000e+00,  0.00000000e+00,  0.00000000e+00,\n",
       "         1.00000000e+00,  0.00000000e+00,  0.00000000e+00,\n",
       "         0.00000000e+00,  0.00000000e+00,  0.00000000e+00,\n",
       "         0.00000000e+00,  0.00000000e+00,  0.00000000e+00,\n",
       "         0.00000000e+00,  0.00000000e+00,  0.00000000e+00],\n",
       "       [ 0.00000000e+00,  0.00000000e+00,  0.00000000e+00,\n",
       "         0.00000000e+00,  1.00000000e+00,  0.00000000e+00,\n",
       "         0.00000000e+00,  0.00000000e+00,  0.00000000e+00,\n",
       "         0.00000000e+00,  0.00000000e+00,  0.00000000e+00,\n",
       "         0.00000000e+00,  0.00000000e+00,  0.00000000e+00],\n",
       "       [ 0.00000000e+00,  0.00000000e+00,  0.00000000e+00,\n",
       "         0.00000000e+00,  0.00000000e+00,  2.49790461e-02,\n",
       "         1.22239651e-02, -1.08077892e-03, -4.52948507e-02,\n",
       "         9.24499328e-04,  2.18160612e-02,  1.53707043e-02,\n",
       "        -2.13296546e-03, -3.42635201e-02,  5.36330909e-04],\n",
       "       [ 0.00000000e+00,  0.00000000e+00,  0.00000000e+00,\n",
       "         0.00000000e+00,  0.00000000e+00,  1.22239651e-02,\n",
       "         8.71917753e-03, -1.06847160e-03, -2.23203076e-02,\n",
       "         3.46191120e-04,  1.19746027e-02,  1.05025079e-02,\n",
       "        -1.74296384e-03, -1.65180529e-02,  1.47031357e-04],\n",
       "       [ 0.00000000e+00,  0.00000000e+00,  0.00000000e+00,\n",
       "         0.00000000e+00,  0.00000000e+00, -1.08077892e-03,\n",
       "        -1.06847160e-03,  4.43252403e-04,  1.14187551e-03,\n",
       "        -5.55280050e-05, -8.98456837e-04, -1.17483721e-03,\n",
       "         4.60854131e-04,  6.94275713e-04, -3.43435221e-05],\n",
       "       [ 0.00000000e+00,  0.00000000e+00,  0.00000000e+00,\n",
       "         0.00000000e+00,  0.00000000e+00, -4.52948507e-02,\n",
       "        -2.23203076e-02,  1.14187551e-03,  8.77146917e-02,\n",
       "        -1.70194689e-03, -4.37327155e-02, -2.84783896e-02,\n",
       "         3.45189389e-03,  6.85283602e-02, -1.05179786e-03],\n",
       "       [ 0.00000000e+00,  0.00000000e+00,  0.00000000e+00,\n",
       "         0.00000000e+00,  0.00000000e+00,  9.24499328e-04,\n",
       "         3.46191120e-04, -5.55280050e-05, -1.70194689e-03,\n",
       "         6.40830138e-05,  8.65122620e-04,  4.47609224e-04,\n",
       "        -8.69531233e-05, -1.35865208e-03,  4.78235451e-05],\n",
       "       [ 0.00000000e+00,  0.00000000e+00,  0.00000000e+00,\n",
       "         0.00000000e+00,  0.00000000e+00,  2.18160612e-02,\n",
       "         1.19746027e-02, -8.98456837e-04, -4.37327155e-02,\n",
       "         8.65122620e-04,  2.42731374e-02,  1.45500604e-02,\n",
       "        -2.32279638e-03, -3.32914355e-02,  5.72986223e-04],\n",
       "       [ 0.00000000e+00,  0.00000000e+00,  0.00000000e+00,\n",
       "         0.00000000e+00,  0.00000000e+00,  1.53707043e-02,\n",
       "         1.05025079e-02, -1.17483721e-03, -2.84783896e-02,\n",
       "         4.47609224e-04,  1.45500604e-02,  1.36673618e-02,\n",
       "        -2.18820823e-03, -2.15013079e-02,  1.87660290e-04],\n",
       "       [ 0.00000000e+00,  0.00000000e+00,  0.00000000e+00,\n",
       "         0.00000000e+00,  0.00000000e+00, -2.13296546e-03,\n",
       "        -1.74296384e-03,  4.60854131e-04,  3.45189389e-03,\n",
       "        -8.69531233e-05, -2.32279638e-03, -2.18820823e-03,\n",
       "         7.07813187e-04,  1.90500574e-03, -5.20898364e-05],\n",
       "       [ 0.00000000e+00,  0.00000000e+00,  0.00000000e+00,\n",
       "         0.00000000e+00,  0.00000000e+00, -3.42635201e-02,\n",
       "        -1.65180529e-02,  6.94275713e-04,  6.85283602e-02,\n",
       "        -1.35865208e-03, -3.32914355e-02, -2.15013079e-02,\n",
       "         1.90500574e-03,  6.33830924e-02, -1.09402475e-03],\n",
       "       [ 0.00000000e+00,  0.00000000e+00,  0.00000000e+00,\n",
       "         0.00000000e+00,  0.00000000e+00,  5.36330909e-04,\n",
       "         1.47031357e-04, -3.43435221e-05, -1.05179786e-03,\n",
       "         4.78235451e-05,  5.72986223e-04,  1.87660290e-04,\n",
       "        -5.20898364e-05, -1.09402475e-03,  5.33476436e-05]])\n",
       "      jac: array([ 0.00000000e+00,  0.00000000e+00,  0.00000000e+00,  0.00000000e+00,\n",
       "        0.00000000e+00,  6.10351562e-05, -6.10351562e-05, -6.10351562e-05,\n",
       "        0.00000000e+00, -1.83105469e-04,  6.10351562e-05,  2.44140625e-04,\n",
       "        3.66210938e-04,  6.10351562e-05,  4.88281250e-04])\n",
       "  message: 'Desired error not necessarily achieved due to precision loss.'\n",
       "     nfev: 896\n",
       "      nit: 33\n",
       "     njev: 56\n",
       "   status: 2\n",
       "  success: False\n",
       "        x: array([ 0.98480009,  0.00651008,  0.0863602 ,  0.13983792,  0.32455478,\n",
       "        1.04604352,  0.24109143,  0.22348356,  1.74469334, -0.08468886,\n",
       "        0.3757215 , -0.04946345,  0.16579691, -0.09489807,  0.02024353])"
      ]
     },
     "execution_count": 566,
     "metadata": {},
     "output_type": "execute_result"
    }
   ],
   "source": [
    "n_params = 5 \n",
    "n_classes = 3\n",
    "z = np.random.rand(n_params,n_classes).flatten()\n",
    "\n",
    "res = minimize(ll_mn_logistic, x0 =z, args =(y_focus_r['CHOICE'], \n",
    "                                             y_focus_r[[\"home\",\"HHSIZE\",\"income\",\"urban1\",\"density\"]].astype(float), n_params, n_classes), \n",
    "             options={'disp': True, 'maxiter':1000})\n",
    "res\n"
   ]
  },
  {
   "cell_type": "code",
   "execution_count": 551,
   "metadata": {
    "collapsed": false
   },
   "outputs": [
    {
     "name": "stderr",
     "output_type": "stream",
     "text": [
      "/Users/nathanielforde/.local/lib/python3.6/site-packages/ipykernel_launcher.py:9: SettingWithCopyWarning: \n",
      "A value is trying to be set on a copy of a slice from a DataFrame.\n",
      "Try using .loc[row_indexer,col_indexer] = value instead\n",
      "\n",
      "See the caveats in the documentation: https://pandas.pydata.org/pandas-docs/stable/user_guide/indexing.html#returning-a-view-versus-a-copy\n",
      "  if __name__ == '__main__':\n"
     ]
    },
    {
     "data": {
      "text/html": [
       "<div>\n",
       "<style scoped>\n",
       "    .dataframe tbody tr th:only-of-type {\n",
       "        vertical-align: middle;\n",
       "    }\n",
       "\n",
       "    .dataframe tbody tr th {\n",
       "        vertical-align: top;\n",
       "    }\n",
       "\n",
       "    .dataframe thead th {\n",
       "        text-align: right;\n",
       "    }\n",
       "</style>\n",
       "<table border=\"1\" class=\"dataframe\">\n",
       "  <thead>\n",
       "    <tr style=\"text-align: right;\">\n",
       "      <th></th>\n",
       "      <th>Bus</th>\n",
       "      <th>Car</th>\n",
       "      <th>Train</th>\n",
       "    </tr>\n",
       "  </thead>\n",
       "  <tbody>\n",
       "    <tr>\n",
       "      <th>0</th>\n",
       "      <td>2.7</td>\n",
       "      <td>88.5</td>\n",
       "      <td>8.8</td>\n",
       "    </tr>\n",
       "  </tbody>\n",
       "</table>\n",
       "</div>"
      ],
      "text/plain": [
       "   Bus   Car  Train\n",
       "0  2.7  88.5    8.8"
      ]
     },
     "execution_count": 551,
     "metadata": {},
     "output_type": "execute_result"
    }
   ],
   "source": [
    "nr = y_focus_nr[['home', 'HHSIZE', 'income', 'urban1', 'density', 'rail']].astype(float)\n",
    "r = y_focus_r[['home', 'HHSIZE', 'income', 'urban1', 'density', 'rail']].astype(float)\n",
    "full = y_focus[['home', 'HHSIZE', 'income', 'urban1', 'density', 'rail']].astype(float)\n",
    "nr_nd = nr\n",
    "nr_nd['density'] = 0\n",
    "nr_d = nr\n",
    "nr_d['density'] = r['density'].mean()\n",
    "full_d = full\n",
    "full_d[full_d['rail'] == 0]['density'] = r['density'].mean()\n",
    "\n",
    "\n",
    "res = MN_logit_res_r.predict(full.drop('rail', axis=1)).mean()\n",
    "\n",
    "res = pd.DataFrame(res).T\n",
    "res.columns = ['Bus', 'Car', 'Train']\n",
    "res.round(3) * 100"
   ]
  },
  {
   "cell_type": "code",
   "execution_count": null,
   "metadata": {
    "collapsed": true
   },
   "outputs": [],
   "source": []
  }
 ],
 "metadata": {
  "kernelspec": {
   "display_name": "examined_algorithms",
   "language": "python",
   "name": "examined_algorithms"
  },
  "language_info": {
   "codemirror_mode": {
    "name": "ipython",
    "version": 3
   },
   "file_extension": ".py",
   "mimetype": "text/x-python",
   "name": "python",
   "nbconvert_exporter": "python",
   "pygments_lexer": "ipython3",
   "version": "3.6.10"
  }
 },
 "nbformat": 4,
 "nbformat_minor": 0
}
