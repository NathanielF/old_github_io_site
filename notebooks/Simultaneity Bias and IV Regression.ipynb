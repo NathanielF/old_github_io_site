{
 "cells": [
  {
   "cell_type": "code",
   "execution_count": 10,
   "metadata": {
    "collapsed": true
   },
   "outputs": [],
   "source": [
    "import random\n",
    "import statsmodels.api as sm\n",
    "import numpy as np\n",
    "import pandas as pd"
   ]
  },
  {
   "cell_type": "markdown",
   "metadata": {},
   "source": [
    "## Simultaneity Bias in an OLS regression"
   ]
  },
  {
   "cell_type": "markdown",
   "metadata": {},
   "source": [
    "The coefficients in an ordinary least squares (OLS) regression are imprecisely estimated when there is a relationship between the feature variables and the error terms. This is true even when the functional form is properly specified! In our case we can see that the values for the price feature are too high due to the simultaneity bias."
   ]
  },
  {
   "cell_type": "markdown",
   "metadata": {},
   "source": [
    "### A Supply and Demand Example"
   ]
  },
  {
   "cell_type": "code",
   "execution_count": 251,
   "metadata": {
    "collapsed": false
   },
   "outputs": [
    {
     "data": {
      "text/html": [
       "<table class=\"simpletable\">\n",
       "<caption>OLS Regression Results</caption>\n",
       "<tr>\n",
       "  <th>Dep. Variable:</th>            <td>y</td>        <th>  R-squared:         </th> <td>   0.997</td> \n",
       "</tr>\n",
       "<tr>\n",
       "  <th>Model:</th>                   <td>OLS</td>       <th>  Adj. R-squared:    </th> <td>   0.997</td> \n",
       "</tr>\n",
       "<tr>\n",
       "  <th>Method:</th>             <td>Least Squares</td>  <th>  F-statistic:       </th> <td>9.625e+04</td>\n",
       "</tr>\n",
       "<tr>\n",
       "  <th>Date:</th>             <td>Thu, 11 Feb 2021</td> <th>  Prob (F-statistic):</th>  <td>  0.00</td>  \n",
       "</tr>\n",
       "<tr>\n",
       "  <th>Time:</th>                 <td>22:42:02</td>     <th>  Log-Likelihood:    </th> <td> -3203.0</td> \n",
       "</tr>\n",
       "<tr>\n",
       "  <th>No. Observations:</th>      <td>  1000</td>      <th>  AIC:               </th> <td>   6414.</td> \n",
       "</tr>\n",
       "<tr>\n",
       "  <th>Df Residuals:</th>          <td>   996</td>      <th>  BIC:               </th> <td>   6434.</td> \n",
       "</tr>\n",
       "<tr>\n",
       "  <th>Df Model:</th>              <td>     3</td>      <th>                     </th>     <td> </td>    \n",
       "</tr>\n",
       "<tr>\n",
       "  <th>Covariance Type:</th>      <td>nonrobust</td>    <th>                     </th>     <td> </td>    \n",
       "</tr>\n",
       "</table>\n",
       "<table class=\"simpletable\">\n",
       "<tr>\n",
       "    <td></td>       <th>coef</th>     <th>std err</th>      <th>t</th>      <th>P>|t|</th>  <th>[0.025</th>    <th>0.975]</th>  \n",
       "</tr>\n",
       "<tr>\n",
       "  <th>const</th> <td>   -3.3455</td> <td>    1.102</td> <td>   -3.037</td> <td> 0.002</td> <td>   -5.508</td> <td>   -1.184</td>\n",
       "</tr>\n",
       "<tr>\n",
       "  <th>P</th>     <td>    4.2631</td> <td>    0.068</td> <td>   62.574</td> <td> 0.000</td> <td>    4.129</td> <td>    4.397</td>\n",
       "</tr>\n",
       "<tr>\n",
       "  <th>W</th>     <td>    4.9892</td> <td>    0.010</td> <td>  512.078</td> <td> 0.000</td> <td>    4.970</td> <td>    5.008</td>\n",
       "</tr>\n",
       "<tr>\n",
       "  <th>H</th>     <td>    9.9924</td> <td>    0.066</td> <td>  152.473</td> <td> 0.000</td> <td>    9.864</td> <td>   10.121</td>\n",
       "</tr>\n",
       "</table>\n",
       "<table class=\"simpletable\">\n",
       "<tr>\n",
       "  <th>Omnibus:</th>       <td> 0.846</td> <th>  Durbin-Watson:     </th> <td>   2.049</td>\n",
       "</tr>\n",
       "<tr>\n",
       "  <th>Prob(Omnibus):</th> <td> 0.655</td> <th>  Jarque-Bera (JB):  </th> <td>   0.738</td>\n",
       "</tr>\n",
       "<tr>\n",
       "  <th>Skew:</th>          <td>-0.058</td> <th>  Prob(JB):          </th> <td>   0.691</td>\n",
       "</tr>\n",
       "<tr>\n",
       "  <th>Kurtosis:</th>      <td> 3.066</td> <th>  Cond. No.          </th> <td>    598.</td>\n",
       "</tr>\n",
       "</table><br/><br/>Warnings:<br/>[1] Standard Errors assume that the covariance matrix of the errors is correctly specified."
      ],
      "text/plain": [
       "<class 'statsmodels.iolib.summary.Summary'>\n",
       "\"\"\"\n",
       "                            OLS Regression Results                            \n",
       "==============================================================================\n",
       "Dep. Variable:                      y   R-squared:                       0.997\n",
       "Model:                            OLS   Adj. R-squared:                  0.997\n",
       "Method:                 Least Squares   F-statistic:                 9.625e+04\n",
       "Date:                Thu, 11 Feb 2021   Prob (F-statistic):               0.00\n",
       "Time:                        22:42:02   Log-Likelihood:                -3203.0\n",
       "No. Observations:                1000   AIC:                             6414.\n",
       "Df Residuals:                     996   BIC:                             6434.\n",
       "Df Model:                           3                                         \n",
       "Covariance Type:            nonrobust                                         \n",
       "==============================================================================\n",
       "                 coef    std err          t      P>|t|      [0.025      0.975]\n",
       "------------------------------------------------------------------------------\n",
       "const         -3.3455      1.102     -3.037      0.002      -5.508      -1.184\n",
       "P              4.2631      0.068     62.574      0.000       4.129       4.397\n",
       "W              4.9892      0.010    512.078      0.000       4.970       5.008\n",
       "H              9.9924      0.066    152.473      0.000       9.864      10.121\n",
       "==============================================================================\n",
       "Omnibus:                        0.846   Durbin-Watson:                   2.049\n",
       "Prob(Omnibus):                  0.655   Jarque-Bera (JB):                0.738\n",
       "Skew:                          -0.058   Prob(JB):                        0.691\n",
       "Kurtosis:                       3.066   Cond. No.                         598.\n",
       "==============================================================================\n",
       "\n",
       "Warnings:\n",
       "[1] Standard Errors assume that the covariance matrix of the errors is correctly specified.\n",
       "\"\"\""
      ]
     },
     "execution_count": 251,
     "metadata": {},
     "output_type": "execute_result"
    }
   ],
   "source": [
    "N = 1000\n",
    "np.random.seed(0)\n",
    "mu, sigma = 0, 7\n",
    "e_1 = np.random.normal(mu, sigma, N)\n",
    "W = np.random.normal(100, 20, N)\n",
    "H = np.random.uniform(0, 10, N)\n",
    "\n",
    "# True Values\n",
    "a0, a1, a2, a3 = 2, 3, 5, 10\n",
    "\n",
    "mu, sigma = 0, 6\n",
    "e_2 = np.random.normal(mu, sigma, N)\n",
    "F = np.random.uniform(6, 30, N)\n",
    "O = np.random.normal(7, 4, N)\n",
    "\n",
    "#True Values\n",
    "b0, b1, b2, b3 = 4, 6, 2, 7\n",
    "\n",
    "P = np.random.normal(5, 2, N) + .2*(e_1+e_2)\n",
    "\n",
    "s = a0 + a1*P + a2*W + a3*H + e_1\n",
    "d = b0 + b1*P +b2*F + b3*O + e_2\n",
    "\n",
    "X_supply = pd.DataFrame({'P': P , 'W':W, 'H':H})\n",
    "X_supply = sm.add_constant(X_supply)\n",
    "model = sm.OLS(s, X_supply)\n",
    "results = model.fit()\n",
    "results.summary()"
   ]
  },
  {
   "cell_type": "markdown",
   "metadata": {},
   "source": [
    "Fitting the equation for demand and we see a similar phenomenon. "
   ]
  },
  {
   "cell_type": "code",
   "execution_count": 252,
   "metadata": {
    "collapsed": false
   },
   "outputs": [
    {
     "data": {
      "text/html": [
       "<table class=\"simpletable\">\n",
       "<caption>OLS Regression Results</caption>\n",
       "<tr>\n",
       "  <th>Dep. Variable:</th>            <td>y</td>        <th>  R-squared:         </th> <td>   0.981</td> \n",
       "</tr>\n",
       "<tr>\n",
       "  <th>Model:</th>                   <td>OLS</td>       <th>  Adj. R-squared:    </th> <td>   0.981</td> \n",
       "</tr>\n",
       "<tr>\n",
       "  <th>Method:</th>             <td>Least Squares</td>  <th>  F-statistic:       </th> <td>1.708e+04</td>\n",
       "</tr>\n",
       "<tr>\n",
       "  <th>Date:</th>             <td>Thu, 11 Feb 2021</td> <th>  Prob (F-statistic):</th>  <td>  0.00</td>  \n",
       "</tr>\n",
       "<tr>\n",
       "  <th>Time:</th>                 <td>22:42:07</td>     <th>  Log-Likelihood:    </th> <td> -3080.9</td> \n",
       "</tr>\n",
       "<tr>\n",
       "  <th>No. Observations:</th>      <td>  1000</td>      <th>  AIC:               </th> <td>   6170.</td> \n",
       "</tr>\n",
       "<tr>\n",
       "  <th>Df Residuals:</th>          <td>   996</td>      <th>  BIC:               </th> <td>   6189.</td> \n",
       "</tr>\n",
       "<tr>\n",
       "  <th>Df Model:</th>              <td>     3</td>      <th>                     </th>     <td> </td>    \n",
       "</tr>\n",
       "<tr>\n",
       "  <th>Covariance Type:</th>      <td>nonrobust</td>    <th>                     </th>     <td> </td>    \n",
       "</tr>\n",
       "</table>\n",
       "<table class=\"simpletable\">\n",
       "<tr>\n",
       "    <td></td>       <th>coef</th>     <th>std err</th>      <th>t</th>      <th>P>|t|</th>  <th>[0.025</th>    <th>0.975]</th>  \n",
       "</tr>\n",
       "<tr>\n",
       "  <th>const</th> <td>   -1.5283</td> <td>    0.606</td> <td>   -2.524</td> <td> 0.012</td> <td>   -2.717</td> <td>   -0.340</td>\n",
       "</tr>\n",
       "<tr>\n",
       "  <th>P</th>     <td>    7.0492</td> <td>    0.060</td> <td>  116.707</td> <td> 0.000</td> <td>    6.931</td> <td>    7.168</td>\n",
       "</tr>\n",
       "<tr>\n",
       "  <th>F</th>     <td>    1.9901</td> <td>    0.024</td> <td>   82.742</td> <td> 0.000</td> <td>    1.943</td> <td>    2.037</td>\n",
       "</tr>\n",
       "<tr>\n",
       "  <th>O</th>     <td>    7.0591</td> <td>    0.042</td> <td>  168.229</td> <td> 0.000</td> <td>    6.977</td> <td>    7.141</td>\n",
       "</tr>\n",
       "</table>\n",
       "<table class=\"simpletable\">\n",
       "<tr>\n",
       "  <th>Omnibus:</th>       <td> 5.970</td> <th>  Durbin-Watson:     </th> <td>   1.976</td>\n",
       "</tr>\n",
       "<tr>\n",
       "  <th>Prob(Omnibus):</th> <td> 0.051</td> <th>  Jarque-Bera (JB):  </th> <td>   7.531</td>\n",
       "</tr>\n",
       "<tr>\n",
       "  <th>Skew:</th>          <td> 0.040</td> <th>  Prob(JB):          </th> <td>  0.0232</td>\n",
       "</tr>\n",
       "<tr>\n",
       "  <th>Kurtosis:</th>      <td> 3.417</td> <th>  Cond. No.          </th> <td>    76.4</td>\n",
       "</tr>\n",
       "</table><br/><br/>Warnings:<br/>[1] Standard Errors assume that the covariance matrix of the errors is correctly specified."
      ],
      "text/plain": [
       "<class 'statsmodels.iolib.summary.Summary'>\n",
       "\"\"\"\n",
       "                            OLS Regression Results                            \n",
       "==============================================================================\n",
       "Dep. Variable:                      y   R-squared:                       0.981\n",
       "Model:                            OLS   Adj. R-squared:                  0.981\n",
       "Method:                 Least Squares   F-statistic:                 1.708e+04\n",
       "Date:                Thu, 11 Feb 2021   Prob (F-statistic):               0.00\n",
       "Time:                        22:42:07   Log-Likelihood:                -3080.9\n",
       "No. Observations:                1000   AIC:                             6170.\n",
       "Df Residuals:                     996   BIC:                             6189.\n",
       "Df Model:                           3                                         \n",
       "Covariance Type:            nonrobust                                         \n",
       "==============================================================================\n",
       "                 coef    std err          t      P>|t|      [0.025      0.975]\n",
       "------------------------------------------------------------------------------\n",
       "const         -1.5283      0.606     -2.524      0.012      -2.717      -0.340\n",
       "P              7.0492      0.060    116.707      0.000       6.931       7.168\n",
       "F              1.9901      0.024     82.742      0.000       1.943       2.037\n",
       "O              7.0591      0.042    168.229      0.000       6.977       7.141\n",
       "==============================================================================\n",
       "Omnibus:                        5.970   Durbin-Watson:                   1.976\n",
       "Prob(Omnibus):                  0.051   Jarque-Bera (JB):                7.531\n",
       "Skew:                           0.040   Prob(JB):                       0.0232\n",
       "Kurtosis:                       3.417   Cond. No.                         76.4\n",
       "==============================================================================\n",
       "\n",
       "Warnings:\n",
       "[1] Standard Errors assume that the covariance matrix of the errors is correctly specified.\n",
       "\"\"\""
      ]
     },
     "execution_count": 252,
     "metadata": {},
     "output_type": "execute_result"
    }
   ],
   "source": [
    "X_demand = pd.DataFrame({'P': P , 'F':F, 'O':O})\n",
    "X_demand = sm.add_constant(X_demand)\n",
    "model = sm.OLS(d, X_demand)\n",
    "results = model.fit()\n",
    "results.summary()"
   ]
  },
  {
   "cell_type": "markdown",
   "metadata": {},
   "source": [
    "All the coefficient estimates are statistically significant and each model has a high R squared figure but both a systemically skewed. "
   ]
  },
  {
   "cell_type": "markdown",
   "metadata": {},
   "source": [
    "## Detour: A simpler Example"
   ]
  },
  {
   "cell_type": "code",
   "execution_count": 618,
   "metadata": {
    "collapsed": false
   },
   "outputs": [],
   "source": [
    "np.random.seed(1235)\n",
    "z = np.random.uniform(0, 1, 1000)\n",
    "e_3 = np.random.normal(0, 3, 1000)\n",
    "e_1 = np.random.normal(0, 1, 1000)\n",
    "x = -1 + 5*z + 2*(e_1) + e_3\n",
    "y = 2 + 3*x + e_3\n",
    "\n",
    "X = pd.DataFrame({'X': x})\n",
    "X = sm.add_constant(X)\n",
    "\n",
    "Z = pd.DataFrame({'Z': z})\n",
    "Z = sm.add_constant(Z)"
   ]
  },
  {
   "cell_type": "markdown",
   "metadata": {},
   "source": [
    "On the OLS linear model $$ Y = \\beta X + \\epsilon $$ the beta coefficients can be estimated as follows: $$ \\hat{\\beta} = (X^{'}X)^{-1}X^{'}y $$ under a number of conditions, but crucially we require that:  $$ E(X'\\epsilon) = 0 $$"
   ]
  },
  {
   "cell_type": "code",
   "execution_count": 619,
   "metadata": {
    "collapsed": false
   },
   "outputs": [
    {
     "data": {
      "text/plain": [
       "array([0.99580253, 3.60164346])"
      ]
     },
     "execution_count": 619,
     "metadata": {},
     "output_type": "execute_result"
    }
   ],
   "source": [
    "beta_hat_OLS = linalg.inv(X.T.dot(X)).dot(X.T).dot(y)\n",
    "beta_hat_OLS"
   ]
  },
  {
   "cell_type": "markdown",
   "metadata": {},
   "source": [
    "The failure of this assumption leads to skewed coefficient estimates. On the IV variable regression model we allow that the last assumption fails, so that: $$ Y = \\beta X + \\psi $$ and we allow that $$ E(X'\\psi) \\neq 0 $$ and choose an instrument Z as a proxy for X so specifically that $$ E(Z'\\psi) = 0$$ then then estimator can be stated: $$ Z'Y = Z'X\\beta + Z'\\psi \\Rightarrow \\hat\\beta =  [X'Z(Z'Z)^{-1}Z'X]^{-1}X'Z(Z'Z)^{-1}Z'y $$"
   ]
  },
  {
   "cell_type": "code",
   "execution_count": 644,
   "metadata": {
    "collapsed": false
   },
   "outputs": [
    {
     "data": {
      "text/plain": [
       "array([2.22432093, 2.84420838])"
      ]
     },
     "execution_count": 644,
     "metadata": {},
     "output_type": "execute_result"
    }
   ],
   "source": [
    "def iv_estimate(Z, X, y):\n",
    "    return linalg.inv(X.T.dot(Z).dot(linalg.inv(Z.T.dot(Z)).dot(Z.T.dot(X)))).dot(X.T.dot(Z).dot(linalg.inv(\n",
    "            Z.T.dot(Z)).dot(Z.T.dot(y))))\n",
    "iv_estimate(Z, X, y)"
   ]
  },
  {
   "cell_type": "markdown",
   "metadata": {},
   "source": [
    "which (a) gives better estimates of the coefficients and can, thankfully, be simplified when we have as many instruments as variables that need to be \"instrumented\" to: $$ (Z'X)^{-1}Z'y$$"
   ]
  },
  {
   "cell_type": "code",
   "execution_count": 620,
   "metadata": {
    "collapsed": false
   },
   "outputs": [
    {
     "data": {
      "text/plain": [
       "array([2.22432093, 2.84420838])"
      ]
     },
     "execution_count": 620,
     "metadata": {},
     "output_type": "execute_result"
    }
   ],
   "source": [
    "linalg.inv(Z.T.dot(X)).dot(Z.T).dot(y)"
   ]
  },
  {
   "cell_type": "code",
   "execution_count": 637,
   "metadata": {
    "collapsed": false
   },
   "outputs": [],
   "source": [
    "def bootstrap_iv_estimator(reps, y, X_in, Z_in=None):\n",
    "    np.random.seed(100)\n",
    "    bs_mat = np.zeros(shape=(reps, X_in.shape[1]))\n",
    "    N = len(y)\n",
    "    if Z_in is None:\n",
    "        Z_in = X_in\n",
    "    for i in range(0, reps):\n",
    "        index_bs = np.random.randint(N, size=N)\n",
    "        y_bs = y[index_bs]\n",
    "        X_bs = X_in.iloc[index_bs,]\n",
    "        Z_bs = Z_in.iloc[index_bs,]\n",
    "        bs_mat[i,] = linalg.inv(Z_bs.T.dot(X_bs)).dot(Z_bs.T).dot(y_bs)\n",
    "    bs_mat = pd.DataFrame(bs_mat, columns = ['const', 'X'])\n",
    "    summary = pd.concat([bs_mat.mean(), bs_mat.std(), bs_mat.quantile(0.05), bs_mat.quantile(0.95)], axis=1)\n",
    "    summary.columns = ['coefs', 'std', '0.05', '0.95']\n",
    "    return summary\n"
   ]
  },
  {
   "cell_type": "code",
   "execution_count": 638,
   "metadata": {
    "collapsed": false
   },
   "outputs": [
    {
     "data": {
      "text/html": [
       "<div>\n",
       "<style scoped>\n",
       "    .dataframe tbody tr th:only-of-type {\n",
       "        vertical-align: middle;\n",
       "    }\n",
       "\n",
       "    .dataframe tbody tr th {\n",
       "        vertical-align: top;\n",
       "    }\n",
       "\n",
       "    .dataframe thead th {\n",
       "        text-align: right;\n",
       "    }\n",
       "</style>\n",
       "<table border=\"1\" class=\"dataframe\">\n",
       "  <thead>\n",
       "    <tr style=\"text-align: right;\">\n",
       "      <th></th>\n",
       "      <th>coefs</th>\n",
       "      <th>std</th>\n",
       "      <th>0.05</th>\n",
       "      <th>0.95</th>\n",
       "    </tr>\n",
       "  </thead>\n",
       "  <tbody>\n",
       "    <tr>\n",
       "      <th>const</th>\n",
       "      <td>0.996938</td>\n",
       "      <td>0.068499</td>\n",
       "      <td>0.892036</td>\n",
       "      <td>1.113305</td>\n",
       "    </tr>\n",
       "    <tr>\n",
       "      <th>X</th>\n",
       "      <td>3.599339</td>\n",
       "      <td>0.014494</td>\n",
       "      <td>3.576504</td>\n",
       "      <td>3.622485</td>\n",
       "    </tr>\n",
       "  </tbody>\n",
       "</table>\n",
       "</div>"
      ],
      "text/plain": [
       "          coefs       std      0.05      0.95\n",
       "const  0.996938  0.068499  0.892036  1.113305\n",
       "X      3.599339  0.014494  3.576504  3.622485"
      ]
     },
     "execution_count": 638,
     "metadata": {},
     "output_type": "execute_result"
    }
   ],
   "source": [
    "estimates = bootstrap_iv_estimator(100, y, X)\n",
    "estimates"
   ]
  },
  {
   "cell_type": "code",
   "execution_count": 639,
   "metadata": {
    "collapsed": false
   },
   "outputs": [
    {
     "data": {
      "text/html": [
       "<div>\n",
       "<style scoped>\n",
       "    .dataframe tbody tr th:only-of-type {\n",
       "        vertical-align: middle;\n",
       "    }\n",
       "\n",
       "    .dataframe tbody tr th {\n",
       "        vertical-align: top;\n",
       "    }\n",
       "\n",
       "    .dataframe thead th {\n",
       "        text-align: right;\n",
       "    }\n",
       "</style>\n",
       "<table border=\"1\" class=\"dataframe\">\n",
       "  <thead>\n",
       "    <tr style=\"text-align: right;\">\n",
       "      <th></th>\n",
       "      <th>coefs</th>\n",
       "      <th>std</th>\n",
       "      <th>0.05</th>\n",
       "      <th>0.95</th>\n",
       "    </tr>\n",
       "  </thead>\n",
       "  <tbody>\n",
       "    <tr>\n",
       "      <th>const</th>\n",
       "      <td>2.220228</td>\n",
       "      <td>0.169027</td>\n",
       "      <td>2.001413</td>\n",
       "      <td>2.465313</td>\n",
       "    </tr>\n",
       "    <tr>\n",
       "      <th>X</th>\n",
       "      <td>2.852359</td>\n",
       "      <td>0.080436</td>\n",
       "      <td>2.732629</td>\n",
       "      <td>2.967042</td>\n",
       "    </tr>\n",
       "  </tbody>\n",
       "</table>\n",
       "</div>"
      ],
      "text/plain": [
       "          coefs       std      0.05      0.95\n",
       "const  2.220228  0.169027  2.001413  2.465313\n",
       "X      2.852359  0.080436  2.732629  2.967042"
      ]
     },
     "execution_count": 639,
     "metadata": {},
     "output_type": "execute_result"
    }
   ],
   "source": [
    "estimates = bootstrap_iv_estimator(100, y, X, Z)\n",
    "estimates"
   ]
  },
  {
   "cell_type": "markdown",
   "metadata": {},
   "source": [
    "## Returning to our model of Supply and Demand"
   ]
  },
  {
   "cell_type": "code",
   "execution_count": 658,
   "metadata": {
    "collapsed": false
   },
   "outputs": [],
   "source": [
    "N = 1000\n",
    "np.random.seed(0)\n",
    "mu, sigma = 0, 7\n",
    "e_1 = np.random.normal(mu, sigma, N)\n",
    "W = np.random.normal(100, 20, N)\n",
    "H = np.random.uniform(0, 10, N)\n",
    "\n",
    "# True Values\n",
    "a0, a1, a2, a3 = 2, 3, 5, 10\n",
    "\n",
    "mu, sigma = 0, 6\n",
    "e_2 = np.random.normal(mu, sigma, N)\n",
    "F = np.random.uniform(6, 30, N)\n",
    "O = np.random.normal(7, 4, N)\n",
    "\n",
    "#True Values\n",
    "b0, b1, b2, b3 = 4, 6, 2, 7\n",
    "\n",
    "P = np.random.normal(5, 2, N) + .2*(e_1+e_2)\n",
    "\n",
    "s = a0 + a1*P + a2*W + a3*H + e_1\n",
    "d = b0 + b1*P +b2*F + b3*O + e_2\n",
    "\n",
    "X_supply = pd.DataFrame({'P': P, 'W':W, 'H': H})\n",
    "X_supply = sm.add_constant(X_supply)\n",
    "\n",
    "Z_supply = pd.DataFrame({'F': F, 'O': O, 'W':W, 'H': H})\n",
    "Z_supply = sm.add_constant(Z_supply)\n"
   ]
  },
  {
   "cell_type": "code",
   "execution_count": 659,
   "metadata": {
    "collapsed": false
   },
   "outputs": [
    {
     "data": {
      "text/plain": [
       "array([1.33465635, 3.32553682, 4.98887685, 9.97598787])"
      ]
     },
     "execution_count": 659,
     "metadata": {},
     "output_type": "execute_result"
    }
   ],
   "source": [
    "iv_estimate(Z_supply, X_supply, s)"
   ]
  },
  {
   "cell_type": "code",
   "execution_count": null,
   "metadata": {
    "collapsed": true
   },
   "outputs": [],
   "source": []
  }
 ],
 "metadata": {
  "kernelspec": {
   "display_name": "examined_algorithms",
   "language": "python",
   "name": "examined_algorithms"
  },
  "language_info": {
   "codemirror_mode": {
    "name": "ipython",
    "version": 3
   },
   "file_extension": ".py",
   "mimetype": "text/x-python",
   "name": "python",
   "nbconvert_exporter": "python",
   "pygments_lexer": "ipython3",
   "version": "3.6.10"
  }
 },
 "nbformat": 4,
 "nbformat_minor": 0
}
