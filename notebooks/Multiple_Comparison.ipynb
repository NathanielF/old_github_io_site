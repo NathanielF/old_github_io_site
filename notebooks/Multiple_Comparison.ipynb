{
 "cells": [
  {
   "cell_type": "markdown",
   "metadata": {},
   "source": [
    "## Problem 1: Power Analysis for the testing of Proportions"
   ]
  },
  {
   "cell_type": "markdown",
   "metadata": {},
   "source": [
    "We're interested in the testing of uplift across two testing arms. This suggests comparison of proportionsand ratios. One simple test is an independence test for proportions. "
   ]
  },
  {
   "cell_type": "code",
   "execution_count": 147,
   "metadata": {
    "collapsed": false
   },
   "outputs": [
    {
     "name": "stdout",
     "output_type": "stream",
     "text": [
      "Test 0.01 < 0.5 : 1.0\n",
      "Test 0.06 < 0.5 : 1.0\n",
      "Test 0.11 < 0.5 : 1.0\n",
      "Test 0.16 < 0.5 : 1.0\n",
      "Test 0.21 < 0.5 : 1.0\n",
      "Test 0.26 < 0.5 : 1.0\n",
      "Test 0.31 < 0.5 : 0.99998\n",
      "Test 0.36 < 0.5 : 0.99823\n",
      "Test 0.41 < 0.5 : 0.96637\n",
      "Test 0.46 < 0.5 : 0.78889\n",
      "Test 0.51 < 0.5 : 0.42072\n",
      "Test 0.56 < 0.5 : 0.11338\n",
      "Test 0.61 < 0.5 : 0.01206\n",
      "Test 0.66 < 0.5 : 0.00037\n",
      "Test 0.71 < 0.5 : 0.0\n",
      "Test 0.76 < 0.5 : 0.0\n",
      "Test 0.81 < 0.5 : 0.0\n",
      "Test 0.86 < 0.5 : 0.0\n",
      "Test 0.91 < 0.5 : 0.0\n",
      "Test 0.96 < 0.5 : 0.0\n"
     ]
    }
   ],
   "source": [
    "from statsmodels.stats.power import NormalIndPower\n",
    "from matplotlib import pyplot as plt\n",
    "count = np.arange(1, 100, 5)\n",
    "nobs = [100]*len(count)\n",
    "value = .5 ## Null proportion\n",
    "for i in range(len(count)):\n",
    "    stat, pval = proportions_ztest(count[i], nobs[i], value, alternative='larger')\n",
    "    p = count[i] / nobs[i]\n",
    "    res = \"Test {p} < 0.5 : {pval}\".format(p=p, pval=round(pval, 5))\n",
    "    print(res)"
   ]
  },
  {
   "cell_type": "markdown",
   "metadata": {},
   "source": [
    "Once we've observed a specific uplift we're interested in testing whether the observation is robust i.e. how much confidence should we have that the result reflects a genuine difference. Traditional frequentist tests use an effect size analysis to underwrite the conclusion of above tests. The strategy assumes a fixed value for statistical power: the probability of accepting the alternative hypothesis if it is true, and derives the value for a required sample size. "
   ]
  },
  {
   "cell_type": "code",
   "execution_count": 122,
   "metadata": {
    "collapsed": false
   },
   "outputs": [
    {
     "data": {
      "text/html": [
       "<div>\n",
       "<style scoped>\n",
       "    .dataframe tbody tr th:only-of-type {\n",
       "        vertical-align: middle;\n",
       "    }\n",
       "\n",
       "    .dataframe tbody tr th {\n",
       "        vertical-align: top;\n",
       "    }\n",
       "\n",
       "    .dataframe thead th {\n",
       "        text-align: right;\n",
       "    }\n",
       "</style>\n",
       "<table border=\"1\" class=\"dataframe\">\n",
       "  <thead>\n",
       "    <tr style=\"text-align: right;\">\n",
       "      <th></th>\n",
       "      <th>ef</th>\n",
       "      <th>samples</th>\n",
       "    </tr>\n",
       "  </thead>\n",
       "  <tbody>\n",
       "    <tr>\n",
       "      <th>0</th>\n",
       "      <td>0.01</td>\n",
       "      <td>171276.947013</td>\n",
       "    </tr>\n",
       "    <tr>\n",
       "      <th>1</th>\n",
       "      <td>0.02</td>\n",
       "      <td>42819.236753</td>\n",
       "    </tr>\n",
       "    <tr>\n",
       "      <th>2</th>\n",
       "      <td>0.05</td>\n",
       "      <td>6851.077881</td>\n",
       "    </tr>\n",
       "    <tr>\n",
       "      <th>3</th>\n",
       "      <td>0.10</td>\n",
       "      <td>1712.769470</td>\n",
       "    </tr>\n",
       "    <tr>\n",
       "      <th>4</th>\n",
       "      <td>0.20</td>\n",
       "      <td>428.192369</td>\n",
       "    </tr>\n",
       "    <tr>\n",
       "      <th>5</th>\n",
       "      <td>0.30</td>\n",
       "      <td>190.307719</td>\n",
       "    </tr>\n",
       "  </tbody>\n",
       "</table>\n",
       "</div>"
      ],
      "text/plain": [
       "     ef        samples\n",
       "0  0.01  171276.947013\n",
       "1  0.02   42819.236753\n",
       "2  0.05    6851.077881\n",
       "3  0.10    1712.769470\n",
       "4  0.20     428.192369\n",
       "5  0.30     190.307719"
      ]
     },
     "execution_count": 122,
     "metadata": {},
     "output_type": "execute_result"
    }
   ],
   "source": [
    "from statsmodels.stats.power import zt_ind_solve_power\n",
    "from statsmodels.stats.proportion import proportions_ztest\n",
    "\n",
    "efs = [0.01, 0.02, 0.05, 0.1, 0.2, 0.3]\n",
    "sample_required = []\n",
    "for e in efs:\n",
    "    s=zt_ind_solve_power(effect_size=e, power=.9, alpha=0.05, alternative='larger')\n",
    "    sample_required.append(s)\n",
    "    \n",
    "df_e = pd.DataFrame({'ef': efs, 'samples': sample_required})\n",
    "df_e"
   ]
  },
  {
   "cell_type": "markdown",
   "metadata": {},
   "source": [
    "These figures show that we can with the volume of our data arrive at large enough samples to justify the application of these effect sizes."
   ]
  },
  {
   "cell_type": "code",
   "execution_count": 149,
   "metadata": {
    "collapsed": false
   },
   "outputs": [
    {
     "data": {
      "text/plain": [
       "<AxesSubplot:xlabel='ef', ylabel='samples'>"
      ]
     },
     "execution_count": 149,
     "metadata": {},
     "output_type": "execute_result"
    },
    {
     "data": {
      "image/png": "[encoded data removed]",
      "text/plain": [
       "<Figure size 1440x720 with 1 Axes>"
      ]
     },
     "metadata": {
      "needs_background": "light"
     },
     "output_type": "display_data"
    }
   ],
   "source": [
    "df_e.plot.scatter(x='ef', y='samples', figsize=(20, 10), style='l')"
   ]
  },
  {
   "cell_type": "markdown",
   "metadata": {},
   "source": [
    "### Potential Solution: Be explicit about expected effect size and only evaluate where sample size is achieved\n"
   ]
  },
  {
   "cell_type": "markdown",
   "metadata": {},
   "source": [
    "## Problem 2: Multiple Comparisons"
   ]
  },
  {
   "cell_type": "code",
   "execution_count": 42,
   "metadata": {
    "collapsed": false
   },
   "outputs": [
    {
     "data": {
      "text/plain": [
       "<matplotlib.lines.Line2D at 0x142ad1ac8>"
      ]
     },
     "execution_count": 42,
     "metadata": {},
     "output_type": "execute_result"
    },
    {
     "data": {
      "image/png": "[encoded data removed]",
      "text/plain": [
       "<Figure size 432x288 with 1 Axes>"
      ]
     },
     "metadata": {
      "needs_background": "light"
     },
     "output_type": "display_data"
    }
   ],
   "source": [
    "from statsmodels.stats.weightstats import ttest_ind\n",
    "import numpy as n\n",
    "import pandas as pd\n",
    "significance = 0.05\n",
    "n_comparisons = 10000\n",
    "\n",
    "p_values = []\n",
    "for i in range(n_comparisons):  \n",
    "    norm1 = np.random.normal(8, 1, 100)\n",
    "    norm2 = np.random.normal(8, 1, 100)\n",
    "    pvalue = ttest_ind(norm1, norm2, 'two-sided')\n",
    "    p_values.append(pvalue[1])\n",
    "\n",
    "plt.hist(p_values)\n",
    "plt.title(\"Distribution of the p-value for repeated t-tests on  identical distributions\")\n",
    "plt.suptitle(\"The Garden of Forking Paths\")\n",
    "plt.axvline(significance, c='red')"
   ]
  },
  {
   "cell_type": "code",
   "execution_count": 33,
   "metadata": {},
   "outputs": [
    {
     "data": {
      "text/plain": [
       "0.5172252933836022"
      ]
     },
     "execution_count": 33,
     "metadata": {},
     "output_type": "execute_result"
    }
   ],
   "source": [
    "pvalue[0]"
   ]
  },
  {
   "cell_type": "markdown",
   "metadata": {},
   "source": [
    "### Potential Solution Family Error Rate Analysis and P-value Corrections"
   ]
  },
  {
   "cell_type": "code",
   "execution_count": 175,
   "metadata": {
    "collapsed": false
   },
   "outputs": [
    {
     "data": {
      "text/html": [
       "<div>\n",
       "<style scoped>\n",
       "    .dataframe tbody tr th:only-of-type {\n",
       "        vertical-align: middle;\n",
       "    }\n",
       "\n",
       "    .dataframe tbody tr th {\n",
       "        vertical-align: top;\n",
       "    }\n",
       "\n",
       "    .dataframe thead th {\n",
       "        text-align: right;\n",
       "    }\n",
       "</style>\n",
       "<table border=\"1\" class=\"dataframe\">\n",
       "  <thead>\n",
       "    <tr style=\"text-align: right;\">\n",
       "      <th></th>\n",
       "      <th>id</th>\n",
       "      <th>treatment</th>\n",
       "      <th>result</th>\n",
       "    </tr>\n",
       "  </thead>\n",
       "  <tbody>\n",
       "    <tr>\n",
       "      <th>0</th>\n",
       "      <td>0</td>\n",
       "      <td>treatment1</td>\n",
       "      <td>12.513235</td>\n",
       "    </tr>\n",
       "    <tr>\n",
       "      <th>1</th>\n",
       "      <td>0</td>\n",
       "      <td>treatment2</td>\n",
       "      <td>13.548095</td>\n",
       "    </tr>\n",
       "    <tr>\n",
       "      <th>2</th>\n",
       "      <td>0</td>\n",
       "      <td>treatment3</td>\n",
       "      <td>9.976199</td>\n",
       "    </tr>\n",
       "    <tr>\n",
       "      <th>3</th>\n",
       "      <td>0</td>\n",
       "      <td>treatment4</td>\n",
       "      <td>15.225109</td>\n",
       "    </tr>\n",
       "    <tr>\n",
       "      <th>4</th>\n",
       "      <td>1</td>\n",
       "      <td>treatment1</td>\n",
       "      <td>11.127143</td>\n",
       "    </tr>\n",
       "    <tr>\n",
       "      <th>5</th>\n",
       "      <td>1</td>\n",
       "      <td>treatment2</td>\n",
       "      <td>12.053641</td>\n",
       "    </tr>\n",
       "    <tr>\n",
       "      <th>6</th>\n",
       "      <td>1</td>\n",
       "      <td>treatment3</td>\n",
       "      <td>15.609431</td>\n",
       "    </tr>\n",
       "    <tr>\n",
       "      <th>7</th>\n",
       "      <td>1</td>\n",
       "      <td>treatment4</td>\n",
       "      <td>11.086977</td>\n",
       "    </tr>\n",
       "  </tbody>\n",
       "</table>\n",
       "</div>"
      ],
      "text/plain": [
       "   id   treatment     result\n",
       "0   0  treatment1  12.513235\n",
       "1   0  treatment2  13.548095\n",
       "2   0  treatment3   9.976199\n",
       "3   0  treatment4  15.225109\n",
       "4   1  treatment1  11.127143\n",
       "5   1  treatment2  12.053641\n",
       "6   1  treatment3  15.609431\n",
       "7   1  treatment4  11.086977"
      ]
     },
     "execution_count": 175,
     "metadata": {},
     "output_type": "execute_result"
    }
   ],
   "source": [
    "mu, sigma = 10, 3 # mean and standard deviation\n",
    "group1 = np.random.normal(mu, sigma, 50)\n",
    "\n",
    "mu, sigma = 11, 3 # mean and standard deviation\n",
    "group2 = np.random.normal(mu, sigma, 50)\n",
    "\n",
    "mu, sigma = 12, 3 # mean and standard deviation\n",
    "group3 = np.random.normal(mu, sigma, 50)\n",
    "\n",
    "mu, sigma = 13, 3 # mean and standard deviation\n",
    "group4 = np.random.normal(mu, sigma, 50)\n",
    "\n",
    "\n",
    "df = pd.DataFrame()\n",
    "df['treatment1'] = group1\n",
    "df['treatment2'] = group2\n",
    "df['treatment3'] = group3\n",
    "df['treatment4'] = group4\n",
    "\n",
    "# Stack the data (and rename columns):\n",
    "\n",
    "stacked_data = df.stack().reset_index()\n",
    "stacked_data = stacked_data.rename(columns={'level_0': 'id',\n",
    "                                            'level_1': 'treatment',\n",
    "                                             0:'result'})\n",
    "# Show the first 8 rows:\n",
    "\n",
    "stacked_data.head(8)"
   ]
  },
  {
   "cell_type": "code",
   "execution_count": 176,
   "metadata": {
    "collapsed": false
   },
   "outputs": [
    {
     "data": {
      "text/html": [
       "<table class=\"simpletable\">\n",
       "<caption>Multiple Comparison of Means - Tukey HSD, FWER=0.05</caption>\n",
       "<tr>\n",
       "    <th>group1</th>     <th>group2</th>   <th>meandiff</th>  <th>p-adj</th>  <th>lower</th>   <th>upper</th> <th>reject</th>\n",
       "</tr>\n",
       "<tr>\n",
       "  <td>treatment1</td> <td>treatment2</td>  <td>0.2546</td>    <td>0.9</td>  <td>-1.4378</td>  <td>1.947</td>  <td>False</td>\n",
       "</tr>\n",
       "<tr>\n",
       "  <td>treatment1</td> <td>treatment3</td>  <td>1.7787</td>  <td>0.0352</td> <td>0.0863</td>   <td>3.471</td>  <td>True</td> \n",
       "</tr>\n",
       "<tr>\n",
       "  <td>treatment1</td> <td>treatment4</td>  <td>2.9043</td>   <td>0.001</td> <td>1.2119</td>  <td>4.5967</td>  <td>True</td> \n",
       "</tr>\n",
       "<tr>\n",
       "  <td>treatment2</td> <td>treatment3</td>  <td>1.5241</td>  <td>0.0939</td> <td>-0.1683</td> <td>3.2165</td>  <td>False</td>\n",
       "</tr>\n",
       "<tr>\n",
       "  <td>treatment2</td> <td>treatment4</td>  <td>2.6497</td>   <td>0.001</td> <td>0.9573</td>  <td>4.3421</td>  <td>True</td> \n",
       "</tr>\n",
       "<tr>\n",
       "  <td>treatment3</td> <td>treatment4</td>  <td>1.1256</td>  <td>0.3144</td> <td>-0.5668</td>  <td>2.818</td>  <td>False</td>\n",
       "</tr>\n",
       "</table>"
      ],
      "text/plain": [
       "<class 'statsmodels.iolib.table.SimpleTable'>"
      ]
     },
     "execution_count": 176,
     "metadata": {},
     "output_type": "execute_result"
    }
   ],
   "source": [
    "from statsmodels.sandbox.stats.multicomp import MultiComparison\n",
    "# Set up the data for comparison (creates a specialised object)\n",
    "MultiComp = MultiComparison(stacked_data['result'],\n",
    "                            stacked_data['treatment'])\n",
    "\n",
    "# Show all pair-wise comparisons:\n",
    "\n",
    "# Print the comparisons\n",
    "\n",
    "MultiComp.tukeyhsd().summary()"
   ]
  },
  {
   "cell_type": "markdown",
   "metadata": {},
   "source": [
    "ANOVA analysis uses an F test to determine if group participation has significant differences on an outcome"
   ]
  },
  {
   "cell_type": "code",
   "execution_count": 208,
   "metadata": {
    "collapsed": false
   },
   "outputs": [
    {
     "data": {
      "text/html": [
       "<div>\n",
       "<style scoped>\n",
       "    .dataframe tbody tr th:only-of-type {\n",
       "        vertical-align: middle;\n",
       "    }\n",
       "\n",
       "    .dataframe tbody tr th {\n",
       "        vertical-align: top;\n",
       "    }\n",
       "\n",
       "    .dataframe thead th {\n",
       "        text-align: right;\n",
       "    }\n",
       "</style>\n",
       "<table border=\"1\" class=\"dataframe\">\n",
       "  <thead>\n",
       "    <tr style=\"text-align: right;\">\n",
       "      <th></th>\n",
       "      <th>sum_sq</th>\n",
       "      <th>df</th>\n",
       "      <th>F</th>\n",
       "      <th>PR(&gt;F)</th>\n",
       "    </tr>\n",
       "  </thead>\n",
       "  <tbody>\n",
       "    <tr>\n",
       "      <th>C(treatment)</th>\n",
       "      <td>278.424033</td>\n",
       "      <td>3.0</td>\n",
       "      <td>8.703554</td>\n",
       "      <td>0.000019</td>\n",
       "    </tr>\n",
       "    <tr>\n",
       "      <th>Residual</th>\n",
       "      <td>2089.993358</td>\n",
       "      <td>196.0</td>\n",
       "      <td>NaN</td>\n",
       "      <td>NaN</td>\n",
       "    </tr>\n",
       "  </tbody>\n",
       "</table>\n",
       "</div>"
      ],
      "text/plain": [
       "                   sum_sq     df         F    PR(>F)\n",
       "C(treatment)   278.424033    3.0  8.703554  0.000019\n",
       "Residual      2089.993358  196.0       NaN       NaN"
      ]
     },
     "execution_count": 208,
     "metadata": {},
     "output_type": "execute_result"
    }
   ],
   "source": [
    "import statsmodels.api as sm\n",
    "from statsmodels.formula.api import ols\n",
    "\n",
    "model = ols('result ~ C(treatment)', data=stacked_data).fit()\n",
    "anova_table = sm.stats.anova_lm(model, typ=2)\n",
    "anova_table"
   ]
  },
  {
   "cell_type": "markdown",
   "metadata": {},
   "source": [
    "A more complex example with interaction effects between groups"
   ]
  },
  {
   "cell_type": "code",
   "execution_count": 214,
   "metadata": {
    "collapsed": false
   },
   "outputs": [
    {
     "data": {
      "text/html": [
       "<div>\n",
       "<style scoped>\n",
       "    .dataframe tbody tr th:only-of-type {\n",
       "        vertical-align: middle;\n",
       "    }\n",
       "\n",
       "    .dataframe tbody tr th {\n",
       "        vertical-align: top;\n",
       "    }\n",
       "\n",
       "    .dataframe thead th {\n",
       "        text-align: right;\n",
       "    }\n",
       "</style>\n",
       "<table border=\"1\" class=\"dataframe\">\n",
       "  <thead>\n",
       "    <tr style=\"text-align: right;\">\n",
       "      <th></th>\n",
       "      <th>Genotype</th>\n",
       "      <th>years</th>\n",
       "      <th>value</th>\n",
       "    </tr>\n",
       "  </thead>\n",
       "  <tbody>\n",
       "    <tr>\n",
       "      <th>0</th>\n",
       "      <td>A</td>\n",
       "      <td>1_year</td>\n",
       "      <td>1.53</td>\n",
       "    </tr>\n",
       "    <tr>\n",
       "      <th>1</th>\n",
       "      <td>A</td>\n",
       "      <td>1_year</td>\n",
       "      <td>1.83</td>\n",
       "    </tr>\n",
       "    <tr>\n",
       "      <th>2</th>\n",
       "      <td>A</td>\n",
       "      <td>1_year</td>\n",
       "      <td>1.38</td>\n",
       "    </tr>\n",
       "    <tr>\n",
       "      <th>3</th>\n",
       "      <td>B</td>\n",
       "      <td>1_year</td>\n",
       "      <td>3.60</td>\n",
       "    </tr>\n",
       "    <tr>\n",
       "      <th>4</th>\n",
       "      <td>B</td>\n",
       "      <td>1_year</td>\n",
       "      <td>2.94</td>\n",
       "    </tr>\n",
       "  </tbody>\n",
       "</table>\n",
       "</div>"
      ],
      "text/plain": [
       "  Genotype   years  value\n",
       "0        A  1_year   1.53\n",
       "1        A  1_year   1.83\n",
       "2        A  1_year   1.38\n",
       "3        B  1_year   3.60\n",
       "4        B  1_year   2.94"
      ]
     },
     "execution_count": 214,
     "metadata": {},
     "output_type": "execute_result"
    }
   ],
   "source": [
    "d = pd.read_csv(\"https://reneshbedre.github.io/assets/posts/anova/twowayanova.txt\", sep=\"\\t\")\n",
    "d_melt = pd.melt(d, id_vars=['Genotype'], value_vars=['1_year', '2_year', '3_year'])\n",
    "# replace column names\n",
    "d_melt.columns = ['Genotype', 'years', 'value']\n",
    "d_melt.head()"
   ]
  },
  {
   "cell_type": "code",
   "execution_count": 221,
   "metadata": {
    "collapsed": false
   },
   "outputs": [
    {
     "data": {
      "text/html": [
       "<div>\n",
       "<style scoped>\n",
       "    .dataframe tbody tr th:only-of-type {\n",
       "        vertical-align: middle;\n",
       "    }\n",
       "\n",
       "    .dataframe tbody tr th {\n",
       "        vertical-align: top;\n",
       "    }\n",
       "\n",
       "    .dataframe thead th {\n",
       "        text-align: right;\n",
       "    }\n",
       "</style>\n",
       "<table border=\"1\" class=\"dataframe\">\n",
       "  <thead>\n",
       "    <tr style=\"text-align: right;\">\n",
       "      <th></th>\n",
       "      <th>sum_sq</th>\n",
       "      <th>df</th>\n",
       "      <th>F</th>\n",
       "      <th>PR(&gt;F)</th>\n",
       "    </tr>\n",
       "  </thead>\n",
       "  <tbody>\n",
       "    <tr>\n",
       "      <th>C(Genotype)</th>\n",
       "      <td>58.551733</td>\n",
       "      <td>5.0</td>\n",
       "      <td>32.748581</td>\n",
       "      <td>1.931655e-12</td>\n",
       "    </tr>\n",
       "    <tr>\n",
       "      <th>C(years)</th>\n",
       "      <td>278.925633</td>\n",
       "      <td>2.0</td>\n",
       "      <td>390.014868</td>\n",
       "      <td>4.006243e-25</td>\n",
       "    </tr>\n",
       "    <tr>\n",
       "      <th>C(Genotype):C(years)</th>\n",
       "      <td>17.122967</td>\n",
       "      <td>10.0</td>\n",
       "      <td>4.788525</td>\n",
       "      <td>2.230094e-04</td>\n",
       "    </tr>\n",
       "    <tr>\n",
       "      <th>Residual</th>\n",
       "      <td>12.873000</td>\n",
       "      <td>36.0</td>\n",
       "      <td>NaN</td>\n",
       "      <td>NaN</td>\n",
       "    </tr>\n",
       "  </tbody>\n",
       "</table>\n",
       "</div>"
      ],
      "text/plain": [
       "                          sum_sq    df           F        PR(>F)\n",
       "C(Genotype)            58.551733   5.0   32.748581  1.931655e-12\n",
       "C(years)              278.925633   2.0  390.014868  4.006243e-25\n",
       "C(Genotype):C(years)   17.122967  10.0    4.788525  2.230094e-04\n",
       "Residual               12.873000  36.0         NaN           NaN"
      ]
     },
     "execution_count": 221,
     "metadata": {},
     "output_type": "execute_result"
    }
   ],
   "source": [
    "model = ols('value ~ C(Genotype) + C(years) + C(Genotype):C(years)', data=d_melt).fit()\n",
    "anova_table = sm.stats.anova_lm(model, typ=2)\n",
    "anova_table"
   ]
  },
  {
   "cell_type": "code",
   "execution_count": null,
   "metadata": {
    "collapsed": false
   },
   "outputs": [],
   "source": []
  },
  {
   "cell_type": "code",
   "execution_count": 225,
   "metadata": {
    "collapsed": false
   },
   "outputs": [
    {
     "data": {
      "image/png": "[encoded data removed]",
      "text/plain": [
       "<Figure size 1332x756 with 1 Axes>"
      ]
     },
     "metadata": {
      "needs_background": "light"
     },
     "output_type": "display_data"
    }
   ],
   "source": [
    "from statsmodels.graphics.factorplots import interaction_plot\n",
    "fig = interaction_plot(x=d_melt['Genotype'], trace=d_melt['years'], response=d_melt['value'], \n",
    "    colors=['#4c061d','#d17a22', '#b4c292'])\n",
    "fig.set_size_inches(18.5, 10.5)\n",
    "plt.show()"
   ]
  },
  {
   "cell_type": "code",
   "execution_count": null,
   "metadata": {
    "collapsed": true
   },
   "outputs": [],
   "source": []
  }
 ],
 "metadata": {
  "interpreter": {
   "hash": "3552d286ad2119309fa02a1b0031231182dbab763cc228ad3b9a473ea1ffde22"
  },
  "kernelspec": {
   "display_name": "examined_algorithms",
   "language": "python",
   "name": "python3"
  },
  "language_info": {
   "codemirror_mode": {
    "name": "ipython",
    "version": 3
   },
   "file_extension": ".py",
   "mimetype": "text/x-python",
   "name": "python",
   "nbconvert_exporter": "python",
   "pygments_lexer": "ipython3",
   "version": "3.6.10"
  }
 },
 "nbformat": 4,
 "nbformat_minor": 0
}
